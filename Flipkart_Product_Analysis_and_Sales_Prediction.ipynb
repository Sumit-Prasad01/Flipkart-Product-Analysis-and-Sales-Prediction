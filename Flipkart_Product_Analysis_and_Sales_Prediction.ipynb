{
  "cells": [
    {
      "cell_type": "markdown",
      "metadata": {
        "id": "vncDsAP0Gaoa"
      },
      "source": [
        "# **Project Name**    -     Flipkart Product Analysis and Sales Prediction\n",
        "\n"
      ]
    },
    {
      "cell_type": "markdown",
      "metadata": {
        "id": "beRrZCGUAJYm"
      },
      "source": [
        "##### **Project Type**    - EDA/Regression/Classification/Unsupervised\n",
        "##### **Contribution**    - Individual/Team\n",
        "##### **Team Member 1 -**\n",
        "##### **Team Member 2 -**\n",
        "##### **Team Member 3 -**\n",
        "##### **Team Member 4 -**"
      ]
    },
    {
      "cell_type": "markdown",
      "metadata": {
        "id": "FJNUwmbgGyua"
      },
      "source": [
        "# **Project Summary -**"
      ]
    },
    {
      "cell_type": "markdown",
      "metadata": {
        "id": "F6v_1wHtG2nS"
      },
      "source": [
        "Write the summary here within 500-600 words."
      ]
    },
    {
      "cell_type": "markdown",
      "metadata": {
        "id": "w6K7xa23Elo4"
      },
      "source": [
        "# **GitHub Link -**"
      ]
    },
    {
      "cell_type": "markdown",
      "metadata": {
        "id": "h1o69JH3Eqqn"
      },
      "source": [
        "Provide your GitHub Link here.\n",
        " - https://github.com/Sumit-Prasad01/Flipkart-Product-Analysis-and-Sales-Prediction\n",
        "\n"
      ]
    },
    {
      "cell_type": "markdown",
      "metadata": {
        "id": "yQaldy8SH6Dl"
      },
      "source": [
        "# **Problem Statement**\n"
      ]
    },
    {
      "cell_type": "markdown",
      "metadata": {
        "id": "DpeJGUA3kjGy"
      },
      "source": [
        "**Write Problem Statement Here.**\n",
        "\n",
        "## Problem Statement:\n",
        "The goal of the project is to analyze customer support interactions from Flipkart and predict whether a customer support ticket will be escalated or not. This involves using data analysis and machine learning to help Flipkart improve how they handle customer queries and reduce escalations.\n",
        "\n",
        "### The objective is to:\n",
        "\n",
        "- Customers raise support tickets when they face issues (e.g., late delivery, wrong product).\n",
        "\n",
        "- Some of these tickets are resolved quickly, while others get escalated (i.e., sent to a higher level of support).\n",
        "\n",
        "- Escalated tickets mean more cost, more time, and frustrated customers."
      ]
    },
    {
      "cell_type": "markdown",
      "metadata": {
        "id": "mDgbUHAGgjLW"
      },
      "source": [
        "# **General Guidelines** : -  "
      ]
    },
    {
      "cell_type": "markdown",
      "metadata": {
        "id": "ZrxVaUj-hHfC"
      },
      "source": [
        "1.   Well-structured, formatted, and commented code is required.\n",
        "2.   Exception Handling, Production Grade Code & Deployment Ready Code will be a plus. Those students will be awarded some additional credits.\n",
        "     \n",
        "     The additional credits will have advantages over other students during Star Student selection.\n",
        "       \n",
        "             [ Note: - Deployment Ready Code is defined as, the whole .ipynb notebook should be executable in one go\n",
        "                       without a single error logged. ]\n",
        "\n",
        "3.   Each and every logic should have proper comments.\n",
        "4. You may add as many number of charts you want. Make Sure for each and every chart the following format should be answered.\n",
        "        \n",
        "\n",
        "```\n",
        "# Chart visualization code\n",
        "```\n",
        "            \n",
        "\n",
        "*   Why did you pick the specific chart?\n",
        "*   What is/are the insight(s) found from the chart?\n",
        "* Will the gained insights help creating a positive business impact?\n",
        "Are there any insights that lead to negative growth? Justify with specific reason.\n",
        "\n",
        "5. You have to create at least 15 logical & meaningful charts having important insights.\n",
        "\n",
        "\n",
        "[ Hints : - Do the Vizualization in  a structured way while following \"UBM\" Rule.\n",
        "\n",
        "U - Univariate Analysis,\n",
        "\n",
        "B - Bivariate Analysis (Numerical - Categorical, Numerical - Numerical, Categorical - Categorical)\n",
        "\n",
        "M - Multivariate Analysis\n",
        " ]\n",
        "\n",
        "\n",
        "\n",
        "\n",
        "\n",
        "6. You may add more ml algorithms for model creation. Make sure for each and every algorithm, the following format should be answered.\n",
        "\n",
        "\n",
        "*   Explain the ML Model used and it's performance using Evaluation metric Score Chart.\n",
        "\n",
        "\n",
        "*   Cross- Validation & Hyperparameter Tuning\n",
        "\n",
        "*   Have you seen any improvement? Note down the improvement with updates Evaluation metric Score Chart.\n",
        "\n",
        "*   Explain each evaluation metric's indication towards business and the business impact pf the ML model used.\n",
        "\n",
        "\n",
        "\n",
        "\n",
        "\n",
        "\n",
        "\n",
        "\n",
        "\n",
        "\n",
        "\n",
        "\n",
        "\n",
        "\n",
        "\n",
        "\n",
        "\n",
        "\n"
      ]
    },
    {
      "cell_type": "markdown",
      "metadata": {
        "id": "O_i_v8NEhb9l"
      },
      "source": [
        "# ***Let's Begin !***"
      ]
    },
    {
      "cell_type": "markdown",
      "metadata": {
        "id": "HhfV-JJviCcP"
      },
      "source": [
        "## ***1. Know Your Data***"
      ]
    },
    {
      "cell_type": "markdown",
      "metadata": {
        "id": "Y3lxredqlCYt"
      },
      "source": [
        "### Import Libraries"
      ]
    },
    {
      "cell_type": "code",
      "execution_count": 1,
      "execution_count": 2,
      "metadata": {
        "id": "M8Vqi-pPk-HR"
      },
      "outputs": [],
      "source": [
        "# Import Libraries\n",
        "import numpy as np\n",
        "import pandas as pd\n",
        "import sklearn\n",
        "import matplotlib.pyplot as plt\n",
        "import seaborn as sns\n",
        "%matplotlib inline"
      ]
    },
    {
      "cell_type": "markdown",
      "metadata": {
        "id": "3RnN4peoiCZX"
      },
      "source": [
        "### Dataset Loading"
      ]
    },
    {
      "cell_type": "code",
      "execution_count": 2,
      "execution_count": 3,
      "metadata": {
        "id": "4CkvbW_SlZ_R"
      },
      "outputs": [],
      "source": [
        "# Load Dataset\n",
        "data = pd.read_csv(\"data/Customer_support_data.csv\")"
      ]
    },
    {
      "cell_type": "markdown",
      "metadata": {
        "id": "x71ZqKXriCWQ"
      },
      "source": [
        "### Dataset First View"
      ]
    },
    {
      "cell_type": "code",
      "execution_count": 3,
      "execution_count": 4,
      "metadata": {
        "id": "LWNFOSvLl09H"
      },
      "outputs": [
        {
          "data": {
            "text/html": [
              "<div>\n",
              "<style scoped>\n",
              "    .dataframe tbody tr th:only-of-type {\n",
              "        vertical-align: middle;\n",
              "    }\n",
              "\n",
              "    .dataframe tbody tr th {\n",
              "        vertical-align: top;\n",
              "    }\n",
              "\n",
              "    .dataframe thead th {\n",
              "        text-align: right;\n",
              "    }\n",
              "</style>\n",
              "<table border=\"1\" class=\"dataframe\">\n",
              "  <thead>\n",
              "    <tr style=\"text-align: right;\">\n",
              "      <th></th>\n",
              "      <th>Unique id</th>\n",
              "      <th>channel_name</th>\n",
              "      <th>category</th>\n",
              "      <th>Sub-category</th>\n",
              "      <th>Customer Remarks</th>\n",
              "      <th>Order_id</th>\n",
              "      <th>order_date_time</th>\n",
              "      <th>Issue_reported at</th>\n",
              "      <th>issue_responded</th>\n",
              "      <th>Survey_response_Date</th>\n",
              "      <th>Customer_City</th>\n",
              "      <th>Product_category</th>\n",
              "      <th>Item_price</th>\n",
              "      <th>connected_handling_time</th>\n",
              "      <th>Agent_name</th>\n",
              "      <th>Supervisor</th>\n",
              "      <th>Manager</th>\n",
              "      <th>Tenure Bucket</th>\n",
              "      <th>Agent Shift</th>\n",
              "      <th>CSAT Score</th>\n",
              "    </tr>\n",
              "  </thead>\n",
              "  <tbody>\n",
              "    <tr>\n",
              "      <th>0</th>\n",
              "      <td>7e9ae164-6a8b-4521-a2d4-58f7c9fff13f</td>\n",
              "      <td>Outcall</td>\n",
              "      <td>Product Queries</td>\n",
              "      <td>Life Insurance</td>\n",
              "      <td>NaN</td>\n",
              "      <td>c27c9bb4-fa36-4140-9f1f-21009254ffdb</td>\n",
              "      <td>NaN</td>\n",
              "      <td>01/08/2023 11:13</td>\n",
              "      <td>01/08/2023 11:47</td>\n",
              "      <td>01-Aug-23</td>\n",
              "      <td>NaN</td>\n",
              "      <td>NaN</td>\n",
              "      <td>NaN</td>\n",
              "      <td>NaN</td>\n",
              "      <td>Richard Buchanan</td>\n",
              "      <td>Mason Gupta</td>\n",
              "      <td>Jennifer Nguyen</td>\n",
              "      <td>On Job Training</td>\n",
              "      <td>Morning</td>\n",
              "      <td>5</td>\n",
              "    </tr>\n",
              "    <tr>\n",
              "      <th>1</th>\n",
              "      <td>b07ec1b0-f376-43b6-86df-ec03da3b2e16</td>\n",
              "      <td>Outcall</td>\n",
              "      <td>Product Queries</td>\n",
              "      <td>Product Specific Information</td>\n",
              "      <td>NaN</td>\n",
              "      <td>d406b0c7-ce17-4654-b9de-f08d421254bd</td>\n",
              "      <td>NaN</td>\n",
              "      <td>01/08/2023 12:52</td>\n",
              "      <td>01/08/2023 12:54</td>\n",
              "      <td>01-Aug-23</td>\n",
              "      <td>NaN</td>\n",
              "      <td>NaN</td>\n",
              "      <td>NaN</td>\n",
              "      <td>NaN</td>\n",
              "      <td>Vicki Collins</td>\n",
              "      <td>Dylan Kim</td>\n",
              "      <td>Michael Lee</td>\n",
              "      <td>&gt;90</td>\n",
              "      <td>Morning</td>\n",
              "      <td>5</td>\n",
              "    </tr>\n",
              "    <tr>\n",
              "      <th>2</th>\n",
              "      <td>200814dd-27c7-4149-ba2b-bd3af3092880</td>\n",
              "      <td>Inbound</td>\n",
              "      <td>Order Related</td>\n",
              "      <td>Installation/demo</td>\n",
              "      <td>NaN</td>\n",
              "      <td>c273368d-b961-44cb-beaf-62d6fd6c00d5</td>\n",
              "      <td>NaN</td>\n",
              "      <td>01/08/2023 20:16</td>\n",
              "      <td>01/08/2023 20:38</td>\n",
              "      <td>01-Aug-23</td>\n",
              "      <td>NaN</td>\n",
              "      <td>NaN</td>\n",
              "      <td>NaN</td>\n",
              "      <td>NaN</td>\n",
              "      <td>Duane Norman</td>\n",
              "      <td>Jackson Park</td>\n",
              "      <td>William Kim</td>\n",
              "      <td>On Job Training</td>\n",
              "      <td>Evening</td>\n",
              "      <td>5</td>\n",
              "    </tr>\n",
              "    <tr>\n",
              "      <th>3</th>\n",
              "      <td>eb0d3e53-c1ca-42d3-8486-e42c8d622135</td>\n",
              "      <td>Inbound</td>\n",
              "      <td>Returns</td>\n",
              "      <td>Reverse Pickup Enquiry</td>\n",
              "      <td>NaN</td>\n",
              "      <td>5aed0059-55a4-4ec6-bb54-97942092020a</td>\n",
              "      <td>NaN</td>\n",
              "      <td>01/08/2023 20:56</td>\n",
              "      <td>01/08/2023 21:16</td>\n",
              "      <td>01-Aug-23</td>\n",
              "      <td>NaN</td>\n",
              "      <td>NaN</td>\n",
              "      <td>NaN</td>\n",
              "      <td>NaN</td>\n",
              "      <td>Patrick Flores</td>\n",
              "      <td>Olivia Wang</td>\n",
              "      <td>John Smith</td>\n",
              "      <td>&gt;90</td>\n",
              "      <td>Evening</td>\n",
              "      <td>5</td>\n",
              "    </tr>\n",
              "    <tr>\n",
              "      <th>4</th>\n",
              "      <td>ba903143-1e54-406c-b969-46c52f92e5df</td>\n",
              "      <td>Inbound</td>\n",
              "      <td>Cancellation</td>\n",
              "      <td>Not Needed</td>\n",
              "      <td>NaN</td>\n",
              "      <td>e8bed5a9-6933-4aff-9dc6-ccefd7dcde59</td>\n",
              "      <td>NaN</td>\n",
              "      <td>01/08/2023 10:30</td>\n",
              "      <td>01/08/2023 10:32</td>\n",
              "      <td>01-Aug-23</td>\n",
              "      <td>NaN</td>\n",
              "      <td>NaN</td>\n",
              "      <td>NaN</td>\n",
              "      <td>NaN</td>\n",
              "      <td>Christopher Sanchez</td>\n",
              "      <td>Austin Johnson</td>\n",
              "      <td>Michael Lee</td>\n",
              "      <td>0-30</td>\n",
              "      <td>Morning</td>\n",
              "      <td>5</td>\n",
              "    </tr>\n",
              "    <tr>\n",
              "      <th>...</th>\n",
              "      <td>...</td>\n",
              "      <td>...</td>\n",
              "      <td>...</td>\n",
              "      <td>...</td>\n",
              "      <td>...</td>\n",
              "      <td>...</td>\n",
              "      <td>...</td>\n",
              "      <td>...</td>\n",
              "      <td>...</td>\n",
              "      <td>...</td>\n",
              "      <td>...</td>\n",
              "      <td>...</td>\n",
              "      <td>...</td>\n",
              "      <td>...</td>\n",
              "      <td>...</td>\n",
              "      <td>...</td>\n",
              "      <td>...</td>\n",
              "      <td>...</td>\n",
              "      <td>...</td>\n",
              "      <td>...</td>\n",
              "    </tr>\n",
              "    <tr>\n",
              "      <th>85902</th>\n",
              "      <td>505ea5e7-c475-4fac-ac36-1d19a4cb610f</td>\n",
              "      <td>Inbound</td>\n",
              "      <td>Refund Related</td>\n",
              "      <td>Refund Enquiry</td>\n",
              "      <td>NaN</td>\n",
              "      <td>1b5a2b9c-a95f-405f-a42e-5b1b693f3dc9</td>\n",
              "      <td>NaN</td>\n",
              "      <td>30/08/2023 23:20</td>\n",
              "      <td>31/08/2023 07:22</td>\n",
              "      <td>31-Aug-23</td>\n",
              "      <td>NaN</td>\n",
              "      <td>NaN</td>\n",
              "      <td>NaN</td>\n",
              "      <td>NaN</td>\n",
              "      <td>Brandon Leon</td>\n",
              "      <td>Ethan Tan</td>\n",
              "      <td>William Kim</td>\n",
              "      <td>On Job Training</td>\n",
              "      <td>Morning</td>\n",
              "      <td>4</td>\n",
              "    </tr>\n",
              "    <tr>\n",
              "      <th>85903</th>\n",
              "      <td>44b38d3f-1523-4182-aba2-72917586647c</td>\n",
              "      <td>Inbound</td>\n",
              "      <td>Order Related</td>\n",
              "      <td>Seller Cancelled Order</td>\n",
              "      <td>Supported team customer executive   good</td>\n",
              "      <td>d0e8a817-96d5-4ace-bb82-adec50398e22</td>\n",
              "      <td>NaN</td>\n",
              "      <td>31/08/2023 08:15</td>\n",
              "      <td>31/08/2023 08:17</td>\n",
              "      <td>31-Aug-23</td>\n",
              "      <td>NaN</td>\n",
              "      <td>NaN</td>\n",
              "      <td>NaN</td>\n",
              "      <td>NaN</td>\n",
              "      <td>Linda Foster</td>\n",
              "      <td>Noah Patel</td>\n",
              "      <td>Emily Chen</td>\n",
              "      <td>&gt;90</td>\n",
              "      <td>Morning</td>\n",
              "      <td>5</td>\n",
              "    </tr>\n",
              "    <tr>\n",
              "      <th>85904</th>\n",
              "      <td>723bce2c-496c-4aa8-a64b-ca17004528f0</td>\n",
              "      <td>Inbound</td>\n",
              "      <td>Order Related</td>\n",
              "      <td>Order status enquiry</td>\n",
              "      <td>need to improve with proper details.</td>\n",
              "      <td>bdefe788-ccec-4eda-8ca4-51045e68db8a</td>\n",
              "      <td>NaN</td>\n",
              "      <td>31/08/2023 18:57</td>\n",
              "      <td>31/08/2023 19:02</td>\n",
              "      <td>31-Aug-23</td>\n",
              "      <td>NaN</td>\n",
              "      <td>NaN</td>\n",
              "      <td>NaN</td>\n",
              "      <td>NaN</td>\n",
              "      <td>Kimberly Martinez</td>\n",
              "      <td>Aiden Patel</td>\n",
              "      <td>Olivia Tan</td>\n",
              "      <td>On Job Training</td>\n",
              "      <td>Evening</td>\n",
              "      <td>5</td>\n",
              "    </tr>\n",
              "    <tr>\n",
              "      <th>85905</th>\n",
              "      <td>707528ee-6873-4192-bfa9-a491f1c08ab5</td>\n",
              "      <td>Inbound</td>\n",
              "      <td>Feedback</td>\n",
              "      <td>UnProfessional Behaviour</td>\n",
              "      <td>NaN</td>\n",
              "      <td>a031ec28-0c5e-450e-95b2-592342c40bc4</td>\n",
              "      <td>NaN</td>\n",
              "      <td>31/08/2023 19:59</td>\n",
              "      <td>31/08/2023 20:00</td>\n",
              "      <td>31-Aug-23</td>\n",
              "      <td>NaN</td>\n",
              "      <td>NaN</td>\n",
              "      <td>NaN</td>\n",
              "      <td>NaN</td>\n",
              "      <td>Daniel Martin</td>\n",
              "      <td>Olivia Suzuki</td>\n",
              "      <td>Olivia Tan</td>\n",
              "      <td>&gt;90</td>\n",
              "      <td>Morning</td>\n",
              "      <td>4</td>\n",
              "    </tr>\n",
              "    <tr>\n",
              "      <th>85906</th>\n",
              "      <td>07c7a878-0d5a-42e0-97ef-de59abec0238</td>\n",
              "      <td>Inbound</td>\n",
              "      <td>Returns</td>\n",
              "      <td>Reverse Pickup Enquiry</td>\n",
              "      <td>NaN</td>\n",
              "      <td>3230db30-f8da-4c44-8636-ec76d1d3d4f3</td>\n",
              "      <td>NaN</td>\n",
              "      <td>31/08/2023 23:36</td>\n",
              "      <td>31/08/2023 23:37</td>\n",
              "      <td>31-Aug-23</td>\n",
              "      <td>NaN</td>\n",
              "      <td>NaN</td>\n",
              "      <td>NaN</td>\n",
              "      <td>NaN</td>\n",
              "      <td>Elizabeth Guerra</td>\n",
              "      <td>Nathan Patel</td>\n",
              "      <td>Jennifer Nguyen</td>\n",
              "      <td>On Job Training</td>\n",
              "      <td>Evening</td>\n",
              "      <td>5</td>\n",
              "    </tr>\n",
              "  </tbody>\n",
              "</table>\n",
              "<p>85907 rows × 20 columns</p>\n",
              "</div>"
            ],
            "text/plain": [
              "                                  Unique id channel_name         category  \\\n",
              "0      7e9ae164-6a8b-4521-a2d4-58f7c9fff13f      Outcall  Product Queries   \n",
              "1      b07ec1b0-f376-43b6-86df-ec03da3b2e16      Outcall  Product Queries   \n",
              "2      200814dd-27c7-4149-ba2b-bd3af3092880      Inbound    Order Related   \n",
              "3      eb0d3e53-c1ca-42d3-8486-e42c8d622135      Inbound          Returns   \n",
              "4      ba903143-1e54-406c-b969-46c52f92e5df      Inbound     Cancellation   \n",
              "...                                     ...          ...              ...   \n",
              "85902  505ea5e7-c475-4fac-ac36-1d19a4cb610f      Inbound   Refund Related   \n",
              "85903  44b38d3f-1523-4182-aba2-72917586647c      Inbound    Order Related   \n",
              "85904  723bce2c-496c-4aa8-a64b-ca17004528f0      Inbound    Order Related   \n",
              "85905  707528ee-6873-4192-bfa9-a491f1c08ab5      Inbound         Feedback   \n",
              "85906  07c7a878-0d5a-42e0-97ef-de59abec0238      Inbound          Returns   \n",
              "\n",
              "                       Sub-category                          Customer Remarks  \\\n",
              "0                    Life Insurance                                       NaN   \n",
              "1      Product Specific Information                                       NaN   \n",
              "2                 Installation/demo                                       NaN   \n",
              "3            Reverse Pickup Enquiry                                       NaN   \n",
              "4                        Not Needed                                       NaN   \n",
              "...                             ...                                       ...   \n",
              "85902                Refund Enquiry                                       NaN   \n",
              "85903        Seller Cancelled Order  Supported team customer executive   good   \n",
              "85904          Order status enquiry      need to improve with proper details.   \n",
              "85905      UnProfessional Behaviour                                       NaN   \n",
              "85906        Reverse Pickup Enquiry                                       NaN   \n",
              "\n",
              "                                   Order_id order_date_time Issue_reported at  \\\n",
              "0      c27c9bb4-fa36-4140-9f1f-21009254ffdb             NaN  01/08/2023 11:13   \n",
              "1      d406b0c7-ce17-4654-b9de-f08d421254bd             NaN  01/08/2023 12:52   \n",
              "2      c273368d-b961-44cb-beaf-62d6fd6c00d5             NaN  01/08/2023 20:16   \n",
              "3      5aed0059-55a4-4ec6-bb54-97942092020a             NaN  01/08/2023 20:56   \n",
              "4      e8bed5a9-6933-4aff-9dc6-ccefd7dcde59             NaN  01/08/2023 10:30   \n",
              "...                                     ...             ...               ...   \n",
              "85902  1b5a2b9c-a95f-405f-a42e-5b1b693f3dc9             NaN  30/08/2023 23:20   \n",
              "85903  d0e8a817-96d5-4ace-bb82-adec50398e22             NaN  31/08/2023 08:15   \n",
              "85904  bdefe788-ccec-4eda-8ca4-51045e68db8a             NaN  31/08/2023 18:57   \n",
              "85905  a031ec28-0c5e-450e-95b2-592342c40bc4             NaN  31/08/2023 19:59   \n",
              "85906  3230db30-f8da-4c44-8636-ec76d1d3d4f3             NaN  31/08/2023 23:36   \n",
              "\n",
              "        issue_responded Survey_response_Date Customer_City Product_category  \\\n",
              "0      01/08/2023 11:47            01-Aug-23           NaN              NaN   \n",
              "1      01/08/2023 12:54            01-Aug-23           NaN              NaN   \n",
              "2      01/08/2023 20:38            01-Aug-23           NaN              NaN   \n",
              "3      01/08/2023 21:16            01-Aug-23           NaN              NaN   \n",
              "4      01/08/2023 10:32            01-Aug-23           NaN              NaN   \n",
              "...                 ...                  ...           ...              ...   \n",
              "85902  31/08/2023 07:22            31-Aug-23           NaN              NaN   \n",
              "85903  31/08/2023 08:17            31-Aug-23           NaN              NaN   \n",
              "85904  31/08/2023 19:02            31-Aug-23           NaN              NaN   \n",
              "85905  31/08/2023 20:00            31-Aug-23           NaN              NaN   \n",
              "85906  31/08/2023 23:37            31-Aug-23           NaN              NaN   \n",
              "\n",
              "       Item_price  connected_handling_time           Agent_name  \\\n",
              "0             NaN                      NaN     Richard Buchanan   \n",
              "1             NaN                      NaN        Vicki Collins   \n",
              "2             NaN                      NaN         Duane Norman   \n",
              "3             NaN                      NaN       Patrick Flores   \n",
              "4             NaN                      NaN  Christopher Sanchez   \n",
              "...           ...                      ...                  ...   \n",
              "85902         NaN                      NaN         Brandon Leon   \n",
              "85903         NaN                      NaN         Linda Foster   \n",
              "85904         NaN                      NaN    Kimberly Martinez   \n",
              "85905         NaN                      NaN        Daniel Martin   \n",
              "85906         NaN                      NaN     Elizabeth Guerra   \n",
              "\n",
              "           Supervisor          Manager    Tenure Bucket Agent Shift  \\\n",
              "0         Mason Gupta  Jennifer Nguyen  On Job Training     Morning   \n",
              "1           Dylan Kim      Michael Lee              >90     Morning   \n",
              "2        Jackson Park      William Kim  On Job Training     Evening   \n",
              "3         Olivia Wang       John Smith              >90     Evening   \n",
              "4      Austin Johnson      Michael Lee             0-30     Morning   \n",
              "...               ...              ...              ...         ...   \n",
              "85902       Ethan Tan      William Kim  On Job Training     Morning   \n",
              "85903      Noah Patel       Emily Chen              >90     Morning   \n",
              "85904     Aiden Patel       Olivia Tan  On Job Training     Evening   \n",
              "85905   Olivia Suzuki       Olivia Tan              >90     Morning   \n",
              "85906    Nathan Patel  Jennifer Nguyen  On Job Training     Evening   \n",
              "\n",
              "       CSAT Score  \n",
              "0               5  \n",
              "1               5  \n",
              "2               5  \n",
              "3               5  \n",
              "4               5  \n",
              "...           ...  \n",
              "85902           4  \n",
              "85903           5  \n",
              "85904           5  \n",
              "85905           4  \n",
              "85906           5  \n",
              "\n",
              "[85907 rows x 20 columns]"
            ]
          },
          "execution_count": 3,
          "execution_count": 4,
          "metadata": {},
          "output_type": "execute_result"
        }
      ],
      "source": [
        "# Dataset First Look\n",
        "data"
      ]
    },
    {
      "cell_type": "markdown",
      "metadata": {
        "id": "7hBIi_osiCS2"
      },
      "source": [
        "### Dataset Rows & Columns count"
      ]
    },
    {
      "cell_type": "code",
      "execution_count": 4,
      "execution_count": 5,
      "metadata": {
        "id": "Kllu7SJgmLij"
      },
      "outputs": [
        {
          "data": {
            "text/plain": [
              "(85907, 20)"
            ]
          },
          "execution_count": 4,
          "execution_count": 5,
          "metadata": {},
          "output_type": "execute_result"
        }
      ],
      "source": [
        "# Dataset Rows & Columns count\n",
        "data.shape"
      ]
    },
    {
      "cell_type": "markdown",
      "metadata": {
        "id": "JlHwYmJAmNHm"
      },
      "source": [
        "### Dataset Information"
      ]
    },
    {
      "cell_type": "code",
      "execution_count": 5,
      "execution_count": 6,
      "metadata": {
        "id": "e9hRXRi6meOf"
      },
      "outputs": [
        {
          "name": "stdout",
          "output_type": "stream",
          "text": [
            "<class 'pandas.core.frame.DataFrame'>\n",
            "RangeIndex: 85907 entries, 0 to 85906\n",
            "Data columns (total 20 columns):\n",
            " #   Column                   Non-Null Count  Dtype  \n",
            "---  ------                   --------------  -----  \n",
            " 0   Unique id                85907 non-null  object \n",
            " 1   channel_name             85907 non-null  object \n",
            " 2   category                 85907 non-null  object \n",
            " 3   Sub-category             85907 non-null  object \n",
            " 4   Customer Remarks         28742 non-null  object \n",
            " 5   Order_id                 67675 non-null  object \n",
            " 6   order_date_time          17214 non-null  object \n",
            " 7   Issue_reported at        85907 non-null  object \n",
            " 8   issue_responded          85907 non-null  object \n",
            " 9   Survey_response_Date     85907 non-null  object \n",
            " 10  Customer_City            17079 non-null  object \n",
            " 11  Product_category         17196 non-null  object \n",
            " 12  Item_price               17206 non-null  float64\n",
            " 13  connected_handling_time  242 non-null    float64\n",
            " 14  Agent_name               85907 non-null  object \n",
            " 15  Supervisor               85907 non-null  object \n",
            " 16  Manager                  85907 non-null  object \n",
            " 17  Tenure Bucket            85907 non-null  object \n",
            " 18  Agent Shift              85907 non-null  object \n",
            " 19  CSAT Score               85907 non-null  int64  \n",
            "dtypes: float64(2), int64(1), object(17)\n",
            "memory usage: 13.1+ MB\n"
          ]
        }
      ],
      "source": [
        "# Dataset Info\n",
        "data.info()"
      ]
    },
    {
      "cell_type": "markdown",
      "metadata": {
        "id": "35m5QtbWiB9F"
      },
      "source": [
        "#### Duplicate Values"
      ]
    },
    {
      "cell_type": "code",
      "execution_count": 6,
      "execution_count": 7,
      "metadata": {
        "id": "1sLdpKYkmox0"
      },
      "outputs": [
        {
          "name": "stdout",
          "output_type": "stream",
          "text": [
            "Total duplicate rows: 0\n"
          ]
        }
      ],
      "source": [
        "# Dataset Duplicate Value Count\n",
        "duplicate_count = data.duplicated().sum()\n",
        "print(f\"Total duplicate rows: {duplicate_count}\")"
      ]
    },
    {
      "cell_type": "markdown",
      "metadata": {
        "id": "PoPl-ycgm1ru"
      },
      "source": [
        "#### Missing Values/Null Values"
      ]
    },
    {
      "cell_type": "code",
      "execution_count": 7,
      "execution_count": 8,
      "metadata": {
        "id": "GgHWkxvamxVg"
      },
      "outputs": [
        {
          "data": {
            "text/plain": [
              "Unique id                      0\n",
              "channel_name                   0\n",
              "category                       0\n",
              "Sub-category                   0\n",
              "Customer Remarks           57165\n",
              "Order_id                   18232\n",
              "order_date_time            68693\n",
              "Issue_reported at              0\n",
              "issue_responded                0\n",
              "Survey_response_Date           0\n",
              "Customer_City              68828\n",
              "Product_category           68711\n",
              "Item_price                 68701\n",
              "connected_handling_time    85665\n",
              "Agent_name                     0\n",
              "Supervisor                     0\n",
              "Manager                        0\n",
              "Tenure Bucket                  0\n",
              "Agent Shift                    0\n",
              "CSAT Score                     0\n",
              "dtype: int64"
            ]
          },
          "execution_count": 7,
          "execution_count": 8,
          "metadata": {},
          "output_type": "execute_result"
        }
      ],
      "source": [
        "# Missing Values/Null Values Count\n",
        "data.isnull().sum()"
      ]
    },
    {
      "cell_type": "code",
      "execution_count": 8,
      "execution_count": 9,
      "metadata": {
        "id": "3q5wnI3om9sJ"
      },
      "outputs": [
        {
          "data": {
            "image/png": "[encoded data removed]",
            "text/plain": [
              "<Figure size 1000x600 with 1 Axes>"
            ]
          },
          "metadata": {},
          "output_type": "display_data"
        }
      ],
      "source": [
        "# Visualizing the missing values\n",
        "missing = data.isnull().sum()\n",
        "missing = missing[missing > 0]\n",
        "\n",
        "missing.sort_values(ascending=False).plot.bar(figsize=(10, 6), title=\"Missing Values per Column\")\n",
        "plt.ylabel(\"Count of Missing Values\")\n",
        "plt.show()\n",
        "\n"
      ]
    },
    {
      "cell_type": "markdown",
      "metadata": {
        "id": "H0kj-8xxnORC"
      },
      "source": [
        "### What did you know about your dataset?"
      ]
    },
    {
      "cell_type": "markdown",
      "metadata": {
        "id": "gfoNAAC-nUe_"
      },
      "source": [
        "Answer Here\n",
        "The dataset contains 85,907 records and 20 columns, primarily related to customer support interactions. It includes fields like channel_name, category, Sub-category, Order_id, Customer Remarks, support timestamps (issue_reported at, issue_responded), and agent-related metadata (e.g., Agent_name, Supervisor, Manager). The dataset has no duplicate rows, but a significant number of missing values across various columns such as Order_id, Item_price, and Customer_City. It appears to track customer support performance, likely for a retail or insurance business, with feedback captured through CSAT Score and response timelines to assess service quality."
      ]
    },
    {
      "cell_type": "markdown",
      "metadata": {
        "id": "nA9Y7ga8ng1Z"
      },
      "source": [
        "## ***2. Understanding Your Variables***"
      ]
    },
    {
      "cell_type": "code",
      "execution_count": 9,
      "execution_count": 10,
      "metadata": {
        "id": "j7xfkqrt5Ag5"
      },
      "outputs": [
        {
          "data": {
            "text/html": [
              "<div>\n",
              "<style scoped>\n",
              "    .dataframe tbody tr th:only-of-type {\n",
              "        vertical-align: middle;\n",
              "    }\n",
              "\n",
              "    .dataframe tbody tr th {\n",
              "        vertical-align: top;\n",
              "    }\n",
              "\n",
              "    .dataframe thead th {\n",
              "        text-align: right;\n",
              "    }\n",
              "</style>\n",
              "<table border=\"1\" class=\"dataframe\">\n",
              "  <thead>\n",
              "    <tr style=\"text-align: right;\">\n",
              "      <th></th>\n",
              "      <th>No.</th>\n",
              "      <th>Column Names</th>\n",
              "    </tr>\n",
              "  </thead>\n",
              "  <tbody>\n",
              "    <tr>\n",
              "      <th>0</th>\n",
              "      <td>0</td>\n",
              "      <td>Unique id</td>\n",
              "    </tr>\n",
              "    <tr>\n",
              "      <th>1</th>\n",
              "      <td>1</td>\n",
              "      <td>channel_name</td>\n",
              "    </tr>\n",
              "    <tr>\n",
              "      <th>2</th>\n",
              "      <td>2</td>\n",
              "      <td>category</td>\n",
              "    </tr>\n",
              "    <tr>\n",
              "      <th>3</th>\n",
              "      <td>3</td>\n",
              "      <td>Sub-category</td>\n",
              "    </tr>\n",
              "    <tr>\n",
              "      <th>4</th>\n",
              "      <td>4</td>\n",
              "      <td>Customer Remarks</td>\n",
              "    </tr>\n",
              "    <tr>\n",
              "      <th>5</th>\n",
              "      <td>5</td>\n",
              "      <td>Order_id</td>\n",
              "    </tr>\n",
              "    <tr>\n",
              "      <th>6</th>\n",
              "      <td>6</td>\n",
              "      <td>order_date_time</td>\n",
              "    </tr>\n",
              "    <tr>\n",
              "      <th>7</th>\n",
              "      <td>7</td>\n",
              "      <td>Issue_reported at</td>\n",
              "    </tr>\n",
              "    <tr>\n",
              "      <th>8</th>\n",
              "      <td>8</td>\n",
              "      <td>issue_responded</td>\n",
              "    </tr>\n",
              "    <tr>\n",
              "      <th>9</th>\n",
              "      <td>9</td>\n",
              "      <td>Survey_response_Date</td>\n",
              "    </tr>\n",
              "    <tr>\n",
              "      <th>10</th>\n",
              "      <td>10</td>\n",
              "      <td>Customer_City</td>\n",
              "    </tr>\n",
              "    <tr>\n",
              "      <th>11</th>\n",
              "      <td>11</td>\n",
              "      <td>Product_category</td>\n",
              "    </tr>\n",
              "    <tr>\n",
              "      <th>12</th>\n",
              "      <td>12</td>\n",
              "      <td>Item_price</td>\n",
              "    </tr>\n",
              "    <tr>\n",
              "      <th>13</th>\n",
              "      <td>13</td>\n",
              "      <td>connected_handling_time</td>\n",
              "    </tr>\n",
              "    <tr>\n",
              "      <th>14</th>\n",
              "      <td>14</td>\n",
              "      <td>Agent_name</td>\n",
              "    </tr>\n",
              "    <tr>\n",
              "      <th>15</th>\n",
              "      <td>15</td>\n",
              "      <td>Supervisor</td>\n",
              "    </tr>\n",
              "    <tr>\n",
              "      <th>16</th>\n",
              "      <td>16</td>\n",
              "      <td>Manager</td>\n",
              "    </tr>\n",
              "    <tr>\n",
              "      <th>17</th>\n",
              "      <td>17</td>\n",
              "      <td>Tenure Bucket</td>\n",
              "    </tr>\n",
              "    <tr>\n",
              "      <th>18</th>\n",
              "      <td>18</td>\n",
              "      <td>Agent Shift</td>\n",
              "    </tr>\n",
              "    <tr>\n",
              "      <th>19</th>\n",
              "      <td>19</td>\n",
              "      <td>CSAT Score</td>\n",
              "    </tr>\n",
              "  </tbody>\n",
              "</table>\n",
              "</div>"
            ],
            "text/plain": [
              "    No.             Column Names\n",
              "0     0                Unique id\n",
              "1     1             channel_name\n",
              "2     2                 category\n",
              "3     3             Sub-category\n",
              "4     4         Customer Remarks\n",
              "5     5                 Order_id\n",
              "6     6          order_date_time\n",
              "7     7        Issue_reported at\n",
              "8     8          issue_responded\n",
              "9     9     Survey_response_Date\n",
              "10   10            Customer_City\n",
              "11   11         Product_category\n",
              "12   12               Item_price\n",
              "13   13  connected_handling_time\n",
              "14   14               Agent_name\n",
              "15   15               Supervisor\n",
              "16   16                  Manager\n",
              "17   17            Tenure Bucket\n",
              "18   18              Agent Shift\n",
              "19   19               CSAT Score"
            ]
          },
          "execution_count": 9,
          "execution_count": 10,
          "metadata": {},
          "output_type": "execute_result"
        }
      ],
      "source": [
        "# Dataset Columns\n",
        "pd.DataFrame(data.columns, columns=[\"Column Names\"]).reset_index().rename(columns={\"index\": \"No.\"})"
      ]
    },
    {
      "cell_type": "code",
      "execution_count": 10,
      "metadata": {
        "id": "DnOaZdaE5Q5t"
      },
      "outputs": [
        {
          "data": {
            "text/html": [
              "<div>\n",
              "<style scoped>\n",
              "    .dataframe tbody tr th:only-of-type {\n",
              "        vertical-align: middle;\n",
              "    }\n",
              "\n",
              "    .dataframe tbody tr th {\n",
              "        vertical-align: top;\n",
              "    }\n",
              "\n",
              "    .dataframe thead th {\n",
              "        text-align: right;\n",
              "    }\n",
              "</style>\n",
              "<table border=\"1\" class=\"dataframe\">\n",
              "  <thead>\n",
              "    <tr style=\"text-align: right;\">\n",
              "      <th></th>\n",
              "      <th>Item_price</th>\n",
              "      <th>connected_handling_time</th>\n",
              "      <th>CSAT Score</th>\n",
              "    </tr>\n",
              "  </thead>\n",
              "  <tbody>\n",
              "    <tr>\n",
              "      <th>count</th>\n",
              "      <td>17206.000000</td>\n",
              "      <td>242.000000</td>\n",
              "      <td>85907.000000</td>\n",
              "    </tr>\n",
              "    <tr>\n",
              "      <th>mean</th>\n",
              "      <td>5660.774846</td>\n",
              "      <td>462.400826</td>\n",
              "      <td>4.242157</td>\n",
              "    </tr>\n",
              "    <tr>\n",
              "      <th>std</th>\n",
              "      <td>12825.728411</td>\n",
              "      <td>246.295037</td>\n",
              "      <td>1.378903</td>\n",
              "    </tr>\n",
              "    <tr>\n",
              "      <th>min</th>\n",
              "      <td>0.000000</td>\n",
              "      <td>0.000000</td>\n",
              "      <td>1.000000</td>\n",
              "    </tr>\n",
              "    <tr>\n",
              "      <th>25%</th>\n",
              "      <td>392.000000</td>\n",
              "      <td>293.000000</td>\n",
              "      <td>4.000000</td>\n",
              "    </tr>\n",
              "    <tr>\n",
              "      <th>50%</th>\n",
              "      <td>979.000000</td>\n",
              "      <td>427.000000</td>\n",
              "      <td>5.000000</td>\n",
              "    </tr>\n",
              "    <tr>\n",
              "      <th>75%</th>\n",
              "      <td>2699.750000</td>\n",
              "      <td>592.250000</td>\n",
              "      <td>5.000000</td>\n",
              "    </tr>\n",
              "    <tr>\n",
              "      <th>max</th>\n",
              "      <td>164999.000000</td>\n",
              "      <td>1986.000000</td>\n",
              "      <td>5.000000</td>\n",
              "    </tr>\n",
              "  </tbody>\n",
              "</table>\n",
              "</div>"
            ],
            "text/plain": [
              "          Item_price  connected_handling_time    CSAT Score\n",
              "count   17206.000000               242.000000  85907.000000\n",
              "mean     5660.774846               462.400826      4.242157\n",
              "std     12825.728411               246.295037      1.378903\n",
              "min         0.000000                 0.000000      1.000000\n",
              "25%       392.000000               293.000000      4.000000\n",
              "50%       979.000000               427.000000      5.000000\n",
              "75%      2699.750000               592.250000      5.000000\n",
              "max    164999.000000              1986.000000      5.000000"
            ]
          },
          "execution_count": 10,
          "execution_count": 11,
          "metadata": {},
          "output_type": "execute_result"
        }
      ],
      "source": [
        "# Dataset Describe\n",
        "data.describe()"
      ]
    },
    {
      "cell_type": "markdown",
      "metadata": {
        "id": "PBTbrJXOngz2"
      },
      "source": [
        "### Variables Description"
      ]
    },
    {
      "cell_type": "markdown",
      "metadata": {
        "id": "aJV4KIxSnxay"
      },
      "source": [
        "Answer Here\n",
        "## Variable Description Summary\n",
        "### Identifiers & Timestamps:\n",
        "\n",
        "- Unique id, Order_id: Unique identifiers (UUIDs)\n",
        "\n",
        "- order_date_time, Issue_reported at, issue_responded, Survey_response_Date: Timestamps tracking the customer journey\n",
        "\n",
        "### Customer & Product Details:\n",
        "\n",
        "- Customer_City: Customer’s city (80% missing)\n",
        "\n",
        "- Product_category, Item_price: Product info (also ~80% missing)\n",
        "\n",
        "- Customer Remarks: Open-text feedback (66% missing)\n",
        "\n",
        "### Interaction Metadata:\n",
        "\n",
        "- hannel_name: Source of interaction (e.g., Outcall, Email)\n",
        "\n",
        "- category, Sub-category: Classification of customer issues\n",
        "\n",
        "### Support Handling:\n",
        "\n",
        "- connected_handling_time: Time taken to handle issue (~99.7% missing)\n",
        "\n",
        "- Agent_name, Supervisor, Manager: Hierarchy of support staff\n",
        "\n",
        "- Agent Shift, Tenure Bucket: Work shift and agent experience bucket\n",
        "\n",
        "### Feedback Metric:\n",
        "\n",
        "- CSAT Score: Customer satisfaction rating (1–5 scale, no missing values)"
      ]
    },
    {
      "cell_type": "markdown",
      "metadata": {
        "id": "u3PMJOP6ngxN"
      },
      "source": [
        "### Check Unique Values for each variable."
      ]
    },
    {
      "cell_type": "code",
      "execution_count": 11,
      "execution_count": 12,
      "metadata": {
        "id": "zms12Yq5n-jE"
      },
      "outputs": [
        {
          "data": {
            "text/html": [
              "<div>\n",
              "<style scoped>\n",
              "    .dataframe tbody tr th:only-of-type {\n",
              "        vertical-align: middle;\n",
              "    }\n",
              "\n",
              "    .dataframe tbody tr th {\n",
              "        vertical-align: top;\n",
              "    }\n",
              "\n",
              "    .dataframe thead th {\n",
              "        text-align: right;\n",
              "    }\n",
              "</style>\n",
              "<table border=\"1\" class=\"dataframe\">\n",
              "  <thead>\n",
              "    <tr style=\"text-align: right;\">\n",
              "      <th></th>\n",
              "      <th>Column</th>\n",
              "      <th>Unique Values Count</th>\n",
              "    </tr>\n",
              "  </thead>\n",
              "  <tbody>\n",
              "    <tr>\n",
              "      <th>0</th>\n",
              "      <td>Unique id</td>\n",
              "      <td>85907</td>\n",
              "    </tr>\n",
              "    <tr>\n",
              "      <th>1</th>\n",
              "      <td>channel_name</td>\n",
              "      <td>3</td>\n",
              "    </tr>\n",
              "    <tr>\n",
              "      <th>2</th>\n",
              "      <td>category</td>\n",
              "      <td>12</td>\n",
              "    </tr>\n",
              "    <tr>\n",
              "      <th>3</th>\n",
              "      <td>Sub-category</td>\n",
              "      <td>57</td>\n",
              "    </tr>\n",
              "    <tr>\n",
              "      <th>4</th>\n",
              "      <td>Customer Remarks</td>\n",
              "      <td>18231</td>\n",
              "    </tr>\n",
              "    <tr>\n",
              "      <th>5</th>\n",
              "      <td>Order_id</td>\n",
              "      <td>67675</td>\n",
              "    </tr>\n",
              "    <tr>\n",
              "      <th>6</th>\n",
              "      <td>order_date_time</td>\n",
              "      <td>13766</td>\n",
              "    </tr>\n",
              "    <tr>\n",
              "      <th>7</th>\n",
              "      <td>Issue_reported at</td>\n",
              "      <td>30923</td>\n",
              "    </tr>\n",
              "    <tr>\n",
              "      <th>8</th>\n",
              "      <td>issue_responded</td>\n",
              "      <td>30262</td>\n",
              "    </tr>\n",
              "    <tr>\n",
              "      <th>9</th>\n",
              "      <td>Survey_response_Date</td>\n",
              "      <td>31</td>\n",
              "    </tr>\n",
              "    <tr>\n",
              "      <th>10</th>\n",
              "      <td>Customer_City</td>\n",
              "      <td>1782</td>\n",
              "    </tr>\n",
              "    <tr>\n",
              "      <th>11</th>\n",
              "      <td>Product_category</td>\n",
              "      <td>9</td>\n",
              "    </tr>\n",
              "    <tr>\n",
              "      <th>12</th>\n",
              "      <td>Item_price</td>\n",
              "      <td>2789</td>\n",
              "    </tr>\n",
              "    <tr>\n",
              "      <th>13</th>\n",
              "      <td>connected_handling_time</td>\n",
              "      <td>211</td>\n",
              "    </tr>\n",
              "    <tr>\n",
              "      <th>14</th>\n",
              "      <td>Agent_name</td>\n",
              "      <td>1371</td>\n",
              "    </tr>\n",
              "    <tr>\n",
              "      <th>15</th>\n",
              "      <td>Supervisor</td>\n",
              "      <td>40</td>\n",
              "    </tr>\n",
              "    <tr>\n",
              "      <th>16</th>\n",
              "      <td>Manager</td>\n",
              "      <td>6</td>\n",
              "    </tr>\n",
              "    <tr>\n",
              "      <th>17</th>\n",
              "      <td>Tenure Bucket</td>\n",
              "      <td>5</td>\n",
              "    </tr>\n",
              "    <tr>\n",
              "      <th>18</th>\n",
              "      <td>Agent Shift</td>\n",
              "      <td>5</td>\n",
              "    </tr>\n",
              "    <tr>\n",
              "      <th>19</th>\n",
              "      <td>CSAT Score</td>\n",
              "      <td>5</td>\n",
              "    </tr>\n",
              "  </tbody>\n",
              "</table>\n",
              "</div>"
            ],
            "text/plain": [
              "                     Column  Unique Values Count\n",
              "0                 Unique id                85907\n",
              "1              channel_name                    3\n",
              "2                  category                   12\n",
              "3              Sub-category                   57\n",
              "4          Customer Remarks                18231\n",
              "5                  Order_id                67675\n",
              "6           order_date_time                13766\n",
              "7         Issue_reported at                30923\n",
              "8           issue_responded                30262\n",
              "9      Survey_response_Date                   31\n",
              "10            Customer_City                 1782\n",
              "11         Product_category                    9\n",
              "12               Item_price                 2789\n",
              "13  connected_handling_time                  211\n",
              "14               Agent_name                 1371\n",
              "15               Supervisor                   40\n",
              "16                  Manager                    6\n",
              "17            Tenure Bucket                    5\n",
              "18              Agent Shift                    5\n",
              "19               CSAT Score                    5"
            ]
          },
          "execution_count": 11,
          "execution_count": 12,
          "metadata": {},
          "output_type": "execute_result"
        }
      ],
      "source": [
        "# Check Unique Values for each variable.\n",
        "pd.DataFrame({\n",
        "    \"Column\": data.columns,\n",
        "    \"Unique Values Count\": [data[col].nunique() for col in data.columns]\n",
        "})"
      ]
    },
    {
      "cell_type": "markdown",
      "metadata": {
        "id": "dauF4eBmngu3"
      },
      "source": [
        "## 3. ***Data Wrangling***"
      ]
    },
    {
      "cell_type": "markdown",
      "metadata": {
        "id": "bKJF3rekwFvQ"
      },
      "source": [
        "### Data Wrangling Code"
      ]
    },
    {
      "cell_type": "code",
      "execution_count": 12,
      "execution_count": 13,
      "metadata": {
        "id": "wk-9a2fpoLcV"
      },
      "outputs": [],
      "source": [
        "# Write your code to make your dataset analysis ready."
      ]
    },
    {
      "cell_type": "code",
      "execution_count": 13,
      "execution_count": 14,
      "metadata": {},
      "outputs": [],
      "source": [
        "# # Define escalation based on CSAT Score\n",
        "# # (Score ≤ 3 means unsatisfied, likely escalated)\n",
        "data['escalated'] = data['CSAT Score'].apply(lambda x: 1 if x <= 3 else 0)"
      ]
    },
    {
      "cell_type": "code",
      "execution_count": 14,
      "execution_count": 15,
      "metadata": {},
      "outputs": [
        {
          "data": {
            "text/plain": [
              "Unique id                      0\n",
              "channel_name                   0\n",
              "category                       0\n",
              "Sub-category                   0\n",
              "Customer Remarks           57165\n",
              "Order_id                   18232\n",
              "order_date_time            68693\n",
              "Issue_reported at              0\n",
              "issue_responded                0\n",
              "Survey_response_Date           0\n",
              "Customer_City              68828\n",
              "Product_category           68711\n",
              "Item_price                 68701\n",
              "connected_handling_time    85665\n",
              "Agent_name                     0\n",
              "Supervisor                     0\n",
              "Manager                        0\n",
              "Tenure Bucket                  0\n",
              "Agent Shift                    0\n",
              "CSAT Score                     0\n",
              "escalated                      0\n",
              "dtype: int64"
            ]
          },
          "execution_count": 14,
          "execution_count": 15,
          "metadata": {},
          "output_type": "execute_result"
        }
      ],
      "source": [
        "data.isnull().sum()"
      ]
    },
    {
      "cell_type": "code",
      "execution_count": 15,
      "execution_count": 16,
      "metadata": {},
      "outputs": [],
      "source": [
        "data['Issue_reported at'] = pd.to_datetime(data['Issue_reported at'], dayfirst=True, errors='coerce')\n",
        "data['issue_responded'] = pd.to_datetime(data['issue_responded'], dayfirst=True, errors='coerce')\n",
        "\n",
        "data['response_time_minutes'] = (data['issue_responded'] - data['Issue_reported at']).dt.total_seconds() / 60"
      ]
    },
    {
      "cell_type": "code",
      "execution_count": 16,
      "execution_count": 17,
      "metadata": {},
      "outputs": [
        {
          "data": {
            "text/html": [
              "<div>\n",
              "<style scoped>\n",
              "    .dataframe tbody tr th:only-of-type {\n",
              "        vertical-align: middle;\n",
              "    }\n",
              "\n",
              "    .dataframe tbody tr th {\n",
              "        vertical-align: top;\n",
              "    }\n",
              "\n",
              "    .dataframe thead th {\n",
              "        text-align: right;\n",
              "    }\n",
              "</style>\n",
              "<table border=\"1\" class=\"dataframe\">\n",
              "  <thead>\n",
              "    <tr style=\"text-align: right;\">\n",
              "      <th></th>\n",
              "      <th>Unique id</th>\n",
              "      <th>channel_name</th>\n",
              "      <th>category</th>\n",
              "      <th>Sub-category</th>\n",
              "      <th>Customer Remarks</th>\n",
              "      <th>Order_id</th>\n",
              "      <th>order_date_time</th>\n",
              "      <th>Issue_reported at</th>\n",
              "      <th>issue_responded</th>\n",
              "      <th>Survey_response_Date</th>\n",
              "      <th>...</th>\n",
              "      <th>Item_price</th>\n",
              "      <th>connected_handling_time</th>\n",
              "      <th>Agent_name</th>\n",
              "      <th>Supervisor</th>\n",
              "      <th>Manager</th>\n",
              "      <th>Tenure Bucket</th>\n",
              "      <th>Agent Shift</th>\n",
              "      <th>CSAT Score</th>\n",
              "      <th>escalated</th>\n",
              "      <th>response_time_minutes</th>\n",
              "    </tr>\n",
              "  </thead>\n",
              "  <tbody>\n",
              "    <tr>\n",
              "      <th>0</th>\n",
              "      <td>7e9ae164-6a8b-4521-a2d4-58f7c9fff13f</td>\n",
              "      <td>Outcall</td>\n",
              "      <td>Product Queries</td>\n",
              "      <td>Life Insurance</td>\n",
              "      <td>NaN</td>\n",
              "      <td>c27c9bb4-fa36-4140-9f1f-21009254ffdb</td>\n",
              "      <td>NaN</td>\n",
              "      <td>2023-08-01 11:13:00</td>\n",
              "      <td>2023-08-01 11:47:00</td>\n",
              "      <td>01-Aug-23</td>\n",
              "      <td>...</td>\n",
              "      <td>NaN</td>\n",
              "      <td>NaN</td>\n",
              "      <td>Richard Buchanan</td>\n",
              "      <td>Mason Gupta</td>\n",
              "      <td>Jennifer Nguyen</td>\n",
              "      <td>On Job Training</td>\n",
              "      <td>Morning</td>\n",
              "      <td>5</td>\n",
              "      <td>0</td>\n",
              "      <td>34.0</td>\n",
              "    </tr>\n",
              "    <tr>\n",
              "      <th>1</th>\n",
              "      <td>b07ec1b0-f376-43b6-86df-ec03da3b2e16</td>\n",
              "      <td>Outcall</td>\n",
              "      <td>Product Queries</td>\n",
              "      <td>Product Specific Information</td>\n",
              "      <td>NaN</td>\n",
              "      <td>d406b0c7-ce17-4654-b9de-f08d421254bd</td>\n",
              "      <td>NaN</td>\n",
              "      <td>2023-08-01 12:52:00</td>\n",
              "      <td>2023-08-01 12:54:00</td>\n",
              "      <td>01-Aug-23</td>\n",
              "      <td>...</td>\n",
              "      <td>NaN</td>\n",
              "      <td>NaN</td>\n",
              "      <td>Vicki Collins</td>\n",
              "      <td>Dylan Kim</td>\n",
              "      <td>Michael Lee</td>\n",
              "      <td>&gt;90</td>\n",
              "      <td>Morning</td>\n",
              "      <td>5</td>\n",
              "      <td>0</td>\n",
              "      <td>2.0</td>\n",
              "    </tr>\n",
              "    <tr>\n",
              "      <th>2</th>\n",
              "      <td>200814dd-27c7-4149-ba2b-bd3af3092880</td>\n",
              "      <td>Inbound</td>\n",
              "      <td>Order Related</td>\n",
              "      <td>Installation/demo</td>\n",
              "      <td>NaN</td>\n",
              "      <td>c273368d-b961-44cb-beaf-62d6fd6c00d5</td>\n",
              "      <td>NaN</td>\n",
              "      <td>2023-08-01 20:16:00</td>\n",
              "      <td>2023-08-01 20:38:00</td>\n",
              "      <td>01-Aug-23</td>\n",
              "      <td>...</td>\n",
              "      <td>NaN</td>\n",
              "      <td>NaN</td>\n",
              "      <td>Duane Norman</td>\n",
              "      <td>Jackson Park</td>\n",
              "      <td>William Kim</td>\n",
              "      <td>On Job Training</td>\n",
              "      <td>Evening</td>\n",
              "      <td>5</td>\n",
              "      <td>0</td>\n",
              "      <td>22.0</td>\n",
              "    </tr>\n",
              "    <tr>\n",
              "      <th>3</th>\n",
              "      <td>eb0d3e53-c1ca-42d3-8486-e42c8d622135</td>\n",
              "      <td>Inbound</td>\n",
              "      <td>Returns</td>\n",
              "      <td>Reverse Pickup Enquiry</td>\n",
              "      <td>NaN</td>\n",
              "      <td>5aed0059-55a4-4ec6-bb54-97942092020a</td>\n",
              "      <td>NaN</td>\n",
              "      <td>2023-08-01 20:56:00</td>\n",
              "      <td>2023-08-01 21:16:00</td>\n",
              "      <td>01-Aug-23</td>\n",
              "      <td>...</td>\n",
              "      <td>NaN</td>\n",
              "      <td>NaN</td>\n",
              "      <td>Patrick Flores</td>\n",
              "      <td>Olivia Wang</td>\n",
              "      <td>John Smith</td>\n",
              "      <td>&gt;90</td>\n",
              "      <td>Evening</td>\n",
              "      <td>5</td>\n",
              "      <td>0</td>\n",
              "      <td>20.0</td>\n",
              "    </tr>\n",
              "    <tr>\n",
              "      <th>4</th>\n",
              "      <td>ba903143-1e54-406c-b969-46c52f92e5df</td>\n",
              "      <td>Inbound</td>\n",
              "      <td>Cancellation</td>\n",
              "      <td>Not Needed</td>\n",
              "      <td>NaN</td>\n",
              "      <td>e8bed5a9-6933-4aff-9dc6-ccefd7dcde59</td>\n",
              "      <td>NaN</td>\n",
              "      <td>2023-08-01 10:30:00</td>\n",
              "      <td>2023-08-01 10:32:00</td>\n",
              "      <td>01-Aug-23</td>\n",
              "      <td>...</td>\n",
              "      <td>NaN</td>\n",
              "      <td>NaN</td>\n",
              "      <td>Christopher Sanchez</td>\n",
              "      <td>Austin Johnson</td>\n",
              "      <td>Michael Lee</td>\n",
              "      <td>0-30</td>\n",
              "      <td>Morning</td>\n",
              "      <td>5</td>\n",
              "      <td>0</td>\n",
              "      <td>2.0</td>\n",
              "    </tr>\n",
              "  </tbody>\n",
              "</table>\n",
              "<p>5 rows × 22 columns</p>\n",
              "</div>"
            ],
            "text/plain": [
              "                              Unique id channel_name         category  \\\n",
              "0  7e9ae164-6a8b-4521-a2d4-58f7c9fff13f      Outcall  Product Queries   \n",
              "1  b07ec1b0-f376-43b6-86df-ec03da3b2e16      Outcall  Product Queries   \n",
              "2  200814dd-27c7-4149-ba2b-bd3af3092880      Inbound    Order Related   \n",
              "3  eb0d3e53-c1ca-42d3-8486-e42c8d622135      Inbound          Returns   \n",
              "4  ba903143-1e54-406c-b969-46c52f92e5df      Inbound     Cancellation   \n",
              "\n",
              "                   Sub-category Customer Remarks  \\\n",
              "0                Life Insurance              NaN   \n",
              "1  Product Specific Information              NaN   \n",
              "2             Installation/demo              NaN   \n",
              "3        Reverse Pickup Enquiry              NaN   \n",
              "4                    Not Needed              NaN   \n",
              "\n",
              "                               Order_id order_date_time   Issue_reported at  \\\n",
              "0  c27c9bb4-fa36-4140-9f1f-21009254ffdb             NaN 2023-08-01 11:13:00   \n",
              "1  d406b0c7-ce17-4654-b9de-f08d421254bd             NaN 2023-08-01 12:52:00   \n",
              "2  c273368d-b961-44cb-beaf-62d6fd6c00d5             NaN 2023-08-01 20:16:00   \n",
              "3  5aed0059-55a4-4ec6-bb54-97942092020a             NaN 2023-08-01 20:56:00   \n",
              "4  e8bed5a9-6933-4aff-9dc6-ccefd7dcde59             NaN 2023-08-01 10:30:00   \n",
              "\n",
              "      issue_responded Survey_response_Date  ... Item_price  \\\n",
              "0 2023-08-01 11:47:00            01-Aug-23  ...        NaN   \n",
              "1 2023-08-01 12:54:00            01-Aug-23  ...        NaN   \n",
              "2 2023-08-01 20:38:00            01-Aug-23  ...        NaN   \n",
              "3 2023-08-01 21:16:00            01-Aug-23  ...        NaN   \n",
              "4 2023-08-01 10:32:00            01-Aug-23  ...        NaN   \n",
              "\n",
              "  connected_handling_time           Agent_name      Supervisor  \\\n",
              "0                     NaN     Richard Buchanan     Mason Gupta   \n",
              "1                     NaN        Vicki Collins       Dylan Kim   \n",
              "2                     NaN         Duane Norman    Jackson Park   \n",
              "3                     NaN       Patrick Flores     Olivia Wang   \n",
              "4                     NaN  Christopher Sanchez  Austin Johnson   \n",
              "\n",
              "           Manager    Tenure Bucket Agent Shift CSAT Score escalated  \\\n",
              "0  Jennifer Nguyen  On Job Training     Morning          5         0   \n",
              "1      Michael Lee              >90     Morning          5         0   \n",
              "2      William Kim  On Job Training     Evening          5         0   \n",
              "3       John Smith              >90     Evening          5         0   \n",
              "4      Michael Lee             0-30     Morning          5         0   \n",
              "\n",
              "   response_time_minutes  \n",
              "0                   34.0  \n",
              "1                    2.0  \n",
              "2                   22.0  \n",
              "3                   20.0  \n",
              "4                    2.0  \n",
              "\n",
              "[5 rows x 22 columns]"
            ]
          },
          "execution_count": 16,
          "execution_count": 17,
          "metadata": {},
          "output_type": "execute_result"
        }
      ],
      "source": [
        "data.head()"
      ]
    },
    {
      "cell_type": "code",
      "execution_count": 17,
      "execution_count": 18,
      "metadata": {},
      "outputs": [],
      "source": [
        "# The features t0 keep\n",
        "main_features = [\n",
        "    'channel_name',\n",
        "    'category',\n",
        "    'Sub-category',\n",
        "    'Product_category',\n",
        "    'Item_price',\n",
        "    'connected_handling_time',\n",
        "    'Tenure Bucket',\n",
        "    'Agent Shift',\n",
        "    'response_time_minutes',  # engineered\n",
        "    'escalated'  # target column\n",
        "]\n",
        "\n",
        "# Drop everything else\n",
        "data = data[main_features]"
      ]
    },
    {
      "cell_type": "code",
      "execution_count": 18,
      "execution_count": 19,
      "metadata": {},
      "outputs": [
        {
          "data": {
            "text/html": [
              "<div>\n",
              "<style scoped>\n",
              "    .dataframe tbody tr th:only-of-type {\n",
              "        vertical-align: middle;\n",
              "    }\n",
              "\n",
              "    .dataframe tbody tr th {\n",
              "        vertical-align: top;\n",
              "    }\n",
              "\n",
              "    .dataframe thead th {\n",
              "        text-align: right;\n",
              "    }\n",
              "</style>\n",
              "<table border=\"1\" class=\"dataframe\">\n",
              "  <thead>\n",
              "    <tr style=\"text-align: right;\">\n",
              "      <th></th>\n",
              "      <th>channel_name</th>\n",
              "      <th>category</th>\n",
              "      <th>Sub-category</th>\n",
              "      <th>Product_category</th>\n",
              "      <th>Item_price</th>\n",
              "      <th>connected_handling_time</th>\n",
              "      <th>Tenure Bucket</th>\n",
              "      <th>Agent Shift</th>\n",
              "      <th>response_time_minutes</th>\n",
              "      <th>escalated</th>\n",
              "    </tr>\n",
              "  </thead>\n",
              "  <tbody>\n",
              "    <tr>\n",
              "      <th>0</th>\n",
              "      <td>Outcall</td>\n",
              "      <td>Product Queries</td>\n",
              "      <td>Life Insurance</td>\n",
              "      <td>NaN</td>\n",
              "      <td>NaN</td>\n",
              "      <td>NaN</td>\n",
              "      <td>On Job Training</td>\n",
              "      <td>Morning</td>\n",
              "      <td>34.0</td>\n",
              "      <td>0</td>\n",
              "    </tr>\n",
              "    <tr>\n",
              "      <th>1</th>\n",
              "      <td>Outcall</td>\n",
              "      <td>Product Queries</td>\n",
              "      <td>Product Specific Information</td>\n",
              "      <td>NaN</td>\n",
              "      <td>NaN</td>\n",
              "      <td>NaN</td>\n",
              "      <td>&gt;90</td>\n",
              "      <td>Morning</td>\n",
              "      <td>2.0</td>\n",
              "      <td>0</td>\n",
              "    </tr>\n",
              "    <tr>\n",
              "      <th>2</th>\n",
              "      <td>Inbound</td>\n",
              "      <td>Order Related</td>\n",
              "      <td>Installation/demo</td>\n",
              "      <td>NaN</td>\n",
              "      <td>NaN</td>\n",
              "      <td>NaN</td>\n",
              "      <td>On Job Training</td>\n",
              "      <td>Evening</td>\n",
              "      <td>22.0</td>\n",
              "      <td>0</td>\n",
              "    </tr>\n",
              "    <tr>\n",
              "      <th>3</th>\n",
              "      <td>Inbound</td>\n",
              "      <td>Returns</td>\n",
              "      <td>Reverse Pickup Enquiry</td>\n",
              "      <td>NaN</td>\n",
              "      <td>NaN</td>\n",
              "      <td>NaN</td>\n",
              "      <td>&gt;90</td>\n",
              "      <td>Evening</td>\n",
              "      <td>20.0</td>\n",
              "      <td>0</td>\n",
              "    </tr>\n",
              "    <tr>\n",
              "      <th>4</th>\n",
              "      <td>Inbound</td>\n",
              "      <td>Cancellation</td>\n",
              "      <td>Not Needed</td>\n",
              "      <td>NaN</td>\n",
              "      <td>NaN</td>\n",
              "      <td>NaN</td>\n",
              "      <td>0-30</td>\n",
              "      <td>Morning</td>\n",
              "      <td>2.0</td>\n",
              "      <td>0</td>\n",
              "    </tr>\n",
              "  </tbody>\n",
              "</table>\n",
              "</div>"
            ],
            "text/plain": [
              "  channel_name         category                  Sub-category  \\\n",
              "0      Outcall  Product Queries                Life Insurance   \n",
              "1      Outcall  Product Queries  Product Specific Information   \n",
              "2      Inbound    Order Related             Installation/demo   \n",
              "3      Inbound          Returns        Reverse Pickup Enquiry   \n",
              "4      Inbound     Cancellation                    Not Needed   \n",
              "\n",
              "  Product_category  Item_price  connected_handling_time    Tenure Bucket  \\\n",
              "0              NaN         NaN                      NaN  On Job Training   \n",
              "1              NaN         NaN                      NaN              >90   \n",
              "2              NaN         NaN                      NaN  On Job Training   \n",
              "3              NaN         NaN                      NaN              >90   \n",
              "4              NaN         NaN                      NaN             0-30   \n",
              "\n",
              "  Agent Shift  response_time_minutes  escalated  \n",
              "0     Morning                   34.0          0  \n",
              "1     Morning                    2.0          0  \n",
              "2     Evening                   22.0          0  \n",
              "3     Evening                   20.0          0  \n",
              "4     Morning                    2.0          0  "
            ]
          },
          "execution_count": 18,
          "execution_count": 19,
          "metadata": {},
          "output_type": "execute_result"
        }
      ],
      "source": [
        "data.head()"
      ]
    },
    {
      "cell_type": "code",
      "execution_count": 19,
      "execution_count": 20,
      "metadata": {},
      "outputs": [
        {
          "data": {
            "text/plain": [
              "channel_name                   0\n",
              "category                       0\n",
              "Sub-category                   0\n",
              "Product_category           68711\n",
              "Item_price                 68701\n",
              "connected_handling_time    85665\n",
              "Tenure Bucket                  0\n",
              "Agent Shift                    0\n",
              "response_time_minutes          0\n",
              "escalated                      0\n",
              "dtype: int64"
            ]
          },
          "execution_count": 19,
          "execution_count": 20,
          "metadata": {},
          "output_type": "execute_result"
        }
      ],
      "source": [
        "data.isna().sum()"
      ]
    },
    {
      "cell_type": "code",
      "execution_count": 20,
      "execution_count": 21,
      "metadata": {},
      "outputs": [
        {
          "data": {
            "text/html": [
              "<div>\n",
              "<style scoped>\n",
              "    .dataframe tbody tr th:only-of-type {\n",
              "        vertical-align: middle;\n",
              "    }\n",
              "\n",
              "    .dataframe tbody tr th {\n",
              "        vertical-align: top;\n",
              "    }\n",
              "\n",
              "    .dataframe thead th {\n",
              "        text-align: right;\n",
              "    }\n",
              "</style>\n",
              "<table border=\"1\" class=\"dataframe\">\n",
              "  <thead>\n",
              "    <tr style=\"text-align: right;\">\n",
              "      <th></th>\n",
              "      <th>channel_name</th>\n",
              "      <th>category</th>\n",
              "      <th>Sub-category</th>\n",
              "      <th>Product_category</th>\n",
              "      <th>Item_price</th>\n",
              "      <th>connected_handling_time</th>\n",
              "      <th>Tenure Bucket</th>\n",
              "      <th>Agent Shift</th>\n",
              "      <th>response_time_minutes</th>\n",
              "      <th>escalated</th>\n",
              "    </tr>\n",
              "  </thead>\n",
              "  <tbody>\n",
              "    <tr>\n",
              "      <th>0</th>\n",
              "      <td>Outcall</td>\n",
              "      <td>Product Queries</td>\n",
              "      <td>Life Insurance</td>\n",
              "      <td>NaN</td>\n",
              "      <td>NaN</td>\n",
              "      <td>NaN</td>\n",
              "      <td>On Job Training</td>\n",
              "      <td>Morning</td>\n",
              "      <td>34.0</td>\n",
              "      <td>0</td>\n",
              "    </tr>\n",
              "    <tr>\n",
              "      <th>1</th>\n",
              "      <td>Outcall</td>\n",
              "      <td>Product Queries</td>\n",
              "      <td>Product Specific Information</td>\n",
              "      <td>NaN</td>\n",
              "      <td>NaN</td>\n",
              "      <td>NaN</td>\n",
              "      <td>&gt;90</td>\n",
              "      <td>Morning</td>\n",
              "      <td>2.0</td>\n",
              "      <td>0</td>\n",
              "    </tr>\n",
              "    <tr>\n",
              "      <th>2</th>\n",
              "      <td>Inbound</td>\n",
              "      <td>Order Related</td>\n",
              "      <td>Installation/demo</td>\n",
              "      <td>NaN</td>\n",
              "      <td>NaN</td>\n",
              "      <td>NaN</td>\n",
              "      <td>On Job Training</td>\n",
              "      <td>Evening</td>\n",
              "      <td>22.0</td>\n",
              "      <td>0</td>\n",
              "    </tr>\n",
              "    <tr>\n",
              "      <th>3</th>\n",
              "      <td>Inbound</td>\n",
              "      <td>Returns</td>\n",
              "      <td>Reverse Pickup Enquiry</td>\n",
              "      <td>NaN</td>\n",
              "      <td>NaN</td>\n",
              "      <td>NaN</td>\n",
              "      <td>&gt;90</td>\n",
              "      <td>Evening</td>\n",
              "      <td>20.0</td>\n",
              "      <td>0</td>\n",
              "    </tr>\n",
              "    <tr>\n",
              "      <th>4</th>\n",
              "      <td>Inbound</td>\n",
              "      <td>Cancellation</td>\n",
              "      <td>Not Needed</td>\n",
              "      <td>NaN</td>\n",
              "      <td>NaN</td>\n",
              "      <td>NaN</td>\n",
              "      <td>0-30</td>\n",
              "      <td>Morning</td>\n",
              "      <td>2.0</td>\n",
              "      <td>0</td>\n",
              "    </tr>\n",
              "  </tbody>\n",
              "</table>\n",
              "</div>"
            ],
            "text/plain": [
              "  channel_name         category                  Sub-category  \\\n",
              "0      Outcall  Product Queries                Life Insurance   \n",
              "1      Outcall  Product Queries  Product Specific Information   \n",
              "2      Inbound    Order Related             Installation/demo   \n",
              "3      Inbound          Returns        Reverse Pickup Enquiry   \n",
              "4      Inbound     Cancellation                    Not Needed   \n",
              "\n",
              "  Product_category  Item_price  connected_handling_time    Tenure Bucket  \\\n",
              "0              NaN         NaN                      NaN  On Job Training   \n",
              "1              NaN         NaN                      NaN              >90   \n",
              "2              NaN         NaN                      NaN  On Job Training   \n",
              "3              NaN         NaN                      NaN              >90   \n",
              "4              NaN         NaN                      NaN             0-30   \n",
              "\n",
              "  Agent Shift  response_time_minutes  escalated  \n",
              "0     Morning                   34.0          0  \n",
              "1     Morning                    2.0          0  \n",
              "2     Evening                   22.0          0  \n",
              "3     Evening                   20.0          0  \n",
              "4     Morning                    2.0          0  "
            ]
          },
          "execution_count": 20,
          "execution_count": 21,
          "metadata": {},
          "output_type": "execute_result"
        }
      ],
      "source": [
        "data.head()"
      ]
    },
    {
      "cell_type": "markdown",
      "metadata": {
        "id": "MSa1f5Uengrz"
      },
      "source": [
        "### What all manipulations have you done and insights you found?"
      ]
    },
    {
      "cell_type": "markdown",
      "metadata": {
        "id": "LbyXE7I1olp8"
      },
      "source": [
        "Answer Here.\n",
        "During data wrangling, several steps were performed to prepare the dataset for analysis:\n",
        "\n",
        "- **Target Variable Creation:** A new column `escalated` was engineered based on the CSAT Score, where scores ≤ 3 were marked as escalated (1), and scores > 3 as not escalated (0). This helps in framing the prediction problem.\n",
        "- **Datetime Conversion & Feature Engineering:** The columns `Issue_reported at` and `issue_responded` were converted to datetime objects to ensure accurate time calculations. Using these, a new feature `response_time_minutes` was created to capture the time taken to respond to a customer issue.\n",
        "- **Feature Selection:** Only the most relevant columns for analysis and modeling were retained, such as channel, category, product info, agent details, engineered features, and the target variable. Irrelevant or highly missing columns were dropped.\n",
        "- **Missing Values:** The code checked for missing values, revealing that some columns (like `connected_handling_time`, `Item_price`, and `Product_category`) have significant missing data, which may require further imputation or exclusion in downstream analysis.\n",
        "\n",
        "**Insights:**  \n",
        "The wrangling process streamlined the dataset, focused on key variables, and created new features to support escalation prediction. The engineered features and cleaned data will enable more effective exploratory analysis and model building."
      ]
    },
    {
      "cell_type": "markdown",
      "metadata": {
        "id": "GF8Ens_Soomf"
      },
      "source": [
        "## ***4. Data Vizualization, Storytelling & Experimenting with charts : Understand the relationships between variables***"
      ]
    },
    {
      "cell_type": "markdown",
      "metadata": {
        "id": "0wOQAZs5pc--"
      },
      "source": [
        "#### Chart - 1"
      ]
    },
    {
      "cell_type": "code",
      "execution_count": null,
      "execution_count": 22,
      "metadata": {
        "id": "7v_ESjsspbW7"
      },
      "outputs": [
        {
          "data": {
            "image/png": "[encoded data removed]",
            "text/plain": [
              "<Figure size 640x480 with 1 Axes>"
            ]
          },
          "metadata": {},
          "output_type": "display_data"
        }
      ],
      "source": [
        "# Chart - 1 visualization code\n",
        "sns.countplot(x='escalated', data=data)\n",
        "plt.title(\"Escalated vs Not Escalated\")\n",
        "plt.xlabel(\"Escalated (1 = Yes, 0 = No)\")\n",
        "plt.ylabel(\"Number of Tickets\")\n",
        "plt.show()"
      ]
    },
    {
      "cell_type": "markdown",
      "metadata": {
        "id": "K5QZ13OEpz2H"
      },
      "source": [
        "##### 1. Why did you pick the specific chart?"
      ]
    },
    {
      "cell_type": "markdown",
      "metadata": {
        "id": "XESiWehPqBRc"
      },
      "source": [
        "Answer Here.\n",
        "- To find out whether the dataset is imbalanced or not."
      ]
    },
    {
      "cell_type": "markdown",
      "metadata": {
        "id": "lQ7QKXXCp7Bj"
      },
      "source": [
        "##### 2. What is/are the insight(s) found from the chart?"
      ]
    },
    {
      "cell_type": "markdown",
      "metadata": {
        "id": "C_j1G7yiqdRP"
      },
      "source": [
        "Answer Here\n",
        "- Helps in model design (e.g., SMOTE for imbalance)"
      ]
    },
    {
      "cell_type": "markdown",
      "metadata": {
        "id": "448CDAPjqfQr"
      },
      "source": [
        "##### 3. Will the gained insights help creating a positive business impact?\n",
        "Are there any insights that lead to negative growth? Justify with specific reason."
      ]
    },
    {
      "cell_type": "markdown",
      "metadata": {
        "id": "3cspy4FjqxJW"
      },
      "source": [
        "Answer Here\n",
        "- The chart shows the distribution of escalated vs non-escalated tickets in the dataset.  \n",
        "- It reveals whether the target variable (`escalated`) is balanced or imbalanced, which is crucial for selecting appropriate modeling strategies and evaluation metrics.  \n",
        "- If the dataset is highly imbalanced, special techniques (like resampling or using specific algorithms) may be needed to ensure robust model performance and fair business insights."
      ]
    },
    {
      "cell_type": "markdown",
      "metadata": {
        "id": "KSlN3yHqYklG"
      },
      "source": [
        "#### Chart - 2"
      ]
    },
    {
      "cell_type": "code",
      "execution_count": 70,
      "execution_count": 23,
      "metadata": {
        "id": "R4YgtaqtYklH"
      },
      "outputs": [
        {
          "data": {
            "image/png": "[encoded data removed]",
            "text/plain": [
              "<Figure size 1000x500 with 1 Axes>"
            ]
          },
          "metadata": {},
          "output_type": "display_data"
        }
      ],
      "source": [
        "# Chart - 2 visualization code\n",
        "escalation_by_category = data.groupby('category')['escalated'].mean().sort_values(ascending=False)\n",
        "escalation_by_category.plot(kind='bar', figsize=(10,5), color='orange')\n",
        "plt.title(\"Average Escalation Rate by Issue Category\")\n",
        "plt.ylabel(\"Escalation Rate\")\n",
        "plt.xlabel(\"Issue Category\")\n",
        "plt.xticks(rotation=45)\n",
        "plt.show()"
      ]
    },
    {
      "cell_type": "markdown",
      "metadata": {
        "id": "t6dVpIINYklI"
      },
      "source": [
        "##### 1. Why did you pick the specific chart?"
      ]
    },
    {
      "cell_type": "markdown",
      "metadata": {
        "id": "5aaW0BYyYklI"
      },
      "source": [
        "Answer Here.\n",
        "This bar chart was chosen to visualize the average escalation rate for each issue category, making it easy to compare which categories have higher or lower escalation tendencies. It helps identify problem areas where customers are more likely to escalate their support tickets, guiding targeted improvements in those specific categories."
      ]
    },
    {
      "cell_type": "markdown",
      "metadata": {
        "id": "ijmpgYnKYklI"
      },
      "source": [
        "##### 2. What is/are the insight(s) found from the chart?"
      ]
    },
    {
      "cell_type": "markdown",
      "metadata": {
        "id": "PSx9atu2YklI"
      },
      "source": [
        "Answer Here\n",
        "- \tShows which issue types are risky"
      ]
    },
    {
      "cell_type": "markdown",
      "metadata": {
        "id": "-JiQyfWJYklI"
      },
      "source": [
        "##### 3. Will the gained insights help creating a positive business impact?\n",
        "Are there any insights that lead to negative growth? Justify with specific reason."
      ]
    },
    {
      "cell_type": "markdown",
      "metadata": {
        "id": "BcBbebzrYklV"
      },
      "source": [
        "Answer Here\n",
        "The insights from this chart can help Flipkart prioritize improvements in categories with high escalation rates, leading to better customer satisfaction and reduced operational costs. Addressing issues in these categories can prevent escalations, streamline support, and enhance brand reputation. However, if high escalation categories are ignored, it could result in negative business impact due to increased customer churn and higher support costs."
      ]
    },
    {
      "cell_type": "markdown",
      "metadata": {
        "id": "EM7whBJCYoAo"
      },
      "source": [
        "#### Chart - 3"
      ]
    },
    {
      "cell_type": "code",
      "execution_count": 71,
      "execution_count": 24,
      "metadata": {
        "id": "t6GMdE67YoAp"
      },
      "outputs": [
        {
          "data": {
            "image/png": "[encoded data removed]",
            "text/plain": [
              "<Figure size 1000x500 with 1 Axes>"
            ]
          },
          "metadata": {},
          "output_type": "display_data"
        }
      ],
      "source": [
        "# Chart - 3 visualization code\n",
        "escalation_by_product = data.groupby('Product_category')['escalated'].mean().sort_values(ascending=False)\n",
        "\n",
        "escalation_by_product.plot(kind='bar', figsize=(10,5), color='green')\n",
        "plt.title(\"Escalation Rate by Product Category\")\n",
        "plt.ylabel(\"Escalation Rate\")\n",
        "plt.xlabel(\"Product Category\")\n",
        "plt.xticks(rotation=45)\n",
        "plt.show()"
      ]
    },
    {
      "cell_type": "markdown",
      "metadata": {
        "id": "fge-S5ZAYoAp"
      },
      "source": [
        "##### 1. Why did you pick the specific chart?"
      ]
    },
    {
      "cell_type": "markdown",
      "metadata": {
        "id": "5dBItgRVYoAp"
      },
      "source": [
        "Answer Here.\n",
        "This chart reveals which product categories experience the highest escalation rates. For example, GiftCard, Furniture, and Mobile categories have notably higher escalation rates compared to others like Affiliates or LifeStyle. This suggests that customers interacting with these product categories are more likely to escalate their support tickets, indicating potential issues or dissatisfaction specific to those products."
      ]
    },
    {
      "cell_type": "markdown",
      "metadata": {
        "id": "85gYPyotYoAp"
      },
      "source": [
        "##### 2. What is/are the insight(s) found from the chart?"
      ]
    },
    {
      "cell_type": "markdown",
      "metadata": {
        "id": "4jstXR6OYoAp"
      },
      "source": [
        "Answer Here\n",
        "- \tProduct-type-based frustration patterns"
      ]
    },
    {
      "cell_type": "markdown",
      "metadata": {
        "id": "RoGjAbkUYoAp"
      },
      "source": [
        "##### 3. Will the gained insights help creating a positive business impact?\n",
        "Are there any insights that lead to negative growth? Justify with specific reason."
      ]
    },
    {
      "cell_type": "markdown",
      "metadata": {
        "id": "zfJ8IqMcYoAp"
      },
      "source": [
        "Answer Here\n",
        "- This section summarizes the key findings from the previous charts:\n",
        "\n",
        "- **Escalation rates vary significantly by both issue category and product category.**\n",
        "- Categories like \"Others\" and \"Cancellation\" have the highest escalation rates, indicating these areas may require process improvements or additional support resources.\n",
        "- Product categories such as \"GiftCard,\" \"Furniture,\" and \"Mobile\" are more prone to escalations, suggesting potential product or service issues that need to be addressed.\n",
        "- These insights can help prioritize business interventions, optimize resource allocation, and improve customer satisfaction by focusing on high-risk areas."
      ]
    },
    {
      "cell_type": "markdown",
      "metadata": {
        "id": "4Of9eVA-YrdM"
      },
      "source": [
        "#### Chart - 4"
      ]
    },
    {
      "cell_type": "code",
      "execution_count": 72,
      "execution_count": 25,
      "metadata": {
        "id": "irlUoxc8YrdO"
      },
      "outputs": [
        {
          "data": {
            "image/png": "[encoded data removed]",
            "text/plain": [
              "<Figure size 640x480 with 1 Axes>"
            ]
          },
          "metadata": {},
          "output_type": "display_data"
        }
      ],
      "source": [
        "# Chart - 4 visualization code\n",
        "sns.boxplot(x='escalated', y='response_time_minutes', data=data)\n",
        "plt.title(\"Response Time Distribution by Escalation Status\")\n",
        "plt.xlabel(\"Escalated (1 = Yes, 0 = No)\")\n",
        "plt.ylabel(\"Response Time (minutes)\")\n",
        "plt.show()"
      ]
    },
    {
      "cell_type": "markdown",
      "metadata": {
        "id": "iky9q4vBYrdO"
      },
      "source": [
        "##### 1. Why did you pick the specific chart?"
      ]
    },
    {
      "cell_type": "markdown",
      "metadata": {
        "id": "aJRCwT6DYrdO"
      },
      "source": [
        "Answer Here.\n",
        "The boxplot shows that escalated tickets generally have higher response times compared to non-escalated tickets. There are also more extreme outliers in response times for escalated cases, indicating that delays in response are associated with a greater likelihood of escalation. This suggests that faster response times may help reduce the number of escalated support tickets."
      ]
    },
    {
      "cell_type": "markdown",
      "metadata": {
        "id": "F6T5p64dYrdO"
      },
      "source": [
        "##### 2. What is/are the insight(s) found from the chart?"
      ]
    },
    {
      "cell_type": "markdown",
      "metadata": {
        "id": "Xx8WAJvtYrdO"
      },
      "source": [
        "Answer Here\n",
        "- Core driver of satisfaction"
      ]
    },
    {
      "cell_type": "markdown",
      "metadata": {
        "id": "y-Ehk30pYrdP"
      },
      "source": [
        "##### 3. Will the gained insights help creating a positive business impact?\n",
        "Are there any insights that lead to negative growth? Justify with specific reason."
      ]
    },
    {
      "cell_type": "markdown",
      "metadata": {
        "id": "jLNxxz7MYrdP"
      },
      "source": [
        "Answer Here\n",
        "The boxplot demonstrates that escalated tickets tend to have longer response times, with a wider spread and more outliers compared to non-escalated tickets. This suggests that delays in responding to customer issues are strongly associated with escalation. Reducing response times could therefore help decrease the escalation rate and improve customer satisfaction."
      ]
    },
    {
      "cell_type": "markdown",
      "metadata": {
        "id": "bamQiAODYuh1"
      },
      "source": [
        "#### Chart - 5"
      ]
    },
    {
      "cell_type": "code",
      "execution_count": 75,
      "execution_count": 26,
      "metadata": {
        "id": "TIJwrbroYuh3"
      },
      "outputs": [
        {
          "data": {
            "image/png": "[encoded data removed]",
            "text/plain": [
              "<Figure size 800x500 with 1 Axes>"
            ]
          },
          "metadata": {},
          "output_type": "display_data"
        }
      ],
      "source": [
        "# Chart - 5 visualization code\n",
        "shift_escalation = data.groupby('Agent Shift')['escalated'].mean().sort_values().reset_index()\n",
        "\n",
        "plt.figure(figsize=(8,5))\n",
        "sns.barplot(\n",
        "    data=shift_escalation,\n",
        "    x='escalated',\n",
        "    y='Agent Shift',\n",
        "    hue='Agent Shift',\n",
        "    palette='magma',\n",
        "    dodge=False,\n",
        "    legend=False  # Hides redundant legend\n",
        ")\n",
        "plt.title(\"Escalation Rate by Agent Shift\", fontsize=14)\n",
        "plt.xlabel(\"Escalation Rate\")\n",
        "plt.ylabel(\"Agent Shift\")\n",
        "plt.grid(axis='x', linestyle='--', alpha=0.5)\n",
        "plt.tight_layout()\n",
        "plt.show()"
      ]
    },
    {
      "cell_type": "markdown",
      "metadata": {
        "id": "QHF8YVU7Yuh3"
      },
      "source": [
        "##### 1. Why did you pick the specific chart?"
      ]
    },
    {
      "cell_type": "markdown",
      "metadata": {
        "id": "dcxuIMRPYuh3"
      },
      "source": [
        "Answer Here.\n",
        "- Horizontal barplots are ideal for categorical comparison, especially when categories have longer names like \"Morning\", \"Evening\", \"Night\".\n",
        "\n",
        "- It clearly displays which shifts are associated with higher or lower escalation rates."
      ]
    },
    {
      "cell_type": "markdown",
      "metadata": {
        "id": "GwzvFGzlYuh3"
      },
      "source": [
        "##### 2. What is/are the insight(s) found from the chart?"
      ]
    },
    {
      "cell_type": "markdown",
      "metadata": {
        "id": "uyqkiB8YYuh3"
      },
      "source": [
        "Answer Here\n",
        "- Certain shifts (e.g., Night Shift) have noticeably higher escalation rates than others.\n",
        "\n",
        "- Morning or Evening shifts may be better staffed or better trained, showing lower escalation.\n",
        "\n",
        "- Indicates a potential correlation between time of day and customer satisfaction."
      ]
    },
    {
      "cell_type": "markdown",
      "metadata": {
        "id": "qYpmQ266Yuh3"
      },
      "source": [
        "##### 3. Will the gained insights help creating a positive business impact?\n",
        "Are there any insights that lead to negative growth? Justify with specific reason."
      ]
    },
    {
      "cell_type": "markdown",
      "metadata": {
        "id": "_WtzZ_hCYuh4"
      },
      "source": [
        "Answer Here\n",
        "- This chart uncovers a critical operational gap tied to time-based performance, and acting on it can reduce escalations, improve satisfaction, and optimize agent performance — all of which contribute to positive business growth."
      ]
    },
    {
      "cell_type": "markdown",
      "metadata": {
        "id": "OH-pJp9IphqM"
      },
      "source": [
        "#### Chart - 6"
      ]
    },
    {
      "cell_type": "code",
      "execution_count": 26,
      "execution_count": 27,
      "metadata": {
        "id": "kuRf4wtuphqN"
      },
      "outputs": [],
      "source": [
        "# Chart - 6 visualization code"
      ]
    },
    {
      "cell_type": "markdown",
      "metadata": {
        "id": "bbFf2-_FphqN"
      },
      "source": [
        "##### 1. Why did you pick the specific chart?"
      ]
    },
    {
      "cell_type": "markdown",
      "metadata": {
        "id": "loh7H2nzphqN"
      },
      "source": [
        "Answer Here."
      ]
    },
    {
      "cell_type": "markdown",
      "metadata": {
        "id": "_ouA3fa0phqN"
      },
      "source": [
        "##### 2. What is/are the insight(s) found from the chart?"
      ]
    },
    {
      "cell_type": "markdown",
      "metadata": {
        "id": "VECbqPI7phqN"
      },
      "source": [
        "Answer Here"
      ]
    },
    {
      "cell_type": "markdown",
      "metadata": {
        "id": "Seke61FWphqN"
      },
      "source": [
        "##### 3. Will the gained insights help creating a positive business impact?\n",
        "Are there any insights that lead to negative growth? Justify with specific reason."
      ]
    },
    {
      "cell_type": "markdown",
      "metadata": {
        "id": "DW4_bGpfphqN"
      },
      "source": [
        "Answer Here"
      ]
    },
    {
      "cell_type": "markdown",
      "metadata": {
        "id": "PIIx-8_IphqN"
      },
      "source": [
        "#### Chart - 7"
      ]
    },
    {
      "cell_type": "code",
      "execution_count": 27,
      "execution_count": 28,
      "metadata": {
        "id": "lqAIGUfyphqO"
      },
      "outputs": [],
      "source": [
        "# Chart - 7 visualization code"
      ]
    },
    {
      "cell_type": "markdown",
      "metadata": {
        "id": "t27r6nlMphqO"
      },
      "source": [
        "##### 1. Why did you pick the specific chart?"
      ]
    },
    {
      "cell_type": "markdown",
      "metadata": {
        "id": "iv6ro40sphqO"
      },
      "source": [
        "Answer Here."
      ]
    },
    {
      "cell_type": "markdown",
      "metadata": {
        "id": "r2jJGEOYphqO"
      },
      "source": [
        "##### 2. What is/are the insight(s) found from the chart?"
      ]
    },
    {
      "cell_type": "markdown",
      "metadata": {
        "id": "Po6ZPi4hphqO"
      },
      "source": [
        "Answer Here"
      ]
    },
    {
      "cell_type": "markdown",
      "metadata": {
        "id": "b0JNsNcRphqO"
      },
      "source": [
        "##### 3. Will the gained insights help creating a positive business impact?\n",
        "Are there any insights that lead to negative growth? Justify with specific reason."
      ]
    },
    {
      "cell_type": "markdown",
      "metadata": {
        "id": "xvSq8iUTphqO"
      },
      "source": [
        "Answer Here"
      ]
    },
    {
      "cell_type": "markdown",
      "metadata": {
        "id": "BZR9WyysphqO"
      },
      "source": [
        "#### Chart - 8"
      ]
    },
    {
      "cell_type": "code",
      "execution_count": 28,
      "execution_count": 29,
      "metadata": {
        "id": "TdPTWpAVphqO"
      },
      "outputs": [],
      "source": [
        "# Chart - 8 visualization code"
      ]
    },
    {
      "cell_type": "markdown",
      "metadata": {
        "id": "jj7wYXLtphqO"
      },
      "source": [
        "##### 1. Why did you pick the specific chart?"
      ]
    },
    {
      "cell_type": "markdown",
      "metadata": {
        "id": "Ob8u6rCTphqO"
      },
      "source": [
        "Answer Here."
      ]
    },
    {
      "cell_type": "markdown",
      "metadata": {
        "id": "eZrbJ2SmphqO"
      },
      "source": [
        "##### 2. What is/are the insight(s) found from the chart?"
      ]
    },
    {
      "cell_type": "markdown",
      "metadata": {
        "id": "mZtgC_hjphqO"
      },
      "source": [
        "Answer Here"
      ]
    },
    {
      "cell_type": "markdown",
      "metadata": {
        "id": "rFu4xreNphqO"
      },
      "source": [
        "##### 3. Will the gained insights help creating a positive business impact?\n",
        "Are there any insights that lead to negative growth? Justify with specific reason."
      ]
    },
    {
      "cell_type": "markdown",
      "metadata": {
        "id": "ey_0qi68phqO"
      },
      "source": [
        "Answer Here"
      ]
    },
    {
      "cell_type": "markdown",
      "metadata": {
        "id": "YJ55k-q6phqO"
      },
      "source": [
        "#### Chart - 9"
      ]
    },
    {
      "cell_type": "code",
      "execution_count": 29,
      "execution_count": 30,
      "metadata": {
        "id": "B2aS4O1ophqO"
      },
      "outputs": [],
      "source": [
        "# Chart - 9 visualization code"
      ]
    },
    {
      "cell_type": "markdown",
      "metadata": {
        "id": "gCFgpxoyphqP"
      },
      "source": [
        "##### 1. Why did you pick the specific chart?"
      ]
    },
    {
      "cell_type": "markdown",
      "metadata": {
        "id": "TVxDimi2phqP"
      },
      "source": [
        "Answer Here."
      ]
    },
    {
      "cell_type": "markdown",
      "metadata": {
        "id": "OVtJsKN_phqQ"
      },
      "source": [
        "##### 2. What is/are the insight(s) found from the chart?"
      ]
    },
    {
      "cell_type": "markdown",
      "metadata": {
        "id": "ngGi97qjphqQ"
      },
      "source": [
        "Answer Here"
      ]
    },
    {
      "cell_type": "markdown",
      "metadata": {
        "id": "lssrdh5qphqQ"
      },
      "source": [
        "##### 3. Will the gained insights help creating a positive business impact?\n",
        "Are there any insights that lead to negative growth? Justify with specific reason."
      ]
    },
    {
      "cell_type": "markdown",
      "metadata": {
        "id": "tBpY5ekJphqQ"
      },
      "source": [
        "Answer Here"
      ]
    },
    {
      "cell_type": "markdown",
      "metadata": {
        "id": "U2RJ9gkRphqQ"
      },
      "source": [
        "#### Chart - 10"
      ]
    },
    {
      "cell_type": "code",
      "execution_count": 30,
      "execution_count": 31,
      "metadata": {
        "id": "GM7a4YP4phqQ"
      },
      "outputs": [],
      "source": [
        "# Chart - 10 visualization code"
      ]
    },
    {
      "cell_type": "markdown",
      "metadata": {
        "id": "1M8mcRywphqQ"
      },
      "source": [
        "##### 1. Why did you pick the specific chart?"
      ]
    },
    {
      "cell_type": "markdown",
      "metadata": {
        "id": "8agQvks0phqQ"
      },
      "source": [
        "Answer Here."
      ]
    },
    {
      "cell_type": "markdown",
      "metadata": {
        "id": "tgIPom80phqQ"
      },
      "source": [
        "##### 2. What is/are the insight(s) found from the chart?"
      ]
    },
    {
      "cell_type": "markdown",
      "metadata": {
        "id": "Qp13pnNzphqQ"
      },
      "source": [
        "Answer Here"
      ]
    },
    {
      "cell_type": "markdown",
      "metadata": {
        "id": "JMzcOPDDphqR"
      },
      "source": [
        "##### 3. Will the gained insights help creating a positive business impact?\n",
        "Are there any insights that lead to negative growth? Justify with specific reason."
      ]
    },
    {
      "cell_type": "markdown",
      "metadata": {
        "id": "R4Ka1PC2phqR"
      },
      "source": [
        "Answer Here"
      ]
    },
    {
      "cell_type": "markdown",
      "metadata": {
        "id": "x-EpHcCOp1ci"
      },
      "source": [
        "#### Chart - 11"
      ]
    },
    {
      "cell_type": "code",
      "execution_count": 31,
      "execution_count": 32,
      "metadata": {
        "id": "mAQTIvtqp1cj"
      },
      "outputs": [],
      "source": [
        "# Chart - 11 visualization code"
      ]
    },
    {
      "cell_type": "markdown",
      "metadata": {
        "id": "X_VqEhTip1ck"
      },
      "source": [
        "##### 1. Why did you pick the specific chart?"
      ]
    },
    {
      "cell_type": "markdown",
      "metadata": {
        "id": "-vsMzt_np1ck"
      },
      "source": [
        "Answer Here."
      ]
    },
    {
      "cell_type": "markdown",
      "metadata": {
        "id": "8zGJKyg5p1ck"
      },
      "source": [
        "##### 2. What is/are the insight(s) found from the chart?"
      ]
    },
    {
      "cell_type": "markdown",
      "metadata": {
        "id": "ZYdMsrqVp1ck"
      },
      "source": [
        "Answer Here"
      ]
    },
    {
      "cell_type": "markdown",
      "metadata": {
        "id": "PVzmfK_Ep1ck"
      },
      "source": [
        "##### 3. Will the gained insights help creating a positive business impact?\n",
        "Are there any insights that lead to negative growth? Justify with specific reason."
      ]
    },
    {
      "cell_type": "markdown",
      "metadata": {
        "id": "druuKYZpp1ck"
      },
      "source": [
        "Answer Here"
      ]
    },
    {
      "cell_type": "markdown",
      "metadata": {
        "id": "n3dbpmDWp1ck"
      },
      "source": [
        "#### Chart - 12"
      ]
    },
    {
      "cell_type": "code",
      "execution_count": 32,
      "execution_count": 33,
      "metadata": {
        "id": "bwevp1tKp1ck"
      },
      "outputs": [],
      "source": [
        "# Chart - 12 visualization code"
      ]
    },
    {
      "cell_type": "markdown",
      "metadata": {
        "id": "ylSl6qgtp1ck"
      },
      "source": [
        "##### 1. Why did you pick the specific chart?"
      ]
    },
    {
      "cell_type": "markdown",
      "metadata": {
        "id": "m2xqNkiQp1ck"
      },
      "source": [
        "Answer Here."
      ]
    },
    {
      "cell_type": "markdown",
      "metadata": {
        "id": "ZWILFDl5p1ck"
      },
      "source": [
        "##### 2. What is/are the insight(s) found from the chart?"
      ]
    },
    {
      "cell_type": "markdown",
      "metadata": {
        "id": "x-lUsV2mp1ck"
      },
      "source": [
        "Answer Here"
      ]
    },
    {
      "cell_type": "markdown",
      "metadata": {
        "id": "M7G43BXep1ck"
      },
      "source": [
        "##### 3. Will the gained insights help creating a positive business impact?\n",
        "Are there any insights that lead to negative growth? Justify with specific reason."
      ]
    },
    {
      "cell_type": "markdown",
      "metadata": {
        "id": "5wwDJXsLp1cl"
      },
      "source": [
        "Answer Here"
      ]
    },
    {
      "cell_type": "markdown",
      "metadata": {
        "id": "Ag9LCva-p1cl"
      },
      "source": [
        "#### Chart - 13"
      ]
    },
    {
      "cell_type": "code",
      "execution_count": 33,
      "execution_count": 34,
      "metadata": {
        "id": "EUfxeq9-p1cl"
      },
      "outputs": [],
      "source": [
        "# Chart - 13 visualization code"
      ]
    },
    {
      "cell_type": "markdown",
      "metadata": {
        "id": "E6MkPsBcp1cl"
      },
      "source": [
        "##### 1. Why did you pick the specific chart?"
      ]
    },
    {
      "cell_type": "markdown",
      "metadata": {
        "id": "V22bRsFWp1cl"
      },
      "source": [
        "Answer Here."
      ]
    },
    {
      "cell_type": "markdown",
      "metadata": {
        "id": "2cELzS2fp1cl"
      },
      "source": [
        "##### 2. What is/are the insight(s) found from the chart?"
      ]
    },
    {
      "cell_type": "markdown",
      "metadata": {
        "id": "ozQPc2_Ip1cl"
      },
      "source": [
        "Answer Here"
      ]
    },
    {
      "cell_type": "markdown",
      "metadata": {
        "id": "3MPXvC8up1cl"
      },
      "source": [
        "##### 3. Will the gained insights help creating a positive business impact?\n",
        "Are there any insights that lead to negative growth? Justify with specific reason."
      ]
    },
    {
      "cell_type": "markdown",
      "metadata": {
        "id": "GL8l1tdLp1cl"
      },
      "source": [
        "Answer Here"
      ]
    },
    {
      "cell_type": "markdown",
      "metadata": {
        "id": "NC_X3p0fY2L0"
      },
      "source": [
        "#### Chart - 14 - Correlation Heatmap"
      ]
    },
    {
      "cell_type": "code",
      "execution_count": null,
      "execution_count": 35,
      "metadata": {
        "id": "xyC9zolEZNRQ"
      },
      "outputs": [
        {
          "data": {
            "image/png": "[encoded data removed]",
            "text/plain": [
              "<Figure size 1000x600 with 2 Axes>"
            ]
          },
          "metadata": {},
          "output_type": "display_data"
        }
      ],
      "source": [
        "# Correlation Heatmap visualization code\n",
        "# Select only numerical columns\n",
        "numeric_data = data.select_dtypes(include=['int64', 'float64'])\n",
        "\n",
        "corr_matrix = numeric_data.corr()\n",
        "\n",
        "# Plot heatmap\n",
        "plt.figure(figsize=(10, 6))\n",
        "sns.heatmap(corr_matrix, annot=True, cmap='coolwarm', fmt=\".2f\", linewidths=0.5)\n",
        "plt.title(\"Correlation Heatmap of Numerical Features\")\n",
        "plt.show()"
      ]
    },
    {
      "cell_type": "markdown",
      "metadata": {
        "id": "UV0SzAkaZNRQ"
      },
      "source": [
        "##### 1. Why did you pick the specific chart?"
      ]
    },
    {
      "cell_type": "markdown",
      "metadata": {
        "id": "DVPuT8LYZNRQ"
      },
      "source": [
        "Answer Here.\n",
        "- A correlation heatmap is ideal for visualizing relationships between numerical features.\n",
        "\n",
        "### It helps to:\n",
        "\n",
        "- Detect linear dependencies (positive or negative)\n",
        "\n",
        "- Spot redundant features (for feature selection)\n",
        "\n",
        "- Reveal potential leakage (if any feature is too highly correlated with the target)"
      ]
    },
    {
      "cell_type": "markdown",
      "metadata": {
        "id": "YPEH6qLeZNRQ"
      },
      "source": [
        "##### 2. What is/are the insight(s) found from the chart?"
      ]
    },
    {
      "cell_type": "markdown",
      "metadata": {
        "id": "bfSqtnDqZNRR"
      },
      "source": [
        "Answer Here\n",
        "- High-value items don’t always cause more issues, surprisingly\n",
        "- Makes sense: lower satisfaction means higher chance of escalation"
      ]
    },
    {
      "cell_type": "markdown",
      "metadata": {
        "id": "q29F0dvdveiT"
      },
      "source": [
        "#### Chart - 15 - Pair Plot"
      ]
    },
    {
      "cell_type": "code",
      "execution_count": 77,
      "execution_count": 36,
      "metadata": {
        "id": "o58-TEIhveiU"
      },
      "outputs": [
        {
          "data": {
            "image/png": "[encoded data removed]",
            "text/plain": [
              "<Figure size 828.361x750 with 12 Axes>"
            ]
          },
          "metadata": {},
          "output_type": "display_data"
        }
      ],
      "source": [
        "# Pair Plot visualization code\n",
        "# Select relevant numeric features for the pairplot\n",
        "pairplot_features = ['Item_price', 'response_time_minutes', 'connected_handling_time', 'escalated']\n",
        "\n",
        "# Drop rows with missing values in selected features\n",
        "pairplot_df = data[pairplot_features].dropna()\n",
        "\n",
        "# Create pair plot colored by 'escalated'\n",
        "sns.pairplot(pairplot_df, hue='escalated', palette='coolwarm', diag_kind='kde')\n",
        "plt.suptitle(\"Pair Plot of Key Numerical Features Colored by Escalation\", y=1.02)\n",
        "plt.show()"
      ]
    },
    {
      "cell_type": "markdown",
      "metadata": {
        "id": "EXh0U9oCveiU"
      },
      "source": [
        "##### 1. Why did you pick the specific chart?"
      ]
    },
    {
      "cell_type": "markdown",
      "metadata": {
        "id": "eMmPjTByveiU"
      },
      "source": [
        "Answer Here.\n",
        "### A pair plot is ideal for:\n",
        "\n",
        "- Visualizing pairwise relationships between numerical features\n",
        "\n",
        "- Identifying clusters or separation patterns related to the target (escalated)\n",
        "\n",
        "- Quickly detecting correlations, non-linear patterns, and outliers\n",
        "\n",
        "### In a classification problem, coloring by the target variable helps you visually assess feature usefulness for distinguishing classes."
      ]
    },
    {
      "cell_type": "markdown",
      "metadata": {
        "id": "22aHeOlLveiV"
      },
      "source": [
        "##### 2. What is/are the insight(s) found from the chart?"
      ]
    },
    {
      "cell_type": "markdown",
      "metadata": {
        "id": "uPQ8RGwHveiV"
      },
      "source": [
        "Answer Here\n",
        "- High-priced items do not always escalate — mixed behavior\n",
        "- Longer response time is strongly linked to escalated cases"
      ]
    },
    {
      "cell_type": "markdown",
      "metadata": {
        "id": "g-ATYxFrGrvw"
      },
      "source": [
        "## ***5. Hypothesis Testing***"
      ]
    },
    {
      "cell_type": "markdown",
      "metadata": {
        "id": "Yfr_Vlr8HBkt"
      },
      "source": [
        "### Based on your chart experiments, define three hypothetical statements from the dataset. In the next three questions, perform hypothesis testing to obtain final conclusion about the statements through your code and statistical testing."
      ]
    },
    {
      "cell_type": "markdown",
      "metadata": {
        "id": "-7MS06SUHkB-"
      },
      "source": [
        "Answer Here."
      ]
    },
    {
      "cell_type": "markdown",
      "metadata": {
        "id": "8yEUt7NnHlrM"
      },
      "source": [
        "### Hypothetical Statement - 1"
      ]
    },
    {
      "cell_type": "markdown",
      "metadata": {
        "id": "tEA2Xm5dHt1r"
      },
      "source": [
        "#### 1. State Your research hypothesis as a null hypothesis and alternate hypothesis."
      ]
    },
    {
      "cell_type": "markdown",
      "metadata": {
        "id": "HI9ZP0laH0D-"
      },
      "source": [
        "Answer Here.\n",
        "## Tickets that are escalated have a significantly longer response time (in minutes) than tickets that are not escalated."
      ]
    },
    {
      "cell_type": "markdown",
      "metadata": {
        "id": "I79__PHVH19G"
      },
      "source": [
        "#### 2. Perform an appropriate statistical test."
      ]
    },
    {
      "cell_type": "code",
      "execution_count": 79,
      "execution_count": 37,
      "metadata": {
        "id": "oZrfquKtyian"
      },
      "outputs": [
        {
          "name": "stdout",
          "output_type": "stream",
          "text": [
            "Hypothesis Test: Do escalated tickets have longer response times?\n",
            "--------------------------------------------------------------\n",
            "T-statistic            : 30.8332\n",
            "P-value                : 0.0000\n",
            "Mean (Escalated)       : 318.09 minutes\n",
            "Mean (Not Escalated)   : 98.33 minutes\n",
            "\n",
            " Conclusion: Statistically significant — escalated tickets have longer response times.\n"
          ]
        }
      ],
      "source": [
        "# Perform Statistical Test to obtain P-Value\n",
        "import numpy as np\n",
        "from scipy.stats import ttest_ind\n",
        "\n",
        "# Drop NaNs from the 'response_time_minutes' column for both groups\n",
        "response_escalated = data[data['escalated'] == 1]['response_time_minutes'].dropna()\n",
        "response_not_escalated = data[data['escalated'] == 0]['response_time_minutes'].dropna()\n",
        "\n",
        "# Perform independent two-sample t-test (Welch’s t-test)\n",
        "t_stat, p_value = ttest_ind(response_escalated, response_not_escalated, equal_var=False)\n",
        "\n",
        "# Calculate group means\n",
        "mean_escalated = np.mean(response_escalated)\n",
        "mean_not_escalated = np.mean(response_not_escalated)\n",
        "\n",
        "# Print formatted output\n",
        "print(\"Hypothesis Test: Do escalated tickets have longer response times?\")\n",
        "print(\"--------------------------------------------------------------\")\n",
        "print(f\"T-statistic            : {t_stat:.4f}\")\n",
        "print(f\"P-value                : {p_value:.4f}\")\n",
        "print(f\"Mean (Escalated)       : {mean_escalated:.2f} minutes\")\n",
        "print(f\"Mean (Not Escalated)   : {mean_not_escalated:.2f} minutes\")\n",
        "\n",
        "# Interpretation\n",
        "if p_value < 0.05 and mean_escalated > mean_not_escalated:\n",
        "    print(\"\\n Conclusion: Statistically significant — escalated tickets have longer response times.\")\n",
        "else:\n",
        "    print(\"\\n Conclusion: No statistically significant difference in response times.\")"
      ]
    },
    {
      "cell_type": "markdown",
      "metadata": {},
      "source": [
        "## Interpretation:\n",
        "\n",
        "- If p-value < 0.05 and the mean response time for escalated tickets is higher, we reject H₀ in favor of H₁.\n",
        "\n",
        "- Otherwise, we cannot conclude that escalation is associated with longer response times."
      ]
    },
    {
      "cell_type": "markdown",
      "metadata": {
        "id": "Ou-I18pAyIpj"
      },
      "source": [
        "##### Which statistical test have you done to obtain P-Value?"
      ]
    },
    {
      "cell_type": "markdown",
      "metadata": {
        "id": "s2U0kk00ygSB"
      },
      "source": [
        "Answer Here.\n",
        "- We use an independent two-sample t-test (assuming our large sample approximates normality)."
      ]
    },
    {
      "cell_type": "markdown",
      "metadata": {
        "id": "fF3858GYyt-u"
      },
      "source": [
        "##### Why did you choose the specific statistical test?"
      ]
    },
    {
      "cell_type": "markdown",
      "metadata": {
        "id": "HO4K0gP5y3B4"
      },
      "source": [
        "Answer Here.\n",
        "We use an independent two-sample t-test when comparing the means of a continuous variable (response time) across two independent categories (escalated vs not escalated).\n"
      ]
    },
    {
      "cell_type": "markdown",
      "metadata": {
        "id": "4_0_7-oCpUZd"
      },
      "source": [
        "### Hypothetical Statement - 2"
      ]
    },
    {
      "cell_type": "markdown",
      "metadata": {
        "id": "hwyV_J3ipUZe"
      },
      "source": [
        "#### 1. State Your research hypothesis as a null hypothesis and alternate hypothesis."
      ]
    },
    {
      "cell_type": "markdown",
      "metadata": {
        "id": "FnpLGJ-4pUZe"
      },
      "source": [
        "Answer Here."
      ]
    },
    {
      "cell_type": "markdown",
      "metadata": {
        "id": "3yB-zSqbpUZe"
      },
      "source": [
        "#### 2. Perform an appropriate statistical test."
      ]
    },
    {
      "cell_type": "code",
      "execution_count": 80,
      "execution_count": 38,
      "metadata": {
        "id": "sWxdNTXNpUZe"
      },
      "outputs": [
        {
          "name": "stdout",
          "output_type": "stream",
          "text": [
            "Contingency Table:\n",
            " escalated               0     1\n",
            "category                       \n",
            "App/website            73    11\n",
            "Cancellation         1679   533\n",
            "Feedback             1832   462\n",
            "Offers & Cashback     398    82\n",
            "Onboarding related     53    12\n",
            "Order Related       18237  4978\n",
            "Others                 59    40\n",
            "Payments related     1985   342\n",
            "Product Queries      2839   853\n",
            "Refund Related       3746   804\n",
            "Returns             37590  6507\n",
            "Shopzilla Related    2345   447\n",
            "\n",
            "Hypothesis 2 - Issue Category:\n",
            "Chi-square Statistic: 690.7803436667464\n",
            "P-value: 5.1070624546398456e-141\n",
            "Degrees of Freedom: 11\n"
          ]
        }
      ],
      "source": [
        "# Perform Statistical Test to obtain P-Value\n",
        "from scipy.stats import chi2_contingency\n",
        "\n",
        "# Create a contingency table for 'category' vs. 'escalated'\n",
        "contingency_table = pd.crosstab(data['category'], data['escalated'])\n",
        "print(\"Contingency Table:\\n\", contingency_table)\n",
        "\n",
        "# Perform chi-square test\n",
        "chi2, p_value, dof, expected = chi2_contingency(contingency_table)\n",
        "print(\"\\nHypothesis 2 - Issue Category:\")\n",
        "print(\"Chi-square Statistic:\", chi2)\n",
        "print(\"P-value:\", p_value)\n",
        "print(\"Degrees of Freedom:\", dof)\n"
      ]
    },
    {
      "cell_type": "markdown",
      "metadata": {
        "id": "dEUvejAfpUZe"
      },
      "source": [
        "##### Which statistical test have you done to obtain P-Value?"
      ]
    },
    {
      "cell_type": "markdown",
      "metadata": {
        "id": "oLDrPz7HpUZf"
      },
      "source": [
        "Answer Here.\n",
        "- chi-square test of independence."
      ]
    },
    {
      "cell_type": "markdown",
      "metadata": {
        "id": "Fd15vwWVpUZf"
      },
      "source": [
        "##### Why did you choose the specific statistical test?"
      ]
    },
    {
      "cell_type": "markdown",
      "metadata": {
        "id": "4xOGYyiBpUZf"
      },
      "source": [
        "Answer Here.\n",
        "We use the chi-square test of independence to determine if the distribution of escalation differs across issue categories — i.e., if escalation is dependent on the type of issue"
      ]
    },
    {
      "cell_type": "markdown",
      "metadata": {
        "id": "bn_IUdTipZyH"
      },
      "source": [
        "### Hypothetical Statement - 3"
      ]
    },
    {
      "cell_type": "markdown",
      "metadata": {
        "id": "49K5P_iCpZyH"
      },
      "source": [
        "#### 1. State Your research hypothesis as a null hypothesis and alternate hypothesis."
      ]
    },
    {
      "cell_type": "markdown",
      "metadata": {
        "id": "7gWI5rT9pZyH"
      },
      "source": [
        "Answer Here."
      ]
    },
    {
      "cell_type": "markdown",
      "metadata": {
        "id": "Nff-vKELpZyI"
      },
      "source": [
        "#### 2. Perform an appropriate statistical test."
      ]
    },
    {
      "cell_type": "code",
      "execution_count": 81,
      "execution_count": 39,
      "metadata": {
        "id": "s6AnJQjtpZyI"
      },
      "outputs": [
        {
          "name": "stdout",
          "output_type": "stream",
          "text": [
            "Product Category Contingency Table:\n",
            " escalated                       0     1\n",
            "Product_category                       \n",
            "Affiliates                    137    29\n",
            "Books & General merchandise  2550   773\n",
            "Electronics                  3602  1104\n",
            "Furniture                     311   160\n",
            "GiftCard                       15    11\n",
            "Home                          998   330\n",
            "Home Appliences               888   412\n",
            "LifeStyle                    3260   858\n",
            "Mobile                       1170   588\n",
            "\n",
            "Hypothesis 3 - Product Category:\n",
            "Chi-square Statistic: 177.33876452343577\n",
            "P-value: 3.7266710993432712e-34\n",
            "Degrees of Freedom: 8\n"
          ]
        }
      ],
      "source": [
        "# Perform Statistical Test to obtain P-Value\n",
        "product_table = pd.crosstab(data['Product_category'], data['escalated'])\n",
        "print(\"Product Category Contingency Table:\\n\", product_table)\n",
        "\n",
        "# Perform chi-square test\n",
        "chi2_prod, p_value_prod, dof_prod, expected_prod = chi2_contingency(product_table)\n",
        "print(\"\\nHypothesis 3 - Product Category:\")\n",
        "print(\"Chi-square Statistic:\", chi2_prod)\n",
        "print(\"P-value:\", p_value_prod)\n",
        "print(\"Degrees of Freedom:\", dof_prod)"
      ]
    },
    {
      "cell_type": "markdown",
      "metadata": {
        "id": "kLW572S8pZyI"
      },
      "source": [
        "##### Which statistical test have you done to obtain P-Value?"
      ]
    },
    {
      "cell_type": "markdown",
      "metadata": {
        "id": "ytWJ8v15pZyI"
      },
      "source": [
        "Answer Here.\n",
        "- chi-square test of independence."
      ]
    },
    {
      "cell_type": "markdown",
      "metadata": {
        "id": "dWbDXHzopZyI"
      },
      "source": [
        "##### Why did you choose the specific statistical test?"
      ]
    },
    {
      "cell_type": "markdown",
      "metadata": {
        "id": "M99G98V6pZyI"
      },
      "source": [
        "Answer Here.\n",
        "we want to know if escalation likelihood is related to product type — so we use the chi-square test again."
      ]
    },
    {
      "cell_type": "markdown",
      "metadata": {
        "id": "yLjJCtPM0KBk"
      },
      "source": [
        "## ***6. Feature Engineering & Data Pre-processing***"
      ]
    },
    {
      "cell_type": "markdown",
      "metadata": {
        "id": "xiyOF9F70UgQ"
      },
      "source": [
        "### 1. Handling Missing Values"
      ]
    },
    {
      "cell_type": "code",
      "execution_count": 82,
      "execution_count": 40,
      "metadata": {},
      "outputs": [
        {
          "data": {
            "text/plain": [
              "channel_name                   0\n",
              "category                       0\n",
              "Sub-category                   0\n",
              "Product_category           68711\n",
              "Item_price                 68701\n",
              "connected_handling_time    85665\n",
              "Tenure Bucket                  0\n",
              "Agent Shift                    0\n",
              "response_time_minutes          0\n",
              "escalated                      0\n",
              "dtype: int64"
            ]
          },
          "execution_count": 82,
          "execution_count": 40,
          "metadata": {},
          "output_type": "execute_result"
        }
      ],
      "source": [
        "data.isna().sum()"
      ]
    },
    {
      "cell_type": "code",
      "execution_count": 39,
      "metadata": {
        "id": "iRsAHk1K0fpS"
      },
      "outputs": [],
      "source": [
        "# Handling Missing Values & Missing Value Imputation\n",
        "data['Item_price'] = data['Item_price'].fillna(data['Item_price'].median())\n",
        "data['connected_handling_time'] = data['connected_handling_time'].fillna(data['connected_handling_time'].median())\n",
        "data['Product_category'] = data['Product_category'].fillna('Unknown')"
      ]
    },
    {
      "cell_type": "code",
      "execution_count": 42,
      "metadata": {},
      "outputs": [
        {
          "data": {
            "text/html": [
              "<div>\n",
              "<style scoped>\n",
              "    .dataframe tbody tr th:only-of-type {\n",
              "        vertical-align: middle;\n",
              "    }\n",
              "\n",
              "    .dataframe tbody tr th {\n",
              "        vertical-align: top;\n",
              "    }\n",
              "\n",
              "    .dataframe thead th {\n",
              "        text-align: right;\n",
              "    }\n",
              "</style>\n",
              "<table border=\"1\" class=\"dataframe\">\n",
              "  <thead>\n",
              "    <tr style=\"text-align: right;\">\n",
              "      <th></th>\n",
              "      <th>channel_name</th>\n",
              "      <th>category</th>\n",
              "      <th>Sub-category</th>\n",
              "      <th>Product_category</th>\n",
              "      <th>Item_price</th>\n",
              "      <th>connected_handling_time</th>\n",
              "      <th>Tenure Bucket</th>\n",
              "      <th>Agent Shift</th>\n",
              "      <th>response_time_minutes</th>\n",
              "      <th>escalated</th>\n",
              "    </tr>\n",
              "  </thead>\n",
              "  <tbody>\n",
              "    <tr>\n",
              "      <th>0</th>\n",
              "      <td>Outcall</td>\n",
              "      <td>Product Queries</td>\n",
              "      <td>Life Insurance</td>\n",
              "      <td>NaN</td>\n",
              "      <td>NaN</td>\n",
              "      <td>NaN</td>\n",
              "      <td>On Job Training</td>\n",
              "      <td>Morning</td>\n",
              "      <td>34.0</td>\n",
              "      <td>0</td>\n",
              "    </tr>\n",
              "    <tr>\n",
              "      <th>1</th>\n",
              "      <td>Outcall</td>\n",
              "      <td>Product Queries</td>\n",
              "      <td>Product Specific Information</td>\n",
              "      <td>NaN</td>\n",
              "      <td>NaN</td>\n",
              "      <td>NaN</td>\n",
              "      <td>&gt;90</td>\n",
              "      <td>Morning</td>\n",
              "      <td>2.0</td>\n",
              "      <td>0</td>\n",
              "    </tr>\n",
              "    <tr>\n",
              "      <th>2</th>\n",
              "      <td>Inbound</td>\n",
              "      <td>Order Related</td>\n",
              "      <td>Installation/demo</td>\n",
              "      <td>NaN</td>\n",
              "      <td>NaN</td>\n",
              "      <td>NaN</td>\n",
              "      <td>On Job Training</td>\n",
              "      <td>Evening</td>\n",
              "      <td>22.0</td>\n",
              "      <td>0</td>\n",
              "    </tr>\n",
              "    <tr>\n",
              "      <th>3</th>\n",
              "      <td>Inbound</td>\n",
              "      <td>Returns</td>\n",
              "      <td>Reverse Pickup Enquiry</td>\n",
              "      <td>NaN</td>\n",
              "      <td>NaN</td>\n",
              "      <td>NaN</td>\n",
              "      <td>&gt;90</td>\n",
              "      <td>Evening</td>\n",
              "      <td>20.0</td>\n",
              "      <td>0</td>\n",
              "    </tr>\n",
              "    <tr>\n",
              "      <th>4</th>\n",
              "      <td>Inbound</td>\n",
              "      <td>Cancellation</td>\n",
              "      <td>Not Needed</td>\n",
              "      <td>NaN</td>\n",
              "      <td>NaN</td>\n",
              "      <td>NaN</td>\n",
              "      <td>0-30</td>\n",
              "      <td>Morning</td>\n",
              "      <td>2.0</td>\n",
              "      <td>0</td>\n",
              "    </tr>\n",
              "    <tr>\n",
              "      <th>...</th>\n",
              "      <td>...</td>\n",
              "      <td>...</td>\n",
              "      <td>...</td>\n",
              "      <td>...</td>\n",
              "      <td>...</td>\n",
              "      <td>...</td>\n",
              "      <td>...</td>\n",
              "      <td>...</td>\n",
              "      <td>...</td>\n",
              "      <td>...</td>\n",
              "    </tr>\n",
              "    <tr>\n",
              "      <th>85902</th>\n",
              "      <td>Inbound</td>\n",
              "      <td>Refund Related</td>\n",
              "      <td>Refund Enquiry</td>\n",
              "      <td>NaN</td>\n",
              "      <td>NaN</td>\n",
              "      <td>NaN</td>\n",
              "      <td>On Job Training</td>\n",
              "      <td>Morning</td>\n",
              "      <td>482.0</td>\n",
              "      <td>0</td>\n",
              "    </tr>\n",
              "    <tr>\n",
              "      <th>85903</th>\n",
              "      <td>Inbound</td>\n",
              "      <td>Order Related</td>\n",
              "      <td>Seller Cancelled Order</td>\n",
              "      <td>NaN</td>\n",
              "      <td>NaN</td>\n",
              "      <td>NaN</td>\n",
              "      <td>&gt;90</td>\n",
              "      <td>Morning</td>\n",
              "      <td>2.0</td>\n",
              "      <td>0</td>\n",
              "    </tr>\n",
              "    <tr>\n",
              "      <th>85904</th>\n",
              "      <td>Inbound</td>\n",
              "      <td>Order Related</td>\n",
              "      <td>Order status enquiry</td>\n",
              "      <td>NaN</td>\n",
              "      <td>NaN</td>\n",
              "      <td>NaN</td>\n",
              "      <td>On Job Training</td>\n",
              "      <td>Evening</td>\n",
              "      <td>5.0</td>\n",
              "      <td>0</td>\n",
              "    </tr>\n",
              "    <tr>\n",
              "      <th>85905</th>\n",
              "      <td>Inbound</td>\n",
              "      <td>Feedback</td>\n",
              "      <td>UnProfessional Behaviour</td>\n",
              "      <td>NaN</td>\n",
              "      <td>NaN</td>\n",
              "      <td>NaN</td>\n",
              "      <td>&gt;90</td>\n",
              "      <td>Morning</td>\n",
              "      <td>1.0</td>\n",
              "      <td>0</td>\n",
              "    </tr>\n",
              "    <tr>\n",
              "      <th>85906</th>\n",
              "      <td>Inbound</td>\n",
              "      <td>Returns</td>\n",
              "      <td>Reverse Pickup Enquiry</td>\n",
              "      <td>NaN</td>\n",
              "      <td>NaN</td>\n",
              "      <td>NaN</td>\n",
              "      <td>On Job Training</td>\n",
              "      <td>Evening</td>\n",
              "      <td>1.0</td>\n",
              "      <td>0</td>\n",
              "    </tr>\n",
              "  </tbody>\n",
              "</table>\n",
              "<p>85907 rows × 10 columns</p>\n",
              "</div>"
            ],
            "text/plain": [
              "      channel_name         category                  Sub-category  \\\n",
              "0          Outcall  Product Queries                Life Insurance   \n",
              "1          Outcall  Product Queries  Product Specific Information   \n",
              "2          Inbound    Order Related             Installation/demo   \n",
              "3          Inbound          Returns        Reverse Pickup Enquiry   \n",
              "4          Inbound     Cancellation                    Not Needed   \n",
              "...            ...              ...                           ...   \n",
              "85902      Inbound   Refund Related                Refund Enquiry   \n",
              "85903      Inbound    Order Related        Seller Cancelled Order   \n",
              "85904      Inbound    Order Related          Order status enquiry   \n",
              "85905      Inbound         Feedback      UnProfessional Behaviour   \n",
              "85906      Inbound          Returns        Reverse Pickup Enquiry   \n",
              "\n",
              "      Product_category  Item_price  connected_handling_time    Tenure Bucket  \\\n",
              "0                  NaN         NaN                      NaN  On Job Training   \n",
              "1                  NaN         NaN                      NaN              >90   \n",
              "2                  NaN         NaN                      NaN  On Job Training   \n",
              "3                  NaN         NaN                      NaN              >90   \n",
              "4                  NaN         NaN                      NaN             0-30   \n",
              "...                ...         ...                      ...              ...   \n",
              "85902              NaN         NaN                      NaN  On Job Training   \n",
              "85903              NaN         NaN                      NaN              >90   \n",
              "85904              NaN         NaN                      NaN  On Job Training   \n",
              "85905              NaN         NaN                      NaN              >90   \n",
              "85906              NaN         NaN                      NaN  On Job Training   \n",
              "\n",
              "      Agent Shift  response_time_minutes  escalated  \n",
              "0         Morning                   34.0          0  \n",
              "1         Morning                    2.0          0  \n",
              "2         Evening                   22.0          0  \n",
              "3         Evening                   20.0          0  \n",
              "4         Morning                    2.0          0  \n",
              "...           ...                    ...        ...  \n",
              "85902     Morning                  482.0          0  \n",
              "85903     Morning                    2.0          0  \n",
              "85904     Evening                    5.0          0  \n",
              "85905     Morning                    1.0          0  \n",
              "85906     Evening                    1.0          0  \n",
              "\n",
              "[85907 rows x 10 columns]"
            ]
          },
          "execution_count": 42,
          "metadata": {},
          "output_type": "execute_result"
        }
      ],
      "source": [
        "data"
      ]
    },
    {
      "cell_type": "code",
      "execution_count": 43,
      "metadata": {},
      "outputs": [
        {
          "name": "stdout",
          "output_type": "stream",
          "text": [
            "<class 'pandas.core.frame.DataFrame'>\n",
            "RangeIndex: 85907 entries, 0 to 85906\n",
            "Data columns (total 10 columns):\n",
            " #   Column                   Non-Null Count  Dtype  \n",
            "---  ------                   --------------  -----  \n",
            " 0   channel_name             85907 non-null  object \n",
            " 1   category                 85907 non-null  object \n",
            " 2   Sub-category             85907 non-null  object \n",
            " 3   Product_category         17196 non-null  object \n",
            " 4   Item_price               17206 non-null  float64\n",
            " 5   connected_handling_time  242 non-null    float64\n",
            " 6   Tenure Bucket            85907 non-null  object \n",
            " 7   Agent Shift              85907 non-null  object \n",
            " 8   response_time_minutes    85907 non-null  float64\n",
            " 9   escalated                85907 non-null  int64  \n",
            "dtypes: float64(3), int64(1), object(6)\n",
            "memory usage: 6.6+ MB\n"
          ]
        }
      ],
      "source": [
        "data.info()"
      ]
    },
    {
      "cell_type": "code",
      "execution_count": 44,
      "metadata": {},
      "outputs": [
        {
          "data": {
            "text/plain": [
              "Product_category\n",
              "NaN                            68711\n",
              "Electronics                     4706\n",
              "LifeStyle                       4118\n",
              "Books & General merchandise     3323\n",
              "Mobile                          1758\n",
              "Home                            1328\n",
              "Home Appliences                 1300\n",
              "Furniture                        471\n",
              "Affiliates                       166\n",
              "GiftCard                          26\n",
              "Name: count, dtype: int64"
            ]
          },
          "execution_count": 44,
          "metadata": {},
          "output_type": "execute_result"
        }
      ],
      "source": [
        "data['Product_category'].value_counts(dropna=False)"
      ]
    },
    {
      "cell_type": "code",
      "execution_count": 45,
      "metadata": {
        "id": "iRsAHk1K0fpS"
      },
      "outputs": [
        {
          "name": "stderr",
          "output_type": "stream",
          "text": [
            "C:\\Users\\sumit\\AppData\\Local\\Temp\\ipykernel_6068\\3695246639.py:2: SettingWithCopyWarning: \n",
            "A value is trying to be set on a copy of a slice from a DataFrame.\n",
            "Try using .loc[row_indexer,col_indexer] = value instead\n",
            "\n",
            "See the caveats in the documentation: https://pandas.pydata.org/pandas-docs/stable/user_guide/indexing.html#returning-a-view-versus-a-copy\n",
            "  data['Item_price'] = data['Item_price'].fillna(data['Item_price'].median())\n",
            "C:\\Users\\sumit\\AppData\\Local\\Temp\\ipykernel_6068\\3695246639.py:3: SettingWithCopyWarning: \n",
            "A value is trying to be set on a copy of a slice from a DataFrame.\n",
            "Try using .loc[row_indexer,col_indexer] = value instead\n",
            "\n",
            "See the caveats in the documentation: https://pandas.pydata.org/pandas-docs/stable/user_guide/indexing.html#returning-a-view-versus-a-copy\n",
            "  data['connected_handling_time'] = data['connected_handling_time'].fillna(data['connected_handling_time'].median())\n",
            "C:\\Users\\sumit\\AppData\\Local\\Temp\\ipykernel_6068\\3695246639.py:4: SettingWithCopyWarning: \n",
            "A value is trying to be set on a copy of a slice from a DataFrame.\n",
            "Try using .loc[row_indexer,col_indexer] = value instead\n",
            "\n",
            "See the caveats in the documentation: https://pandas.pydata.org/pandas-docs/stable/user_guide/indexing.html#returning-a-view-versus-a-copy\n",
            "  data['Product_category'] = data['Product_category'].fillna('Unknown')\n"
          ]
        }
      ],
      "source": [
        "# Handling Missing Values & Missing Value Imputation\n",
        "data['Item_price'] = data['Item_price'].fillna(data['Item_price'].median())\n",
        "data['connected_handling_time'] = data['connected_handling_time'].fillna(data['connected_handling_time'].median())\n",
        "data['Product_category'] = data['Product_category'].fillna('Unknown')"
      ]
    },
    {
      "cell_type": "markdown",
      "metadata": {
        "id": "7wuGOrhz0itI"
      },
      "source": [
        "#### What all missing value imputation techniques have you used and why did you use those techniques?"
      ]
    },
    {
      "cell_type": "markdown",
      "metadata": {
        "id": "1ixusLtI0pqI"
      },
      "source": [
        "Answer Here.",
        "Answer Here.\n",
        "### Missing Value Imputation Techniques Used\n",
        "-  1. Median Imputation for Numerical Features\n",
        "-  2. Categorical Imputation Using “Unknown” Label"
      ]
    },
    {
      "cell_type": "markdown",
      "metadata": {
        "id": "id1riN9m0vUs"
      },
      "source": [
        "### 2. Handling Outliers"
      ]
    },
    {
      "cell_type": "code",
      "execution_count": 40,
      "metadata": {
        "id": "M6w2CzZf04JK"
      },
      "outputs": [],
      "source": [
        "# Handling Outliers & Outlier treatments"
      ],
      "execution_count": 46,
      "metadata": {
        "id": "M6w2CzZf04JK"
      },
      "outputs": [
        {
          "data": {
            "image/png": "[encoded data removed]",
            "text/plain": [
              "<Figure size 640x480 with 1 Axes>"
            ]
          },
          "metadata": {},
          "output_type": "display_data"
        },
        {
          "data": {
            "image/png": "[encoded data removed]",
            "text/plain": [
              "<Figure size 640x480 with 1 Axes>"
            ]
          },
          "metadata": {},
          "output_type": "display_data"
        }
      ],
      "source": [
        "# Handling Outliers & Outlier treatments\n",
        "# Item_price\n",
        "sns.boxplot(x=data['Item_price'])\n",
        "plt.title('Boxplot of Item Price')\n",
        "plt.show()\n",
        "\n",
        "# connected_handling_time\n",
        "sns.boxplot(x=data['connected_handling_time'])\n",
        "plt.title('Boxplot of Connected Handling Time')\n",
        "plt.show()"
      ]
    },
    {
      "cell_type": "code",
      "execution_count": 47,
      "metadata": {},
      "outputs": [],
      "source": [
        "def cap_outliers(data, column):\n",
        "    lower_cap = data[column].quantile(0.05)\n",
        "    upper_cap = data[column].quantile(0.95)\n",
        "    data[column] = np.where(data[column] < lower_cap, lower_cap, data[column])\n",
        "    data[column] = np.where(data[column] > upper_cap, upper_cap, data[column])\n",
        "    return data"
      ]
    },
    {
      "cell_type": "code",
      "execution_count": 48,
      "metadata": {},
      "outputs": [
        {
          "name": "stderr",
          "output_type": "stream",
          "text": [
            "C:\\Users\\sumit\\AppData\\Local\\Temp\\ipykernel_6068\\953331621.py:4: SettingWithCopyWarning: \n",
            "A value is trying to be set on a copy of a slice from a DataFrame.\n",
            "Try using .loc[row_indexer,col_indexer] = value instead\n",
            "\n",
            "See the caveats in the documentation: https://pandas.pydata.org/pandas-docs/stable/user_guide/indexing.html#returning-a-view-versus-a-copy\n",
            "  data[column] = np.where(data[column] < lower_cap, lower_cap, data[column])\n",
            "C:\\Users\\sumit\\AppData\\Local\\Temp\\ipykernel_6068\\953331621.py:5: SettingWithCopyWarning: \n",
            "A value is trying to be set on a copy of a slice from a DataFrame.\n",
            "Try using .loc[row_indexer,col_indexer] = value instead\n",
            "\n",
            "See the caveats in the documentation: https://pandas.pydata.org/pandas-docs/stable/user_guide/indexing.html#returning-a-view-versus-a-copy\n",
            "  data[column] = np.where(data[column] > upper_cap, upper_cap, data[column])\n",
            "C:\\Users\\sumit\\AppData\\Local\\Temp\\ipykernel_6068\\953331621.py:4: SettingWithCopyWarning: \n",
            "A value is trying to be set on a copy of a slice from a DataFrame.\n",
            "Try using .loc[row_indexer,col_indexer] = value instead\n",
            "\n",
            "See the caveats in the documentation: https://pandas.pydata.org/pandas-docs/stable/user_guide/indexing.html#returning-a-view-versus-a-copy\n",
            "  data[column] = np.where(data[column] < lower_cap, lower_cap, data[column])\n",
            "C:\\Users\\sumit\\AppData\\Local\\Temp\\ipykernel_6068\\953331621.py:5: SettingWithCopyWarning: \n",
            "A value is trying to be set on a copy of a slice from a DataFrame.\n",
            "Try using .loc[row_indexer,col_indexer] = value instead\n",
            "\n",
            "See the caveats in the documentation: https://pandas.pydata.org/pandas-docs/stable/user_guide/indexing.html#returning-a-view-versus-a-copy\n",
            "  data[column] = np.where(data[column] > upper_cap, upper_cap, data[column])\n"
          ]
        }
      ],
      "source": [
        "data = cap_outliers(data, 'Item_price')\n",
        "data = cap_outliers(data, 'connected_handling_time')\n"
      ]
    },
    {
      "cell_type": "code",
      "execution_count": 49,
      "metadata": {},
      "outputs": [
        {
          "data": {
            "image/png": "[encoded data removed]",
            "text/plain": [
              "<Figure size 640x480 with 1 Axes>"
            ]
          },
          "metadata": {},
          "output_type": "display_data"
        },
        {
          "data": {
            "image/png": "[encoded data removed]",
            "text/plain": [
              "<Figure size 640x480 with 1 Axes>"
            ]
          },
          "metadata": {},
          "output_type": "display_data"
        }
      ],
      "source": [
        "# Item_price\n",
        "sns.boxplot(x=data['Item_price'])\n",
        "plt.title('Boxplot of Item Price')\n",
        "plt.show()\n",
        "\n",
        "# connected_handling_time\n",
        "sns.boxplot(x=data['connected_handling_time'])\n",
        "plt.title('Boxplot of Connected Handling Time')\n",
        "plt.show()"
      ]
    },
    {
      "cell_type": "code",
      "execution_count": 50,
      "metadata": {},
      "outputs": [
        {
          "data": {
            "text/plain": [
              "Product_category\n",
              "Unknown                        68711\n",
              "Electronics                     4706\n",
              "LifeStyle                       4118\n",
              "Books & General merchandise     3323\n",
              "Mobile                          1758\n",
              "Home                            1328\n",
              "Home Appliences                 1300\n",
              "Furniture                        471\n",
              "Affiliates                       166\n",
              "GiftCard                          26\n",
              "Name: count, dtype: int64"
            ]
          },
          "execution_count": 50,
          "metadata": {},
          "output_type": "execute_result"
        }
      ],
      "source": [
        "data['Product_category'].value_counts(dropna=False)"
      ]
    },
    {
      "cell_type": "markdown",
      "metadata": {
        "id": "578E2V7j08f6"
      },
      "source": [
        "##### What all outlier treatment techniques have you used and why did you use those techniques?"
      ]
    },
    {
      "cell_type": "markdown",
      "metadata": {
        "id": "uGZz5OrT1HH-"
      },
      "source": [
        "Answer Here.",
        "Answer Here.\n",
        "###  Winsorization\n",
        "\n",
        "- Maintains the size of the dataset.\n",
        "\n",
        "- Reduces the influence of outliers without removing data points."
      ]
    },
    {
      "cell_type": "markdown",
      "metadata": {
        "id": "89xtkJwZ18nB"
      },
      "source": [
        "### 3. Categorical Encoding"
      ]
    },
    {
      "cell_type": "code",
      "execution_count": 41,
      "execution_count": null,
      "metadata": {
        "id": "21JmIYMG2hEo"
      },
      "outputs": [],
      "source": [
        "# Encode your categorical columns"
      ],
      "source": []
    },
    {
      "cell_type": "code",
      "execution_count": 51,
      "metadata": {},
      "outputs": [
        {
          "name": "stdout",
          "output_type": "stream",
          "text": [
            "(85907, 90)\n"
          ]
        },
        {
          "data": {
            "text/html": [
              "<div>\n",
              "<style scoped>\n",
              "    .dataframe tbody tr th:only-of-type {\n",
              "        vertical-align: middle;\n",
              "    }\n",
              "\n",
              "    .dataframe tbody tr th {\n",
              "        vertical-align: top;\n",
              "    }\n",
              "\n",
              "    .dataframe thead th {\n",
              "        text-align: right;\n",
              "    }\n",
              "</style>\n",
              "<table border=\"1\" class=\"dataframe\">\n",
              "  <thead>\n",
              "    <tr style=\"text-align: right;\">\n",
              "      <th></th>\n",
              "      <th>channel_name_Inbound</th>\n",
              "      <th>channel_name_Outcall</th>\n",
              "      <th>category_Cancellation</th>\n",
              "      <th>category_Feedback</th>\n",
              "      <th>category_Offers &amp; Cashback</th>\n",
              "      <th>category_Onboarding related</th>\n",
              "      <th>category_Order Related</th>\n",
              "      <th>category_Others</th>\n",
              "      <th>category_Payments related</th>\n",
              "      <th>category_Product Queries</th>\n",
              "      <th>...</th>\n",
              "      <th>Tenure Bucket_&gt;90</th>\n",
              "      <th>Tenure Bucket_On Job Training</th>\n",
              "      <th>Agent Shift_Evening</th>\n",
              "      <th>Agent Shift_Morning</th>\n",
              "      <th>Agent Shift_Night</th>\n",
              "      <th>Agent Shift_Split</th>\n",
              "      <th>Item_price</th>\n",
              "      <th>connected_handling_time</th>\n",
              "      <th>response_time_minutes</th>\n",
              "      <th>escalated</th>\n",
              "    </tr>\n",
              "  </thead>\n",
              "  <tbody>\n",
              "    <tr>\n",
              "      <th>0</th>\n",
              "      <td>0.0</td>\n",
              "      <td>1.0</td>\n",
              "      <td>0.0</td>\n",
              "      <td>0.0</td>\n",
              "      <td>0.0</td>\n",
              "      <td>0.0</td>\n",
              "      <td>0.0</td>\n",
              "      <td>0.0</td>\n",
              "      <td>0.0</td>\n",
              "      <td>1.0</td>\n",
              "      <td>...</td>\n",
              "      <td>0.0</td>\n",
              "      <td>1.0</td>\n",
              "      <td>0.0</td>\n",
              "      <td>1.0</td>\n",
              "      <td>0.0</td>\n",
              "      <td>0.0</td>\n",
              "      <td>979.0</td>\n",
              "      <td>427.0</td>\n",
              "      <td>34.0</td>\n",
              "      <td>0</td>\n",
              "    </tr>\n",
              "    <tr>\n",
              "      <th>1</th>\n",
              "      <td>0.0</td>\n",
              "      <td>1.0</td>\n",
              "      <td>0.0</td>\n",
              "      <td>0.0</td>\n",
              "      <td>0.0</td>\n",
              "      <td>0.0</td>\n",
              "      <td>0.0</td>\n",
              "      <td>0.0</td>\n",
              "      <td>0.0</td>\n",
              "      <td>1.0</td>\n",
              "      <td>...</td>\n",
              "      <td>1.0</td>\n",
              "      <td>0.0</td>\n",
              "      <td>0.0</td>\n",
              "      <td>1.0</td>\n",
              "      <td>0.0</td>\n",
              "      <td>0.0</td>\n",
              "      <td>979.0</td>\n",
              "      <td>427.0</td>\n",
              "      <td>2.0</td>\n",
              "      <td>0</td>\n",
              "    </tr>\n",
              "    <tr>\n",
              "      <th>2</th>\n",
              "      <td>1.0</td>\n",
              "      <td>0.0</td>\n",
              "      <td>0.0</td>\n",
              "      <td>0.0</td>\n",
              "      <td>0.0</td>\n",
              "      <td>0.0</td>\n",
              "      <td>1.0</td>\n",
              "      <td>0.0</td>\n",
              "      <td>0.0</td>\n",
              "      <td>0.0</td>\n",
              "      <td>...</td>\n",
              "      <td>0.0</td>\n",
              "      <td>1.0</td>\n",
              "      <td>1.0</td>\n",
              "      <td>0.0</td>\n",
              "      <td>0.0</td>\n",
              "      <td>0.0</td>\n",
              "      <td>979.0</td>\n",
              "      <td>427.0</td>\n",
              "      <td>22.0</td>\n",
              "      <td>0</td>\n",
              "    </tr>\n",
              "    <tr>\n",
              "      <th>3</th>\n",
              "      <td>1.0</td>\n",
              "      <td>0.0</td>\n",
              "      <td>0.0</td>\n",
              "      <td>0.0</td>\n",
              "      <td>0.0</td>\n",
              "      <td>0.0</td>\n",
              "      <td>0.0</td>\n",
              "      <td>0.0</td>\n",
              "      <td>0.0</td>\n",
              "      <td>0.0</td>\n",
              "      <td>...</td>\n",
              "      <td>1.0</td>\n",
              "      <td>0.0</td>\n",
              "      <td>1.0</td>\n",
              "      <td>0.0</td>\n",
              "      <td>0.0</td>\n",
              "      <td>0.0</td>\n",
              "      <td>979.0</td>\n",
              "      <td>427.0</td>\n",
              "      <td>20.0</td>\n",
              "      <td>0</td>\n",
              "    </tr>\n",
              "    <tr>\n",
              "      <th>4</th>\n",
              "      <td>1.0</td>\n",
              "      <td>0.0</td>\n",
              "      <td>1.0</td>\n",
              "      <td>0.0</td>\n",
              "      <td>0.0</td>\n",
              "      <td>0.0</td>\n",
              "      <td>0.0</td>\n",
              "      <td>0.0</td>\n",
              "      <td>0.0</td>\n",
              "      <td>0.0</td>\n",
              "      <td>...</td>\n",
              "      <td>0.0</td>\n",
              "      <td>0.0</td>\n",
              "      <td>0.0</td>\n",
              "      <td>1.0</td>\n",
              "      <td>0.0</td>\n",
              "      <td>0.0</td>\n",
              "      <td>979.0</td>\n",
              "      <td>427.0</td>\n",
              "      <td>2.0</td>\n",
              "      <td>0</td>\n",
              "    </tr>\n",
              "  </tbody>\n",
              "</table>\n",
              "<p>5 rows × 90 columns</p>\n",
              "</div>"
            ],
            "text/plain": [
              "   channel_name_Inbound  channel_name_Outcall  category_Cancellation  \\\n",
              "0                   0.0                   1.0                    0.0   \n",
              "1                   0.0                   1.0                    0.0   \n",
              "2                   1.0                   0.0                    0.0   \n",
              "3                   1.0                   0.0                    0.0   \n",
              "4                   1.0                   0.0                    1.0   \n",
              "\n",
              "   category_Feedback  category_Offers & Cashback  category_Onboarding related  \\\n",
              "0                0.0                         0.0                          0.0   \n",
              "1                0.0                         0.0                          0.0   \n",
              "2                0.0                         0.0                          0.0   \n",
              "3                0.0                         0.0                          0.0   \n",
              "4                0.0                         0.0                          0.0   \n",
              "\n",
              "   category_Order Related  category_Others  category_Payments related  \\\n",
              "0                     0.0              0.0                        0.0   \n",
              "1                     0.0              0.0                        0.0   \n",
              "2                     1.0              0.0                        0.0   \n",
              "3                     0.0              0.0                        0.0   \n",
              "4                     0.0              0.0                        0.0   \n",
              "\n",
              "   category_Product Queries  ...  Tenure Bucket_>90  \\\n",
              "0                       1.0  ...                0.0   \n",
              "1                       1.0  ...                1.0   \n",
              "2                       0.0  ...                0.0   \n",
              "3                       0.0  ...                1.0   \n",
              "4                       0.0  ...                0.0   \n",
              "\n",
              "   Tenure Bucket_On Job Training  Agent Shift_Evening  Agent Shift_Morning  \\\n",
              "0                            1.0                  0.0                  1.0   \n",
              "1                            0.0                  0.0                  1.0   \n",
              "2                            1.0                  1.0                  0.0   \n",
              "3                            0.0                  1.0                  0.0   \n",
              "4                            0.0                  0.0                  1.0   \n",
              "\n",
              "   Agent Shift_Night  Agent Shift_Split  Item_price  connected_handling_time  \\\n",
              "0                0.0                0.0       979.0                    427.0   \n",
              "1                0.0                0.0       979.0                    427.0   \n",
              "2                0.0                0.0       979.0                    427.0   \n",
              "3                0.0                0.0       979.0                    427.0   \n",
              "4                0.0                0.0       979.0                    427.0   \n",
              "\n",
              "   response_time_minutes  escalated  \n",
              "0                   34.0          0  \n",
              "1                    2.0          0  \n",
              "2                   22.0          0  \n",
              "3                   20.0          0  \n",
              "4                    2.0          0  \n",
              "\n",
              "[5 rows x 90 columns]"
            ]
          },
          "execution_count": 51,
          "metadata": {},
          "output_type": "execute_result"
        }
      ],
      "source": [
        "from sklearn.preprocessing import OneHotEncoder\n",
        "from sklearn.compose import ColumnTransformer\n",
        "\n",
        "# STEP 1: Define your categorical columns\n",
        "categorical_cols = ['channel_name', 'category', 'Sub-category', 'Product_category', 'Tenure Bucket', 'Agent Shift']\n",
        "\n",
        "# STEP 2: Create the OneHotEncoder\n",
        "ohe = OneHotEncoder(drop='first', sparse_output=False, handle_unknown='ignore')\n",
        "\n",
        "# STEP 3: ColumnTransformer to apply OneHotEncoder only to categorical columns\n",
        "preprocessor = ColumnTransformer(\n",
        "    transformers=[\n",
        "        ('ohe', ohe, categorical_cols)\n",
        "    ],\n",
        "    remainder='passthrough'  # Keep non-categorical columns\n",
        ")\n",
        "\n",
        "# STEP 4: Apply transformer to original DataFrame (IMPORTANT: pass the actual DataFrame, not a NumPy array)\n",
        "encoded_array = preprocessor.fit_transform(data)\n",
        "\n",
        "# STEP 5: Get encoded column names from the OneHotEncoder\n",
        "encoded_cat_names = preprocessor.named_transformers_['ohe'].get_feature_names_out(categorical_cols)\n",
        "\n",
        "# STEP 6: Get names of numerical/remainder columns\n",
        "remainder_cols = data.drop(columns=categorical_cols).columns.tolist()\n",
        "\n",
        "# STEP 7: Combine all column names in correct order\n",
        "all_column_names = list(encoded_cat_names) + remainder_cols\n",
        "\n",
        "# STEP 8: Create final DataFrame\n",
        "df_encoded = pd.DataFrame(encoded_array, columns=all_column_names)\n",
        "\n",
        "# STEP 9: Optional - cast target column to int\n",
        "df_encoded['escalated'] = df_encoded['escalated'].astype(int)\n",
        "\n",
        "# STEP 10: Check final result\n",
        "print(df_encoded.shape)\n",
        "df_encoded.head()"
      ]
    },
    {
      "cell_type": "code",
      "execution_count": 52,
      "metadata": {},
      "outputs": [],
      "source": [
        "data = df_encoded"
      ]
    },
    {
      "cell_type": "code",
      "execution_count": 53,
      "metadata": {},
      "outputs": [
        {
          "data": {
            "text/html": [
              "<div>\n",
              "<style scoped>\n",
              "    .dataframe tbody tr th:only-of-type {\n",
              "        vertical-align: middle;\n",
              "    }\n",
              "\n",
              "    .dataframe tbody tr th {\n",
              "        vertical-align: top;\n",
              "    }\n",
              "\n",
              "    .dataframe thead th {\n",
              "        text-align: right;\n",
              "    }\n",
              "</style>\n",
              "<table border=\"1\" class=\"dataframe\">\n",
              "  <thead>\n",
              "    <tr style=\"text-align: right;\">\n",
              "      <th></th>\n",
              "      <th>channel_name_Inbound</th>\n",
              "      <th>channel_name_Outcall</th>\n",
              "      <th>category_Cancellation</th>\n",
              "      <th>category_Feedback</th>\n",
              "      <th>category_Offers &amp; Cashback</th>\n",
              "      <th>category_Onboarding related</th>\n",
              "      <th>category_Order Related</th>\n",
              "      <th>category_Others</th>\n",
              "      <th>category_Payments related</th>\n",
              "      <th>category_Product Queries</th>\n",
              "      <th>...</th>\n",
              "      <th>Tenure Bucket_&gt;90</th>\n",
              "      <th>Tenure Bucket_On Job Training</th>\n",
              "      <th>Agent Shift_Evening</th>\n",
              "      <th>Agent Shift_Morning</th>\n",
              "      <th>Agent Shift_Night</th>\n",
              "      <th>Agent Shift_Split</th>\n",
              "      <th>Item_price</th>\n",
              "      <th>connected_handling_time</th>\n",
              "      <th>response_time_minutes</th>\n",
              "      <th>escalated</th>\n",
              "    </tr>\n",
              "  </thead>\n",
              "  <tbody>\n",
              "    <tr>\n",
              "      <th>0</th>\n",
              "      <td>0.0</td>\n",
              "      <td>1.0</td>\n",
              "      <td>0.0</td>\n",
              "      <td>0.0</td>\n",
              "      <td>0.0</td>\n",
              "      <td>0.0</td>\n",
              "      <td>0.0</td>\n",
              "      <td>0.0</td>\n",
              "      <td>0.0</td>\n",
              "      <td>1.0</td>\n",
              "      <td>...</td>\n",
              "      <td>0.0</td>\n",
              "      <td>1.0</td>\n",
              "      <td>0.0</td>\n",
              "      <td>1.0</td>\n",
              "      <td>0.0</td>\n",
              "      <td>0.0</td>\n",
              "      <td>979.0</td>\n",
              "      <td>427.0</td>\n",
              "      <td>34.0</td>\n",
              "      <td>0</td>\n",
              "    </tr>\n",
              "    <tr>\n",
              "      <th>1</th>\n",
              "      <td>0.0</td>\n",
              "      <td>1.0</td>\n",
              "      <td>0.0</td>\n",
              "      <td>0.0</td>\n",
              "      <td>0.0</td>\n",
              "      <td>0.0</td>\n",
              "      <td>0.0</td>\n",
              "      <td>0.0</td>\n",
              "      <td>0.0</td>\n",
              "      <td>1.0</td>\n",
              "      <td>...</td>\n",
              "      <td>1.0</td>\n",
              "      <td>0.0</td>\n",
              "      <td>0.0</td>\n",
              "      <td>1.0</td>\n",
              "      <td>0.0</td>\n",
              "      <td>0.0</td>\n",
              "      <td>979.0</td>\n",
              "      <td>427.0</td>\n",
              "      <td>2.0</td>\n",
              "      <td>0</td>\n",
              "    </tr>\n",
              "    <tr>\n",
              "      <th>2</th>\n",
              "      <td>1.0</td>\n",
              "      <td>0.0</td>\n",
              "      <td>0.0</td>\n",
              "      <td>0.0</td>\n",
              "      <td>0.0</td>\n",
              "      <td>0.0</td>\n",
              "      <td>1.0</td>\n",
              "      <td>0.0</td>\n",
              "      <td>0.0</td>\n",
              "      <td>0.0</td>\n",
              "      <td>...</td>\n",
              "      <td>0.0</td>\n",
              "      <td>1.0</td>\n",
              "      <td>1.0</td>\n",
              "      <td>0.0</td>\n",
              "      <td>0.0</td>\n",
              "      <td>0.0</td>\n",
              "      <td>979.0</td>\n",
              "      <td>427.0</td>\n",
              "      <td>22.0</td>\n",
              "      <td>0</td>\n",
              "    </tr>\n",
              "    <tr>\n",
              "      <th>3</th>\n",
              "      <td>1.0</td>\n",
              "      <td>0.0</td>\n",
              "      <td>0.0</td>\n",
              "      <td>0.0</td>\n",
              "      <td>0.0</td>\n",
              "      <td>0.0</td>\n",
              "      <td>0.0</td>\n",
              "      <td>0.0</td>\n",
              "      <td>0.0</td>\n",
              "      <td>0.0</td>\n",
              "      <td>...</td>\n",
              "      <td>1.0</td>\n",
              "      <td>0.0</td>\n",
              "      <td>1.0</td>\n",
              "      <td>0.0</td>\n",
              "      <td>0.0</td>\n",
              "      <td>0.0</td>\n",
              "      <td>979.0</td>\n",
              "      <td>427.0</td>\n",
              "      <td>20.0</td>\n",
              "      <td>0</td>\n",
              "    </tr>\n",
              "    <tr>\n",
              "      <th>4</th>\n",
              "      <td>1.0</td>\n",
              "      <td>0.0</td>\n",
              "      <td>1.0</td>\n",
              "      <td>0.0</td>\n",
              "      <td>0.0</td>\n",
              "      <td>0.0</td>\n",
              "      <td>0.0</td>\n",
              "      <td>0.0</td>\n",
              "      <td>0.0</td>\n",
              "      <td>0.0</td>\n",
              "      <td>...</td>\n",
              "      <td>0.0</td>\n",
              "      <td>0.0</td>\n",
              "      <td>0.0</td>\n",
              "      <td>1.0</td>\n",
              "      <td>0.0</td>\n",
              "      <td>0.0</td>\n",
              "      <td>979.0</td>\n",
              "      <td>427.0</td>\n",
              "      <td>2.0</td>\n",
              "      <td>0</td>\n",
              "    </tr>\n",
              "  </tbody>\n",
              "</table>\n",
              "<p>5 rows × 90 columns</p>\n",
              "</div>"
            ],
            "text/plain": [
              "   channel_name_Inbound  channel_name_Outcall  category_Cancellation  \\\n",
              "0                   0.0                   1.0                    0.0   \n",
              "1                   0.0                   1.0                    0.0   \n",
              "2                   1.0                   0.0                    0.0   \n",
              "3                   1.0                   0.0                    0.0   \n",
              "4                   1.0                   0.0                    1.0   \n",
              "\n",
              "   category_Feedback  category_Offers & Cashback  category_Onboarding related  \\\n",
              "0                0.0                         0.0                          0.0   \n",
              "1                0.0                         0.0                          0.0   \n",
              "2                0.0                         0.0                          0.0   \n",
              "3                0.0                         0.0                          0.0   \n",
              "4                0.0                         0.0                          0.0   \n",
              "\n",
              "   category_Order Related  category_Others  category_Payments related  \\\n",
              "0                     0.0              0.0                        0.0   \n",
              "1                     0.0              0.0                        0.0   \n",
              "2                     1.0              0.0                        0.0   \n",
              "3                     0.0              0.0                        0.0   \n",
              "4                     0.0              0.0                        0.0   \n",
              "\n",
              "   category_Product Queries  ...  Tenure Bucket_>90  \\\n",
              "0                       1.0  ...                0.0   \n",
              "1                       1.0  ...                1.0   \n",
              "2                       0.0  ...                0.0   \n",
              "3                       0.0  ...                1.0   \n",
              "4                       0.0  ...                0.0   \n",
              "\n",
              "   Tenure Bucket_On Job Training  Agent Shift_Evening  Agent Shift_Morning  \\\n",
              "0                            1.0                  0.0                  1.0   \n",
              "1                            0.0                  0.0                  1.0   \n",
              "2                            1.0                  1.0                  0.0   \n",
              "3                            0.0                  1.0                  0.0   \n",
              "4                            0.0                  0.0                  1.0   \n",
              "\n",
              "   Agent Shift_Night  Agent Shift_Split  Item_price  connected_handling_time  \\\n",
              "0                0.0                0.0       979.0                    427.0   \n",
              "1                0.0                0.0       979.0                    427.0   \n",
              "2                0.0                0.0       979.0                    427.0   \n",
              "3                0.0                0.0       979.0                    427.0   \n",
              "4                0.0                0.0       979.0                    427.0   \n",
              "\n",
              "   response_time_minutes  escalated  \n",
              "0                   34.0          0  \n",
              "1                    2.0          0  \n",
              "2                   22.0          0  \n",
              "3                   20.0          0  \n",
              "4                    2.0          0  \n",
              "\n",
              "[5 rows x 90 columns]"
            ]
          },
          "execution_count": 53,
          "metadata": {},
          "output_type": "execute_result"
        }
      ],
      "source": [
        "data.head()"
      ]
    },
    {
      "cell_type": "markdown",
      "metadata": {
        "id": "67NQN5KX2AMe"
      },
      "source": [
        "#### What all categorical encoding techniques have you used & why did you use those techniques?"
      ]
    },
    {
      "cell_type": "markdown",
      "metadata": {
        "id": "UDaue5h32n_G"
      },
      "source": [
        "Answer Here.",
        "Answer Here.\n",
        "### One-Hot Encoding Using sklearn's OneHotEncoder\n",
        "- It is suitable for nominal categorical variables (where no ordering exists, e.g., channel names, product categories).\n",
        "\n",
        "- drop='first' helps prevent multicollinearity (dummy variable trap) especially important in linear models.\n",
        "\n",
        "- Used via sklearn for compatibility with ML pipelines.\n",
        "\n",
        "- handle_unknown='ignore' ensures model won't break if a new category appears in test data."
      ]
    },
    {
      "cell_type": "markdown",
      "metadata": {
        "id": "Iwf50b-R2tYG"
      },
      "source": [
        "### 4. Textual Data Preprocessing\n",
        "(It's mandatory for textual dataset i.e., NLP, Sentiment Analysis, Text Clustering etc.)"
      ]
    },
    {
      "cell_type": "markdown",
      "metadata": {},
      "source": [
        "# No Textual Data PreProcessing required here"
      ]
    },
    {
      "cell_type": "markdown",
      "metadata": {
        "id": "GMQiZwjn3iu7"
      },
      "source": [
        "#### 1. Expand Contraction"
      ]
    },
    {
      "cell_type": "code",
      "execution_count": 42,
      "execution_count": 54,
      "metadata": {
        "id": "PTouz10C3oNN"
      },
      "outputs": [],
      "source": [
        "# Expand Contraction"
      ]
    },
    {
      "cell_type": "markdown",
      "metadata": {
        "id": "WVIkgGqN3qsr"
      },
      "source": [
        "#### 2. Lower Casing"
      ]
    },
    {
      "cell_type": "code",
      "execution_count": 43,
      "execution_count": 55,
      "metadata": {
        "id": "88JnJ1jN3w7j"
      },
      "outputs": [],
      "source": [
        "# Lower Casing"
      ]
    },
    {
      "cell_type": "markdown",
      "metadata": {
        "id": "XkPnILGE3zoT"
      },
      "source": [
        "#### 3. Removing Punctuations"
      ]
    },
    {
      "cell_type": "code",
      "execution_count": 44,
      "execution_count": 56,
      "metadata": {
        "id": "vqbBqNaA33c0"
      },
      "outputs": [],
      "source": [
        "# Remove Punctuations"
      ]
    },
    {
      "cell_type": "markdown",
      "metadata": {
        "id": "Hlsf0x5436Go"
      },
      "source": [
        "#### 4. Removing URLs & Removing words and digits contain digits."
      ]
    },
    {
      "cell_type": "code",
      "execution_count": 45,
      "execution_count": 57,
      "metadata": {
        "id": "2sxKgKxu4Ip3"
      },
      "outputs": [],
      "source": [
        "# Remove URLs & Remove words and digits contain digits"
      ]
    },
    {
      "cell_type": "markdown",
      "metadata": {
        "id": "mT9DMSJo4nBL"
      },
      "source": [
        "#### 5. Removing Stopwords & Removing White spaces"
      ]
    },
    {
      "cell_type": "code",
      "execution_count": 46,
      "execution_count": 58,
      "metadata": {
        "id": "T2LSJh154s8W"
      },
      "outputs": [],
      "source": [
        "# Remove Stopwords"
      ]
    },
    {
      "cell_type": "code",
      "execution_count": 47,
      "execution_count": 59,
      "metadata": {
        "id": "EgLJGffy4vm0"
      },
      "outputs": [],
      "source": [
        "# Remove White spaces"
      ]
    },
    {
      "cell_type": "markdown",
      "metadata": {
        "id": "c49ITxTc407N"
      },
      "source": [
        "#### 6. Rephrase Text"
      ]
    },
    {
      "cell_type": "code",
      "execution_count": 48,
      "execution_count": 60,
      "metadata": {
        "id": "foqY80Qu48N2"
      },
      "outputs": [],
      "source": [
        "# Rephrase Text"
      ]
    },
    {
      "cell_type": "markdown",
      "metadata": {
        "id": "OeJFEK0N496M"
      },
      "source": [
        "#### 7. Tokenization"
      ]
    },
    {
      "cell_type": "code",
      "execution_count": 49,
      "execution_count": 61,
      "metadata": {
        "id": "ijx1rUOS5CUU"
      },
      "outputs": [],
      "source": [
        "# Tokenization"
      ]
    },
    {
      "cell_type": "markdown",
      "metadata": {
        "id": "9ExmJH0g5HBk"
      },
      "source": [
        "#### 8. Text Normalization"
      ]
    },
    {
      "cell_type": "code",
      "execution_count": 50,
      "execution_count": 62,
      "metadata": {
        "id": "AIJ1a-Zc5PY8"
      },
      "outputs": [],
      "source": [
        "# Normalizing Text (i.e., Stemming, Lemmatization etc.)"
      ]
    },
    {
      "cell_type": "markdown",
      "metadata": {
        "id": "cJNqERVU536h"
      },
      "source": [
        "##### Which text normalization technique have you used and why?"
      ]
    },
    {
      "cell_type": "markdown",
      "metadata": {
        "id": "Z9jKVxE06BC1"
      },
      "source": [
        "Answer Here."
      ]
    },
    {
      "cell_type": "markdown",
      "metadata": {
        "id": "k5UmGsbsOxih"
      },
      "source": [
        "#### 9. Part of speech tagging"
      ]
    },
    {
      "cell_type": "code",
      "execution_count": 51,
      "execution_count": 63,
      "metadata": {
        "id": "btT3ZJBAO6Ik"
      },
      "outputs": [],
      "source": [
        "# POS Taging"
      ]
    },
    {
      "cell_type": "markdown",
      "metadata": {
        "id": "T0VqWOYE6DLQ"
      },
      "source": [
        "#### 10. Text Vectorization"
      ]
    },
    {
      "cell_type": "code",
      "execution_count": 52,
      "execution_count": 64,
      "metadata": {
        "id": "yBRtdhth6JDE"
      },
      "outputs": [],
      "source": [
        "# Vectorizing Text"
      ]
    },
    {
      "cell_type": "markdown",
      "metadata": {
        "id": "qBMux9mC6MCf"
      },
      "source": [
        "##### Which text vectorization technique have you used and why?"
      ]
    },
    {
      "cell_type": "markdown",
      "metadata": {
        "id": "su2EnbCh6UKQ"
      },
      "source": [
        "Answer Here."
      ]
    },
    {
      "cell_type": "markdown",
      "metadata": {
        "id": "-oLEiFgy-5Pf"
      },
      "source": [
        "### 4. Feature Manipulation & Selection"
      ]
    },
    {
      "cell_type": "markdown",
      "metadata": {
        "id": "C74aWNz2AliB"
      },
      "source": [
        "#### 1. Feature Manipulation"
      ]
    },
    {
      "cell_type": "code",
      "execution_count": 53,
      "metadata": {
        "id": "h1qC4yhBApWC"
      },
      "outputs": [],
      "source": [
        "# Manipulate Features to minimize feature correlation and create new features\n"
      ],
      "execution_count": 65,
      "metadata": {
        "id": "h1qC4yhBApWC"
      },
      "outputs": [
        {
          "data": {
            "text/plain": [
              "['channel_name_Inbound',\n",
              " 'channel_name_Outcall',\n",
              " 'category_Cancellation',\n",
              " 'category_Feedback',\n",
              " 'category_Offers & Cashback',\n",
              " 'category_Onboarding related',\n",
              " 'category_Order Related',\n",
              " 'category_Others',\n",
              " 'category_Payments related',\n",
              " 'category_Product Queries',\n",
              " 'category_Refund Related',\n",
              " 'category_Returns',\n",
              " 'category_Shopzilla Related',\n",
              " 'Sub-category_Affiliate Offers',\n",
              " 'Sub-category_App/website Related',\n",
              " 'Sub-category_Billing Related',\n",
              " 'Sub-category_COD Refund Details',\n",
              " 'Sub-category_Call back request',\n",
              " 'Sub-category_Call disconnected',\n",
              " 'Sub-category_Card/EMI',\n",
              " 'Sub-category_Commission related',\n",
              " 'Sub-category_Customer Requested Modifications',\n",
              " 'Sub-category_Damaged',\n",
              " 'Sub-category_Delayed',\n",
              " 'Sub-category_Exchange / Replacement',\n",
              " 'Sub-category_Fraudulent User',\n",
              " 'Sub-category_General Enquiry',\n",
              " 'Sub-category_Installation/demo',\n",
              " 'Sub-category_Instant discount',\n",
              " 'Sub-category_Invoice request',\n",
              " 'Sub-category_Issues with Shopzilla App',\n",
              " 'Sub-category_Life Insurance',\n",
              " 'Sub-category_Missing',\n",
              " 'Sub-category_Non Order related',\n",
              " 'Sub-category_Not Needed',\n",
              " 'Sub-category_Online Payment Issues',\n",
              " 'Sub-category_Order Verification',\n",
              " 'Sub-category_Order status enquiry',\n",
              " 'Sub-category_Other Account Related Issues',\n",
              " 'Sub-category_Other Cashback',\n",
              " 'Sub-category_Others',\n",
              " 'Sub-category_PayLater related',\n",
              " 'Sub-category_Payment pending',\n",
              " 'Sub-category_Payment related Queries',\n",
              " 'Sub-category_Policy Related',\n",
              " 'Sub-category_Priority delivery',\n",
              " 'Sub-category_Product Specific Information',\n",
              " 'Sub-category_Product related Issues',\n",
              " 'Sub-category_Refund Enquiry',\n",
              " 'Sub-category_Refund Related Issues',\n",
              " 'Sub-category_Return cancellation',\n",
              " 'Sub-category_Return request',\n",
              " 'Sub-category_Reverse Pickup Enquiry',\n",
              " 'Sub-category_Self-Help',\n",
              " 'Sub-category_Seller Cancelled Order',\n",
              " 'Sub-category_Seller onboarding',\n",
              " 'Sub-category_Service Center - Service Denial',\n",
              " 'Sub-category_Service Centres Related',\n",
              " 'Sub-category_Shopzila Premium Related',\n",
              " 'Sub-category_Shopzilla Rewards',\n",
              " 'Sub-category_Signup Issues',\n",
              " 'Sub-category_Technician Visit',\n",
              " 'Sub-category_UnProfessional Behaviour',\n",
              " 'Sub-category_Unable to Login',\n",
              " 'Sub-category_Unable to track',\n",
              " 'Sub-category_Wallet related',\n",
              " 'Sub-category_Warranty related',\n",
              " 'Sub-category_Wrong',\n",
              " 'Sub-category_e-Gift Voucher',\n",
              " 'Product_category_Books & General merchandise',\n",
              " 'Product_category_Electronics',\n",
              " 'Product_category_Furniture',\n",
              " 'Product_category_GiftCard',\n",
              " 'Product_category_Home',\n",
              " 'Product_category_Home Appliences',\n",
              " 'Product_category_LifeStyle',\n",
              " 'Product_category_Mobile',\n",
              " 'Product_category_Unknown',\n",
              " 'Tenure Bucket_31-60',\n",
              " 'Tenure Bucket_61-90',\n",
              " 'Tenure Bucket_>90',\n",
              " 'Tenure Bucket_On Job Training',\n",
              " 'Agent Shift_Evening',\n",
              " 'Agent Shift_Morning',\n",
              " 'Agent Shift_Night',\n",
              " 'Agent Shift_Split',\n",
              " 'Item_price',\n",
              " 'connected_handling_time',\n",
              " 'response_time_minutes',\n",
              " 'escalated']"
            ]
          },
          "execution_count": 65,
          "metadata": {},
          "output_type": "execute_result"
        }
      ],
      "source": [
        "# Manipulate Features to minimize feature correlation and create new features\n",
        "data.columns.tolist()\n"
      ]
    },
    {
      "cell_type": "code",
      "execution_count": 66,
      "metadata": {},
      "outputs": [
        {
          "name": "stdout",
          "output_type": "stream",
          "text": [
            "Top 10 important features:\n",
            " ['response_time_minutes', 'Item_price', 'channel_name_Inbound', 'Tenure Bucket_>90', 'Agent Shift_Evening', 'Agent Shift_Morning', 'channel_name_Outcall', 'Tenure Bucket_31-60', 'Tenure Bucket_On Job Training', 'Tenure Bucket_61-90']\n"
          ]
        }
      ],
      "source": [
        "from sklearn.ensemble import RandomForestClassifier\n",
        "\n",
        "X = data.drop('escalated', axis=1)\n",
        "y = data['escalated']\n",
        "\n",
        "model = RandomForestClassifier()\n",
        "model.fit(X, y)\n",
        "\n",
        "# Get top features\n",
        "importances = model.feature_importances_\n",
        "top_idx = importances.argsort()[::-1][:10]\n",
        "top_features = X.columns[top_idx]\n",
        "\n",
        "print(\"Top 10 important features:\\n\", top_features.tolist())"
      ]
    },
    {
      "cell_type": "code",
      "execution_count": 67,
      "metadata": {},
      "outputs": [
        {
          "data": {
            "text/plain": [
              "['channel_name_Inbound',\n",
              " 'channel_name_Outcall',\n",
              " 'category_Cancellation',\n",
              " 'category_Feedback',\n",
              " 'category_Offers & Cashback',\n",
              " 'category_Onboarding related',\n",
              " 'category_Order Related',\n",
              " 'category_Others',\n",
              " 'category_Payments related',\n",
              " 'category_Product Queries',\n",
              " 'category_Refund Related',\n",
              " 'category_Returns',\n",
              " 'category_Shopzilla Related',\n",
              " 'Sub-category_Affiliate Offers',\n",
              " 'Sub-category_App/website Related',\n",
              " 'Sub-category_Billing Related',\n",
              " 'Sub-category_COD Refund Details',\n",
              " 'Sub-category_Call back request',\n",
              " 'Sub-category_Call disconnected',\n",
              " 'Sub-category_Card/EMI',\n",
              " 'Sub-category_Commission related',\n",
              " 'Sub-category_Customer Requested Modifications',\n",
              " 'Sub-category_Damaged',\n",
              " 'Sub-category_Delayed',\n",
              " 'Sub-category_Exchange / Replacement',\n",
              " 'Sub-category_Fraudulent User',\n",
              " 'Sub-category_General Enquiry',\n",
              " 'Sub-category_Installation/demo',\n",
              " 'Sub-category_Instant discount',\n",
              " 'Sub-category_Invoice request',\n",
              " 'Sub-category_Issues with Shopzilla App',\n",
              " 'Sub-category_Life Insurance',\n",
              " 'Sub-category_Missing',\n",
              " 'Sub-category_Non Order related',\n",
              " 'Sub-category_Not Needed',\n",
              " 'Sub-category_Online Payment Issues',\n",
              " 'Sub-category_Order Verification',\n",
              " 'Sub-category_Order status enquiry',\n",
              " 'Sub-category_Other Account Related Issues',\n",
              " 'Sub-category_Other Cashback',\n",
              " 'Sub-category_Others',\n",
              " 'Sub-category_PayLater related',\n",
              " 'Sub-category_Payment pending',\n",
              " 'Sub-category_Payment related Queries',\n",
              " 'Sub-category_Policy Related',\n",
              " 'Sub-category_Priority delivery',\n",
              " 'Sub-category_Product Specific Information',\n",
              " 'Sub-category_Product related Issues',\n",
              " 'Sub-category_Refund Enquiry',\n",
              " 'Sub-category_Refund Related Issues',\n",
              " 'Sub-category_Return cancellation',\n",
              " 'Sub-category_Return request',\n",
              " 'Sub-category_Reverse Pickup Enquiry',\n",
              " 'Sub-category_Self-Help',\n",
              " 'Sub-category_Seller Cancelled Order',\n",
              " 'Sub-category_Seller onboarding',\n",
              " 'Sub-category_Service Center - Service Denial',\n",
              " 'Sub-category_Service Centres Related',\n",
              " 'Sub-category_Shopzila Premium Related',\n",
              " 'Sub-category_Shopzilla Rewards',\n",
              " 'Sub-category_Signup Issues',\n",
              " 'Sub-category_Technician Visit',\n",
              " 'Sub-category_UnProfessional Behaviour',\n",
              " 'Sub-category_Unable to Login',\n",
              " 'Sub-category_Unable to track',\n",
              " 'Sub-category_Wallet related',\n",
              " 'Sub-category_Warranty related',\n",
              " 'Sub-category_Wrong',\n",
              " 'Sub-category_e-Gift Voucher',\n",
              " 'Product_category_Books & General merchandise',\n",
              " 'Product_category_Electronics',\n",
              " 'Product_category_Furniture',\n",
              " 'Product_category_GiftCard',\n",
              " 'Product_category_Home',\n",
              " 'Product_category_Home Appliences',\n",
              " 'Product_category_LifeStyle',\n",
              " 'Product_category_Mobile',\n",
              " 'Product_category_Unknown',\n",
              " 'Tenure Bucket_31-60',\n",
              " 'Tenure Bucket_61-90',\n",
              " 'Tenure Bucket_>90',\n",
              " 'Tenure Bucket_On Job Training',\n",
              " 'Agent Shift_Evening',\n",
              " 'Agent Shift_Morning',\n",
              " 'Agent Shift_Night',\n",
              " 'Agent Shift_Split',\n",
              " 'Item_price',\n",
              " 'connected_handling_time',\n",
              " 'response_time_minutes',\n",
              " 'escalated']"
            ]
          },
          "execution_count": 67,
          "metadata": {},
          "output_type": "execute_result"
        }
      ],
      "source": [
        "data.columns.tolist()"
      ]
    },
    {
      "cell_type": "markdown",
      "metadata": {
        "id": "2DejudWSA-a0"
      },
      "source": [
        "#### 2. Feature Selection"
      ]
    },
    {
      "cell_type": "code",
      "execution_count": 54,
      "execution_count": 68,
      "metadata": {
        "id": "YLhe8UmaBCEE"
      },
      "outputs": [],
      "source": [
        "# Select your features wisely to avoid overfitting",
        "# Select your features wisely to avoid overfitting\n",
        "data = data[['response_time_minutes', 'Item_price', 'channel_name_Inbound', 'Tenure Bucket_>90', 'Agent Shift_Evening', 'channel_name_Outcall', 'Agent Shift_Morning', 'Tenure Bucket_31-60', 'Tenure Bucket_On Job Training', 'Tenure Bucket_61-90']]"
      ]
    },
    {
      "cell_type": "code",
      "execution_count": 69,
      "metadata": {},
      "outputs": [
        {
          "data": {
            "text/html": [
              "<div>\n",
              "<style scoped>\n",
              "    .dataframe tbody tr th:only-of-type {\n",
              "        vertical-align: middle;\n",
              "    }\n",
              "\n",
              "    .dataframe tbody tr th {\n",
              "        vertical-align: top;\n",
              "    }\n",
              "\n",
              "    .dataframe thead th {\n",
              "        text-align: right;\n",
              "    }\n",
              "</style>\n",
              "<table border=\"1\" class=\"dataframe\">\n",
              "  <thead>\n",
              "    <tr style=\"text-align: right;\">\n",
              "      <th></th>\n",
              "      <th>response_time_minutes</th>\n",
              "      <th>Item_price</th>\n",
              "      <th>channel_name_Inbound</th>\n",
              "      <th>Tenure Bucket_&gt;90</th>\n",
              "      <th>Agent Shift_Evening</th>\n",
              "      <th>channel_name_Outcall</th>\n",
              "      <th>Agent Shift_Morning</th>\n",
              "      <th>Tenure Bucket_31-60</th>\n",
              "      <th>Tenure Bucket_On Job Training</th>\n",
              "      <th>Tenure Bucket_61-90</th>\n",
              "    </tr>\n",
              "  </thead>\n",
              "  <tbody>\n",
              "    <tr>\n",
              "      <th>0</th>\n",
              "      <td>34.0</td>\n",
              "      <td>979.0</td>\n",
              "      <td>0.0</td>\n",
              "      <td>0.0</td>\n",
              "      <td>0.0</td>\n",
              "      <td>1.0</td>\n",
              "      <td>1.0</td>\n",
              "      <td>0.0</td>\n",
              "      <td>1.0</td>\n",
              "      <td>0.0</td>\n",
              "    </tr>\n",
              "    <tr>\n",
              "      <th>1</th>\n",
              "      <td>2.0</td>\n",
              "      <td>979.0</td>\n",
              "      <td>0.0</td>\n",
              "      <td>1.0</td>\n",
              "      <td>0.0</td>\n",
              "      <td>1.0</td>\n",
              "      <td>1.0</td>\n",
              "      <td>0.0</td>\n",
              "      <td>0.0</td>\n",
              "      <td>0.0</td>\n",
              "    </tr>\n",
              "    <tr>\n",
              "      <th>2</th>\n",
              "      <td>22.0</td>\n",
              "      <td>979.0</td>\n",
              "      <td>1.0</td>\n",
              "      <td>0.0</td>\n",
              "      <td>1.0</td>\n",
              "      <td>0.0</td>\n",
              "      <td>0.0</td>\n",
              "      <td>0.0</td>\n",
              "      <td>1.0</td>\n",
              "      <td>0.0</td>\n",
              "    </tr>\n",
              "    <tr>\n",
              "      <th>3</th>\n",
              "      <td>20.0</td>\n",
              "      <td>979.0</td>\n",
              "      <td>1.0</td>\n",
              "      <td>1.0</td>\n",
              "      <td>1.0</td>\n",
              "      <td>0.0</td>\n",
              "      <td>0.0</td>\n",
              "      <td>0.0</td>\n",
              "      <td>0.0</td>\n",
              "      <td>0.0</td>\n",
              "    </tr>\n",
              "    <tr>\n",
              "      <th>4</th>\n",
              "      <td>2.0</td>\n",
              "      <td>979.0</td>\n",
              "      <td>1.0</td>\n",
              "      <td>0.0</td>\n",
              "      <td>0.0</td>\n",
              "      <td>0.0</td>\n",
              "      <td>1.0</td>\n",
              "      <td>0.0</td>\n",
              "      <td>0.0</td>\n",
              "      <td>0.0</td>\n",
              "    </tr>\n",
              "  </tbody>\n",
              "</table>\n",
              "</div>"
            ],
            "text/plain": [
              "   response_time_minutes  Item_price  channel_name_Inbound  Tenure Bucket_>90  \\\n",
              "0                   34.0       979.0                   0.0                0.0   \n",
              "1                    2.0       979.0                   0.0                1.0   \n",
              "2                   22.0       979.0                   1.0                0.0   \n",
              "3                   20.0       979.0                   1.0                1.0   \n",
              "4                    2.0       979.0                   1.0                0.0   \n",
              "\n",
              "   Agent Shift_Evening  channel_name_Outcall  Agent Shift_Morning  \\\n",
              "0                  0.0                   1.0                  1.0   \n",
              "1                  0.0                   1.0                  1.0   \n",
              "2                  1.0                   0.0                  0.0   \n",
              "3                  1.0                   0.0                  0.0   \n",
              "4                  0.0                   0.0                  1.0   \n",
              "\n",
              "   Tenure Bucket_31-60  Tenure Bucket_On Job Training  Tenure Bucket_61-90  \n",
              "0                  0.0                            1.0                  0.0  \n",
              "1                  0.0                            0.0                  0.0  \n",
              "2                  0.0                            1.0                  0.0  \n",
              "3                  0.0                            0.0                  0.0  \n",
              "4                  0.0                            0.0                  0.0  "
            ]
          },
          "execution_count": 69,
          "metadata": {},
          "output_type": "execute_result"
        }
      ],
      "source": [
        "data.head()"
      ]
    },
    {
      "cell_type": "markdown",
      "metadata": {
        "id": "pEMng2IbBLp7"
      },
      "source": [
        "##### What all feature selection methods have you used  and why?"
      ]
    },
    {
      "cell_type": "markdown",
      "metadata": {
        "id": "rb2Lh6Z8BgGs"
      },
      "source": [
        "Answer Here.",
        "Answer Here.\n",
        "### 1. Random Forest Feature Importance\n",
        "- Random Forest is an ensemble of decision trees, which ranks features based on how much they reduce impurity (like Gini index or entropy).\n",
        "\n",
        "- It works well with both categorical (encoded) and numerical features.\n",
        "\n",
        "- It is model-agnostic, requiring no assumptions about feature distribution.\n",
        "\n",
        "- Robust to irrelevant features and useful for high-dimensional data like one-hot encoded columns."
      ]
    },
    {
      "cell_type": "code",
      "execution_count": 85,
      "metadata": {},
      "outputs": [
        {
          "data": {
            "text/plain": [
              "['response_time_minutes',\n",
              " 'Item_price',\n",
              " 'channel_name_Inbound',\n",
              " 'Tenure Bucket_>90',\n",
              " 'Agent Shift_Evening',\n",
              " 'channel_name_Outcall',\n",
              " 'Agent Shift_Morning',\n",
              " 'Tenure Bucket_31-60',\n",
              " 'Tenure Bucket_On Job Training',\n",
              " 'Tenure Bucket_61-90']"
            ]
          },
          "execution_count": 85,
          "metadata": {},
          "output_type": "execute_result"
        }
      ],
      "source": [
        "data.columns.to_list()"
      ]
    },
    {
      "cell_type": "markdown",
      "metadata": {
        "id": "rAdphbQ9Bhjc"
      },
      "source": [
        "##### Which all features you found important and why?"
      ]
    },
    {
      "cell_type": "markdown",
      "metadata": {
        "id": "fGgaEstsBnaf"
      },
      "source": [
        "Answer Here."
      ]
    },
    {
      "cell_type": "markdown",
      "metadata": {
        "id": "TNVZ9zx19K6k"
      },
      "source": [
        "### 5. Data Transformation"
      ]
    },
    {
      "cell_type": "markdown",
      "metadata": {
        "id": "nqoHp30x9hH9"
      },
      "source": [
        "#### Do you think that your data needs to be transformed? If yes, which transformation have you used. Explain Why?"
      ]
    },
    {
      "cell_type": "code",
      "execution_count": 55,
      "execution_count": 86,
      "metadata": {
        "id": "I6quWQ1T9rtH"
      },
      "outputs": [],
      "source": [
        "# Transform Your data",
        "# Transform Your data\n",
        "# Final selected input features\n",
        "selected_features = [\n",
        "    'response_time_minutes', 'Item_price', \n",
        "    'channel_name_Inbound', 'Tenure Bucket_>90', \n",
        "    'Agent Shift_Evening', 'channel_name_Outcall', \n",
        "    'Agent Shift_Morning', 'Tenure Bucket_31-60', \n",
        "    'Tenure Bucket_On Job Training', 'Tenure Bucket_61-90'\n",
        "]\n",
        "\n",
        "# Input matrix (features)\n",
        "X = data[selected_features]\n",
        "\n",
        "# Target vector\n",
        "y = df_encoded['escalated']"
      ]
    },
    {
      "cell_type": "markdown",
      "metadata": {
        "id": "rMDnDkt2B6du"
      },
      "source": [
        "### 6. Data Scaling"
      ]
    },
    {
      "cell_type": "code",
      "execution_count": 56,
      "execution_count": 87,
      "metadata": {
        "id": "dL9LWpySC6x_"
      },
      "outputs": [],
      "source": [
        "# Scaling your data",
        "# Scaling your data\n",
        "from sklearn.preprocessing import StandardScaler\n",
        "\n",
        "# Scale only numeric columns\n",
        "scaler = StandardScaler()\n",
        "X[['response_time_minutes', 'Item_price']] = scaler.fit_transform(X[['response_time_minutes', 'Item_price']])"
      ]
    },
    {
      "cell_type": "markdown",
      "metadata": {
        "id": "yiiVWRdJDDil"
      },
      "source": [
        "##### Which method have you used to scale you data and why?"
      ]
    },
    {
      "cell_type": "markdown",
      "metadata": {},
      "source": [
        "#### To prepare the data for model training, especially for algorithms sensitive to feature scales, Ii have  applied standardization using StandardScaler from sklearn.\n",
        "- Improves model convergence\n",
        "- Prevents scale dominance\n",
        "- Robust and simple"
      ]
    },
    {
      "cell_type": "markdown",
      "metadata": {
        "id": "1UUpS68QDMuG"
      },
      "source": [
        "### 7. Dimesionality Reduction"
      ]
    },
    {
      "cell_type": "markdown",
      "metadata": {
        "id": "kexQrXU-DjzY"
      },
      "source": [
        "##### Do you think that dimensionality reduction is needed? Explain Why?"
      ]
    },
    {
      "cell_type": "markdown",
      "metadata": {
        "id": "GGRlBsSGDtTQ"
      },
      "source": [
        "Answer Here.",
        "Answer Here.\n",
        "- Not necessarily in this case, but it can be considered depending on the modeling goals and the algorithm used.\n",
        "We Manually Selected Relevant Features:\n",
        "\n",
        "I already selected the top 10 most important features using RandomForestClassifier.feature_importances_.\n",
        "\n",
        "This is a form of manual feature selection, which significantly reduces the feature space.\n",
        "\n",
        "Final Feature Set Is Manageable:\n",
        "\n",
        "After encoding and selection, the dimensionality is quite low (≈ 10 features) — not enough to cause overfitting or performance issues.\n",
        "\n",
        "Tree-based Models Don’t Require Scaling or Reduction:\n",
        "\n",
        "Models like Random Forest, Decision Trees, and XGBoost are robust to high dimensionality and irrelevant features.\n"
      ]
    },
    {
      "cell_type": "code",
      "execution_count": 57,
      "execution_count": 72,
      "metadata": {
        "id": "kQfvxBBHDvCa"
      },
      "outputs": [],
      "source": [
        "# DImensionality Reduction (If needed)"
      ]
    },
    {
      "cell_type": "markdown",
      "metadata": {
        "id": "T5CmagL3EC8N"
      },
      "source": [
        "##### Which dimensionality reduction technique have you used and why? (If dimensionality reduction done on dataset.)"
      ]
    },
    {
      "cell_type": "markdown",
      "metadata": {
        "id": "ZKr75IDuEM7t"
      },
      "source": [
        "Answer Here."
      ]
    },
    {
      "cell_type": "markdown",
      "metadata": {
        "id": "BhH2vgX9EjGr"
      },
      "source": [
        "### 8. Data Splitting"
      ]
    },
    {
      "cell_type": "code",
      "execution_count": 58,
      "execution_count": 88,
      "metadata": {
        "id": "0CTyd2UwEyNM"
      },
      "outputs": [],
      "source": [
        "# Split your data to train and test. Choose Splitting ratio wisely.",
        "# Split your data to train and test. Choose Splitting ratio wisely.\n",
        "from sklearn.model_selection import train_test_split\n",
        "\n",
        "X_train, X_test, y_train, y_test = train_test_split(\n",
        "    X, y, test_size=0.2, random_state=42, stratify=y\n",
        ")\n"
      ]
    },
    {
      "cell_type": "markdown",
      "metadata": {
        "id": "qjKvONjwE8ra"
      },
      "source": [
        "##### What data splitting ratio have you used and why?"
      ]
    },
    {
      "cell_type": "markdown",
      "metadata": {
        "id": "Y2lJ8cobFDb_"
      },
      "source": [
        "Answer Here.",
        "Answer Here.\n",
        "#### We split the dataset into training and testing sets using an 80:20 ratio.\n",
        "- 80% data is used to train the model effectively, while 20% is held back to evaluate its generalization performance.\n",
        "- The 80:20 split is a commonly accepted rule of thumb in ML practice\n",
        "- With ~85,000+ total samples, 20% (≈17k) is more than enough for statistically reliable evaluation.\n",
        "- We used stratify=y to ensure both train and test sets have the same class balance as the original data."
      ]
    },
    {
      "cell_type": "markdown",
      "metadata": {
        "id": "P1XJ9OREExlT"
      },
      "source": [
        "### 9. Handling Imbalanced Dataset"
      ]
    },
    {
      "cell_type": "markdown",
      "metadata": {
        "id": "VFOzZv6IFROw"
      },
      "source": [
        "##### Do you think the dataset is imbalanced? Explain Why."
      ]
    },
    {
      "cell_type": "markdown",
      "metadata": {
        "id": "GeKDIv7pFgcC"
      },
      "source": [
        "Answer Here.",
        "Answer Here.\n",
        "### A dataset is considered imbalanced when the number of instances in one class significantly outweighs the other — typically if the minority class is less than ~30%.\n",
        "### In Our Case: Yes, It’s Imbalanced \n",
        "#### If only ~15% of the samples are labeled as escalated = 1, and ~85% are 0, the model may:\n",
        "\n",
        "- Get high accuracy by predicting mostly the majority class\n",
        "\n",
        "- Fail to identify actual escalations, which are likely the business-critical cases"
      ]
    },
    {
      "cell_type": "code",
      "execution_count": 59,
      "metadata": {
        "id": "nQsRhhZLFiDs"
      },
      "outputs": [],
      "source": [
        "# Handling Imbalanced Dataset (If needed)"
      ],
      "execution_count": 90,
      "metadata": {
        "id": "nQsRhhZLFiDs"
      },
      "outputs": [
        {
          "name": "stdout",
          "output_type": "stream",
          "text": [
            "Average F1-score: 0.2852\n",
            "Average Precision: 0.2579\n",
            "Average Recall: 0.3198\n"
          ]
        }
      ],
      "source": [
        "# Handling Imbalanced Dataset (If needed)\n",
        "from sklearn.pipeline import Pipeline\n",
        "from sklearn.ensemble import RandomForestClassifier\n",
        "from sklearn.model_selection import cross_validate\n",
        "from imblearn.over_sampling import SMOTE\n",
        "from imblearn.pipeline import Pipeline as ImbPipeline  # use imblearn's Pipeline\n",
        "from sklearn.metrics import classification_report, make_scorer, f1_score, precision_score, recall_score\n",
        "\n",
        "# Step 1: Define pipeline\n",
        "pipeline = ImbPipeline(steps=[\n",
        "    ('smote', SMOTE(random_state=42)),\n",
        "    ('model', RandomForestClassifier(random_state=42))\n",
        "])\n",
        "\n",
        "# Step 2: Define scoring metrics for imbalanced data\n",
        "scoring = {\n",
        "    'f1': make_scorer(f1_score),\n",
        "    'precision': make_scorer(precision_score),\n",
        "    'recall': make_scorer(recall_score)\n",
        "}\n",
        "\n",
        "# Step 3: Perform 5-fold cross-validation\n",
        "cv_results = cross_validate(pipeline, X, y, cv=5, scoring=scoring, return_train_score=False)\n",
        "\n",
        "# Step 4: Print average metrics\n",
        "print(\"Average F1-score:\", round(cv_results['test_f1'].mean(), 4))\n",
        "print(\"Average Precision:\", round(cv_results['test_precision'].mean(), 4))\n",
        "print(\"Average Recall:\", round(cv_results['test_recall'].mean(), 4))\n"
      ]
    },
    {
      "cell_type": "markdown",
      "metadata": {
        "id": "TIqpNgepFxVj"
      },
      "source": [
        "##### What technique did you use to handle the imbalance dataset and why? (If needed to be balanced)"
      ]
    },
    {
      "cell_type": "markdown",
      "metadata": {
        "id": "qbet1HwdGDTz"
      },
      "source": [
        "Answer Here.",
        "Answer Here.\n",
        "### Technique Used: SMOTE (Synthetic Minority Oversampling Technique)\n",
        "- Unlike undersampling, it doesn't discard majority class samples\n",
        "- Helps the model better learn patterns related to rare escalations\n",
        "- The original dataset has ~85,000 rows — ideal for synthetic oversampling\n",
        "- We used it inside a cross-validated pipeline to avoid data leakage"
      ]
    },
    {
      "cell_type": "markdown",
      "metadata": {
        "id": "VfCC591jGiD4"
      },
      "source": [
        "## ***7. ML Model Implementation***"
      ]
    },
    {
      "cell_type": "markdown",
      "metadata": {
        "id": "OB4l2ZhMeS1U"
      },
      "source": [
        "### ML Model - 1"
      ]
    },
    {
      "cell_type": "code",
      "execution_count": 60,
      "metadata": {
        "id": "7ebyywQieS1U"
      },
      "outputs": [],
      "source": [
        "# ML Model - 1 Implementation\n",
        "\n",
        "# Fit the Algorithm\n",
        "\n",
        "# Predict on the model"
      ],
      "execution_count": 108,
      "metadata": {
        "id": "7ebyywQieS1U"
      },
      "outputs": [
        {
          "data": {
            "text/html": [
              "<style>#sk-container-id-2 {\n",
              "  /* Definition of color scheme common for light and dark mode */\n",
              "  --sklearn-color-text: #000;\n",
              "  --sklearn-color-text-muted: #666;\n",
              "  --sklearn-color-line: gray;\n",
              "  /* Definition of color scheme for unfitted estimators */\n",
              "  --sklearn-color-unfitted-level-0: #fff5e6;\n",
              "  --sklearn-color-unfitted-level-1: #f6e4d2;\n",
              "  --sklearn-color-unfitted-level-2: #ffe0b3;\n",
              "  --sklearn-color-unfitted-level-3: chocolate;\n",
              "  /* Definition of color scheme for fitted estimators */\n",
              "  --sklearn-color-fitted-level-0: #f0f8ff;\n",
              "  --sklearn-color-fitted-level-1: #d4ebff;\n",
              "  --sklearn-color-fitted-level-2: #b3dbfd;\n",
              "  --sklearn-color-fitted-level-3: cornflowerblue;\n",
              "\n",
              "  /* Specific color for light theme */\n",
              "  --sklearn-color-text-on-default-background: var(--sg-text-color, var(--theme-code-foreground, var(--jp-content-font-color1, black)));\n",
              "  --sklearn-color-background: var(--sg-background-color, var(--theme-background, var(--jp-layout-color0, white)));\n",
              "  --sklearn-color-border-box: var(--sg-text-color, var(--theme-code-foreground, var(--jp-content-font-color1, black)));\n",
              "  --sklearn-color-icon: #696969;\n",
              "\n",
              "  @media (prefers-color-scheme: dark) {\n",
              "    /* Redefinition of color scheme for dark theme */\n",
              "    --sklearn-color-text-on-default-background: var(--sg-text-color, var(--theme-code-foreground, var(--jp-content-font-color1, white)));\n",
              "    --sklearn-color-background: var(--sg-background-color, var(--theme-background, var(--jp-layout-color0, #111)));\n",
              "    --sklearn-color-border-box: var(--sg-text-color, var(--theme-code-foreground, var(--jp-content-font-color1, white)));\n",
              "    --sklearn-color-icon: #878787;\n",
              "  }\n",
              "}\n",
              "\n",
              "#sk-container-id-2 {\n",
              "  color: var(--sklearn-color-text);\n",
              "}\n",
              "\n",
              "#sk-container-id-2 pre {\n",
              "  padding: 0;\n",
              "}\n",
              "\n",
              "#sk-container-id-2 input.sk-hidden--visually {\n",
              "  border: 0;\n",
              "  clip: rect(1px 1px 1px 1px);\n",
              "  clip: rect(1px, 1px, 1px, 1px);\n",
              "  height: 1px;\n",
              "  margin: -1px;\n",
              "  overflow: hidden;\n",
              "  padding: 0;\n",
              "  position: absolute;\n",
              "  width: 1px;\n",
              "}\n",
              "\n",
              "#sk-container-id-2 div.sk-dashed-wrapped {\n",
              "  border: 1px dashed var(--sklearn-color-line);\n",
              "  margin: 0 0.4em 0.5em 0.4em;\n",
              "  box-sizing: border-box;\n",
              "  padding-bottom: 0.4em;\n",
              "  background-color: var(--sklearn-color-background);\n",
              "}\n",
              "\n",
              "#sk-container-id-2 div.sk-container {\n",
              "  /* jupyter's `normalize.less` sets `[hidden] { display: none; }`\n",
              "     but bootstrap.min.css set `[hidden] { display: none !important; }`\n",
              "     so we also need the `!important` here to be able to override the\n",
              "     default hidden behavior on the sphinx rendered scikit-learn.org.\n",
              "     See: https://github.com/scikit-learn/scikit-learn/issues/21755 */\n",
              "  display: inline-block !important;\n",
              "  position: relative;\n",
              "}\n",
              "\n",
              "#sk-container-id-2 div.sk-text-repr-fallback {\n",
              "  display: none;\n",
              "}\n",
              "\n",
              "div.sk-parallel-item,\n",
              "div.sk-serial,\n",
              "div.sk-item {\n",
              "  /* draw centered vertical line to link estimators */\n",
              "  background-image: linear-gradient(var(--sklearn-color-text-on-default-background), var(--sklearn-color-text-on-default-background));\n",
              "  background-size: 2px 100%;\n",
              "  background-repeat: no-repeat;\n",
              "  background-position: center center;\n",
              "}\n",
              "\n",
              "/* Parallel-specific style estimator block */\n",
              "\n",
              "#sk-container-id-2 div.sk-parallel-item::after {\n",
              "  content: \"\";\n",
              "  width: 100%;\n",
              "  border-bottom: 2px solid var(--sklearn-color-text-on-default-background);\n",
              "  flex-grow: 1;\n",
              "}\n",
              "\n",
              "#sk-container-id-2 div.sk-parallel {\n",
              "  display: flex;\n",
              "  align-items: stretch;\n",
              "  justify-content: center;\n",
              "  background-color: var(--sklearn-color-background);\n",
              "  position: relative;\n",
              "}\n",
              "\n",
              "#sk-container-id-2 div.sk-parallel-item {\n",
              "  display: flex;\n",
              "  flex-direction: column;\n",
              "}\n",
              "\n",
              "#sk-container-id-2 div.sk-parallel-item:first-child::after {\n",
              "  align-self: flex-end;\n",
              "  width: 50%;\n",
              "}\n",
              "\n",
              "#sk-container-id-2 div.sk-parallel-item:last-child::after {\n",
              "  align-self: flex-start;\n",
              "  width: 50%;\n",
              "}\n",
              "\n",
              "#sk-container-id-2 div.sk-parallel-item:only-child::after {\n",
              "  width: 0;\n",
              "}\n",
              "\n",
              "/* Serial-specific style estimator block */\n",
              "\n",
              "#sk-container-id-2 div.sk-serial {\n",
              "  display: flex;\n",
              "  flex-direction: column;\n",
              "  align-items: center;\n",
              "  background-color: var(--sklearn-color-background);\n",
              "  padding-right: 1em;\n",
              "  padding-left: 1em;\n",
              "}\n",
              "\n",
              "\n",
              "/* Toggleable style: style used for estimator/Pipeline/ColumnTransformer box that is\n",
              "clickable and can be expanded/collapsed.\n",
              "- Pipeline and ColumnTransformer use this feature and define the default style\n",
              "- Estimators will overwrite some part of the style using the `sk-estimator` class\n",
              "*/\n",
              "\n",
              "/* Pipeline and ColumnTransformer style (default) */\n",
              "\n",
              "#sk-container-id-2 div.sk-toggleable {\n",
              "  /* Default theme specific background. It is overwritten whether we have a\n",
              "  specific estimator or a Pipeline/ColumnTransformer */\n",
              "  background-color: var(--sklearn-color-background);\n",
              "}\n",
              "\n",
              "/* Toggleable label */\n",
              "#sk-container-id-2 label.sk-toggleable__label {\n",
              "  cursor: pointer;\n",
              "  display: flex;\n",
              "  width: 100%;\n",
              "  margin-bottom: 0;\n",
              "  padding: 0.5em;\n",
              "  box-sizing: border-box;\n",
              "  text-align: center;\n",
              "  align-items: start;\n",
              "  justify-content: space-between;\n",
              "  gap: 0.5em;\n",
              "}\n",
              "\n",
              "#sk-container-id-2 label.sk-toggleable__label .caption {\n",
              "  font-size: 0.6rem;\n",
              "  font-weight: lighter;\n",
              "  color: var(--sklearn-color-text-muted);\n",
              "}\n",
              "\n",
              "#sk-container-id-2 label.sk-toggleable__label-arrow:before {\n",
              "  /* Arrow on the left of the label */\n",
              "  content: \"▸\";\n",
              "  float: left;\n",
              "  margin-right: 0.25em;\n",
              "  color: var(--sklearn-color-icon);\n",
              "}\n",
              "\n",
              "#sk-container-id-2 label.sk-toggleable__label-arrow:hover:before {\n",
              "  color: var(--sklearn-color-text);\n",
              "}\n",
              "\n",
              "/* Toggleable content - dropdown */\n",
              "\n",
              "#sk-container-id-2 div.sk-toggleable__content {\n",
              "  max-height: 0;\n",
              "  max-width: 0;\n",
              "  overflow: hidden;\n",
              "  text-align: left;\n",
              "  /* unfitted */\n",
              "  background-color: var(--sklearn-color-unfitted-level-0);\n",
              "}\n",
              "\n",
              "#sk-container-id-2 div.sk-toggleable__content.fitted {\n",
              "  /* fitted */\n",
              "  background-color: var(--sklearn-color-fitted-level-0);\n",
              "}\n",
              "\n",
              "#sk-container-id-2 div.sk-toggleable__content pre {\n",
              "  margin: 0.2em;\n",
              "  border-radius: 0.25em;\n",
              "  color: var(--sklearn-color-text);\n",
              "  /* unfitted */\n",
              "  background-color: var(--sklearn-color-unfitted-level-0);\n",
              "}\n",
              "\n",
              "#sk-container-id-2 div.sk-toggleable__content.fitted pre {\n",
              "  /* unfitted */\n",
              "  background-color: var(--sklearn-color-fitted-level-0);\n",
              "}\n",
              "\n",
              "#sk-container-id-2 input.sk-toggleable__control:checked~div.sk-toggleable__content {\n",
              "  /* Expand drop-down */\n",
              "  max-height: 200px;\n",
              "  max-width: 100%;\n",
              "  overflow: auto;\n",
              "}\n",
              "\n",
              "#sk-container-id-2 input.sk-toggleable__control:checked~label.sk-toggleable__label-arrow:before {\n",
              "  content: \"▾\";\n",
              "}\n",
              "\n",
              "/* Pipeline/ColumnTransformer-specific style */\n",
              "\n",
              "#sk-container-id-2 div.sk-label input.sk-toggleable__control:checked~label.sk-toggleable__label {\n",
              "  color: var(--sklearn-color-text);\n",
              "  background-color: var(--sklearn-color-unfitted-level-2);\n",
              "}\n",
              "\n",
              "#sk-container-id-2 div.sk-label.fitted input.sk-toggleable__control:checked~label.sk-toggleable__label {\n",
              "  background-color: var(--sklearn-color-fitted-level-2);\n",
              "}\n",
              "\n",
              "/* Estimator-specific style */\n",
              "\n",
              "/* Colorize estimator box */\n",
              "#sk-container-id-2 div.sk-estimator input.sk-toggleable__control:checked~label.sk-toggleable__label {\n",
              "  /* unfitted */\n",
              "  background-color: var(--sklearn-color-unfitted-level-2);\n",
              "}\n",
              "\n",
              "#sk-container-id-2 div.sk-estimator.fitted input.sk-toggleable__control:checked~label.sk-toggleable__label {\n",
              "  /* fitted */\n",
              "  background-color: var(--sklearn-color-fitted-level-2);\n",
              "}\n",
              "\n",
              "#sk-container-id-2 div.sk-label label.sk-toggleable__label,\n",
              "#sk-container-id-2 div.sk-label label {\n",
              "  /* The background is the default theme color */\n",
              "  color: var(--sklearn-color-text-on-default-background);\n",
              "}\n",
              "\n",
              "/* On hover, darken the color of the background */\n",
              "#sk-container-id-2 div.sk-label:hover label.sk-toggleable__label {\n",
              "  color: var(--sklearn-color-text);\n",
              "  background-color: var(--sklearn-color-unfitted-level-2);\n",
              "}\n",
              "\n",
              "/* Label box, darken color on hover, fitted */\n",
              "#sk-container-id-2 div.sk-label.fitted:hover label.sk-toggleable__label.fitted {\n",
              "  color: var(--sklearn-color-text);\n",
              "  background-color: var(--sklearn-color-fitted-level-2);\n",
              "}\n",
              "\n",
              "/* Estimator label */\n",
              "\n",
              "#sk-container-id-2 div.sk-label label {\n",
              "  font-family: monospace;\n",
              "  font-weight: bold;\n",
              "  display: inline-block;\n",
              "  line-height: 1.2em;\n",
              "}\n",
              "\n",
              "#sk-container-id-2 div.sk-label-container {\n",
              "  text-align: center;\n",
              "}\n",
              "\n",
              "/* Estimator-specific */\n",
              "#sk-container-id-2 div.sk-estimator {\n",
              "  font-family: monospace;\n",
              "  border: 1px dotted var(--sklearn-color-border-box);\n",
              "  border-radius: 0.25em;\n",
              "  box-sizing: border-box;\n",
              "  margin-bottom: 0.5em;\n",
              "  /* unfitted */\n",
              "  background-color: var(--sklearn-color-unfitted-level-0);\n",
              "}\n",
              "\n",
              "#sk-container-id-2 div.sk-estimator.fitted {\n",
              "  /* fitted */\n",
              "  background-color: var(--sklearn-color-fitted-level-0);\n",
              "}\n",
              "\n",
              "/* on hover */\n",
              "#sk-container-id-2 div.sk-estimator:hover {\n",
              "  /* unfitted */\n",
              "  background-color: var(--sklearn-color-unfitted-level-2);\n",
              "}\n",
              "\n",
              "#sk-container-id-2 div.sk-estimator.fitted:hover {\n",
              "  /* fitted */\n",
              "  background-color: var(--sklearn-color-fitted-level-2);\n",
              "}\n",
              "\n",
              "/* Specification for estimator info (e.g. \"i\" and \"?\") */\n",
              "\n",
              "/* Common style for \"i\" and \"?\" */\n",
              "\n",
              ".sk-estimator-doc-link,\n",
              "a:link.sk-estimator-doc-link,\n",
              "a:visited.sk-estimator-doc-link {\n",
              "  float: right;\n",
              "  font-size: smaller;\n",
              "  line-height: 1em;\n",
              "  font-family: monospace;\n",
              "  background-color: var(--sklearn-color-background);\n",
              "  border-radius: 1em;\n",
              "  height: 1em;\n",
              "  width: 1em;\n",
              "  text-decoration: none !important;\n",
              "  margin-left: 0.5em;\n",
              "  text-align: center;\n",
              "  /* unfitted */\n",
              "  border: var(--sklearn-color-unfitted-level-1) 1pt solid;\n",
              "  color: var(--sklearn-color-unfitted-level-1);\n",
              "}\n",
              "\n",
              ".sk-estimator-doc-link.fitted,\n",
              "a:link.sk-estimator-doc-link.fitted,\n",
              "a:visited.sk-estimator-doc-link.fitted {\n",
              "  /* fitted */\n",
              "  border: var(--sklearn-color-fitted-level-1) 1pt solid;\n",
              "  color: var(--sklearn-color-fitted-level-1);\n",
              "}\n",
              "\n",
              "/* On hover */\n",
              "div.sk-estimator:hover .sk-estimator-doc-link:hover,\n",
              ".sk-estimator-doc-link:hover,\n",
              "div.sk-label-container:hover .sk-estimator-doc-link:hover,\n",
              ".sk-estimator-doc-link:hover {\n",
              "  /* unfitted */\n",
              "  background-color: var(--sklearn-color-unfitted-level-3);\n",
              "  color: var(--sklearn-color-background);\n",
              "  text-decoration: none;\n",
              "}\n",
              "\n",
              "div.sk-estimator.fitted:hover .sk-estimator-doc-link.fitted:hover,\n",
              ".sk-estimator-doc-link.fitted:hover,\n",
              "div.sk-label-container:hover .sk-estimator-doc-link.fitted:hover,\n",
              ".sk-estimator-doc-link.fitted:hover {\n",
              "  /* fitted */\n",
              "  background-color: var(--sklearn-color-fitted-level-3);\n",
              "  color: var(--sklearn-color-background);\n",
              "  text-decoration: none;\n",
              "}\n",
              "\n",
              "/* Span, style for the box shown on hovering the info icon */\n",
              ".sk-estimator-doc-link span {\n",
              "  display: none;\n",
              "  z-index: 9999;\n",
              "  position: relative;\n",
              "  font-weight: normal;\n",
              "  right: .2ex;\n",
              "  padding: .5ex;\n",
              "  margin: .5ex;\n",
              "  width: min-content;\n",
              "  min-width: 20ex;\n",
              "  max-width: 50ex;\n",
              "  color: var(--sklearn-color-text);\n",
              "  box-shadow: 2pt 2pt 4pt #999;\n",
              "  /* unfitted */\n",
              "  background: var(--sklearn-color-unfitted-level-0);\n",
              "  border: .5pt solid var(--sklearn-color-unfitted-level-3);\n",
              "}\n",
              "\n",
              ".sk-estimator-doc-link.fitted span {\n",
              "  /* fitted */\n",
              "  background: var(--sklearn-color-fitted-level-0);\n",
              "  border: var(--sklearn-color-fitted-level-3);\n",
              "}\n",
              "\n",
              ".sk-estimator-doc-link:hover span {\n",
              "  display: block;\n",
              "}\n",
              "\n",
              "/* \"?\"-specific style due to the `<a>` HTML tag */\n",
              "\n",
              "#sk-container-id-2 a.estimator_doc_link {\n",
              "  float: right;\n",
              "  font-size: 1rem;\n",
              "  line-height: 1em;\n",
              "  font-family: monospace;\n",
              "  background-color: var(--sklearn-color-background);\n",
              "  border-radius: 1rem;\n",
              "  height: 1rem;\n",
              "  width: 1rem;\n",
              "  text-decoration: none;\n",
              "  /* unfitted */\n",
              "  color: var(--sklearn-color-unfitted-level-1);\n",
              "  border: var(--sklearn-color-unfitted-level-1) 1pt solid;\n",
              "}\n",
              "\n",
              "#sk-container-id-2 a.estimator_doc_link.fitted {\n",
              "  /* fitted */\n",
              "  border: var(--sklearn-color-fitted-level-1) 1pt solid;\n",
              "  color: var(--sklearn-color-fitted-level-1);\n",
              "}\n",
              "\n",
              "/* On hover */\n",
              "#sk-container-id-2 a.estimator_doc_link:hover {\n",
              "  /* unfitted */\n",
              "  background-color: var(--sklearn-color-unfitted-level-3);\n",
              "  color: var(--sklearn-color-background);\n",
              "  text-decoration: none;\n",
              "}\n",
              "\n",
              "#sk-container-id-2 a.estimator_doc_link.fitted:hover {\n",
              "  /* fitted */\n",
              "  background-color: var(--sklearn-color-fitted-level-3);\n",
              "}\n",
              "</style><div id=\"sk-container-id-2\" class=\"sk-top-container\"><div class=\"sk-text-repr-fallback\"><pre>RandomForestClassifier(class_weight=&#x27;balanced&#x27;, random_state=42)</pre><b>In a Jupyter environment, please rerun this cell to show the HTML representation or trust the notebook. <br />On GitHub, the HTML representation is unable to render, please try loading this page with nbviewer.org.</b></div><div class=\"sk-container\" hidden><div class=\"sk-item\"><div class=\"sk-estimator fitted sk-toggleable\"><input class=\"sk-toggleable__control sk-hidden--visually\" id=\"sk-estimator-id-2\" type=\"checkbox\" checked><label for=\"sk-estimator-id-2\" class=\"sk-toggleable__label fitted sk-toggleable__label-arrow\"><div><div>RandomForestClassifier</div></div><div><a class=\"sk-estimator-doc-link fitted\" rel=\"noreferrer\" target=\"_blank\" href=\"https://scikit-learn.org/1.6/modules/generated/sklearn.ensemble.RandomForestClassifier.html\">?<span>Documentation for RandomForestClassifier</span></a><span class=\"sk-estimator-doc-link fitted\">i<span>Fitted</span></span></div></label><div class=\"sk-toggleable__content fitted\"><pre>RandomForestClassifier(class_weight=&#x27;balanced&#x27;, random_state=42)</pre></div> </div></div></div></div>"
            ],
            "text/plain": [
              "RandomForestClassifier(class_weight='balanced', random_state=42)"
            ]
          },
          "execution_count": 108,
          "metadata": {},
          "output_type": "execute_result"
        }
      ],
      "source": [
        "# ML Model - 1 Implementation\n",
        "from sklearn.ensemble import RandomForestClassifier\n",
        "# Fit the Algorithm\n",
        "rf_model = RandomForestClassifier(class_weight='balanced', random_state=42)\n",
        "rf_model.fit(X_train, y_train)\n",
        "# Predict on the model\n",
        "y_pred_rf = rf_model.predict(X_test)\n",
        "rf_model = RandomForestClassifier(class_weight='balanced', random_state=42)\n",
        "rf_model.fit(X_train, y_train)"
      ]
    },
    {
      "cell_type": "markdown",
      "metadata": {
        "id": "ArJBuiUVfxKd"
      },
      "source": [
        "#### 1. Explain the ML Model used and it's performance using Evaluation metric Score Chart."
      ]
    },
    {
      "cell_type": "code",
      "execution_count": 61,
      "metadata": {
        "id": "rqD5ZohzfxKe"
      },
      "outputs": [],
      "source": [
        "# Visualizing evaluation Metric Score chart"
      ],
      "execution_count": 109,
      "metadata": {
        "id": "rqD5ZohzfxKe"
      },
      "outputs": [
        {
          "name": "stdout",
          "output_type": "stream",
          "text": [
            "Random Forest Classifier Report:\n",
            "               precision    recall  f1-score   support\n",
            "\n",
            "           0       0.84      0.82      0.83     14168\n",
            "           1       0.25      0.28      0.26      3014\n",
            "\n",
            "    accuracy                           0.73     17182\n",
            "   macro avg       0.54      0.55      0.55     17182\n",
            "weighted avg       0.74      0.73      0.73     17182\n",
            "\n"
          ]
        }
      ],
      "source": [
        "# Visualizing evaluation Metric Score chart\n",
        "print(\"Random Forest Classifier Report:\\n\", classification_report(y_test, y_pred_rf))"
      ]
    },
    {
      "cell_type": "markdown",
      "metadata": {
        "id": "4qY1EAkEfxKe"
      },
      "source": [
        "#### 2. Cross- Validation & Hyperparameter Tuning"
      ]
    },
    {
      "cell_type": "code",
      "execution_count": 62,
      "metadata": {
        "id": "Dy61ujd6fxKe"
      },
      "outputs": [],
      "source": [
        "# ML Model - 1 Implementation with hyperparameter optimization techniques (i.e., GridSearch CV, RandomSearch CV, Bayesian Optimization etc.)\n",
        "\n",
        "# Fit the Algorithm\n",
        "\n",
        "# Predict on the model"
      ]
    },
    {
      "cell_type": "code",
      "execution_count": 113,
      "metadata": {},
      "outputs": [],
      "source": [
        "from sklearn.linear_model import LogisticRegression\n",
        "from sklearn.tree import DecisionTreeClassifier\n",
        "from sklearn.ensemble import GradientBoostingClassifier\n",
        "from xgboost import XGBClassifier\n",
        "from sklearn.metrics import accuracy_score,classification_report,ConfusionMatrixDisplay,precision_score,recall_score,f1_score,roc_auc_score,roc_curve"
      ]
    },
    {
      "cell_type": "code",
      "execution_count": 115,
      "metadata": {},
      "outputs": [
        {
          "name": "stdout",
          "output_type": "stream",
          "text": [
            "Logisitic Regression\n",
            "Model performance for Training set\n",
            "- Accuracy: 0.8247\n",
            "- F1 score: 0.7539\n",
            "- Precision: 0.5054\n",
            "- Recall: 0.0271\n",
            "- Roc Auc Score: 0.5107\n",
            "----------------------------------\n",
            "Model performance for Test set\n",
            "- Accuracy: 0.8250\n",
            "- F1 score: 0.7543\n",
            "- Precision: 0.5253\n",
            "- Recall: 0.0275\n",
            "- Roc Auc Score: 0.5111\n",
            "===================================\n",
            "\n",
            "\n",
            "Decision Tree\n",
            "Model performance for Training set\n",
            "- Accuracy: 0.8912\n",
            "- F1 score: 0.8716\n",
            "- Precision: 0.9639\n",
            "- Recall: 0.3947\n",
            "- Roc Auc Score: 0.6958\n",
            "----------------------------------\n",
            "Model performance for Test set\n",
            "- Accuracy: 0.7927\n",
            "- F1 score: 0.7587\n",
            "- Precision: 0.2958\n",
            "- Recall: 0.1317\n",
            "- Roc Auc Score: 0.5325\n",
            "===================================\n",
            "\n",
            "\n",
            "Random Forest\n",
            "Model performance for Training set\n",
            "- Accuracy: 0.8912\n",
            "- F1 score: 0.8736\n",
            "- Precision: 0.9208\n",
            "- Recall: 0.4155\n",
            "- Roc Auc Score: 0.7040\n",
            "----------------------------------\n",
            "Model performance for Test set\n",
            "- Accuracy: 0.7957\n",
            "- F1 score: 0.7601\n",
            "- Precision: 0.3047\n",
            "- Recall: 0.1284\n",
            "- Roc Auc Score: 0.5330\n",
            "===================================\n",
            "\n",
            "\n",
            "Gradient Boost\n",
            "Model performance for Training set\n",
            "- Accuracy: 0.8265\n",
            "- F1 score: 0.7556\n",
            "- Precision: 0.6171\n",
            "- Recall: 0.0293\n",
            "- Roc Auc Score: 0.5127\n",
            "----------------------------------\n",
            "Model performance for Test set\n",
            "- Accuracy: 0.8256\n",
            "- F1 score: 0.7541\n",
            "- Precision: 0.5652\n",
            "- Recall: 0.0259\n",
            "- Roc Auc Score: 0.5108\n",
            "===================================\n",
            "\n",
            "\n",
            "XG Boost\n",
            "Model performance for Training set\n",
            "- Accuracy: 0.8348\n",
            "- F1 score: 0.7770\n",
            "- Precision: 0.7453\n",
            "- Recall: 0.0891\n",
            "- Roc Auc Score: 0.5413\n",
            "----------------------------------\n",
            "Model performance for Test set\n",
            "- Accuracy: 0.8239\n",
            "- F1 score: 0.7613\n",
            "- Precision: 0.4838\n",
            "- Recall: 0.0544\n",
            "- Roc Auc Score: 0.5210\n",
            "===================================\n",
            "\n",
            "\n"
          ]
        }
      ],
      "source": [
        "\n",
        "models={\n",
        "    \"Logisitic Regression\":LogisticRegression(),\n",
        "    \"Decision Tree\":DecisionTreeClassifier(),\n",
        "    \"Random Forest\":RandomForestClassifier(),\n",
        "    \"Gradient Boost\":GradientBoostingClassifier(),\n",
        "    \"XG Boost\" : XGBClassifier()\n",
        "}\n",
        "for i in range(len(list(models))):\n",
        "    model = list(models.values())[i]\n",
        "    model.fit(X_train, y_train) # Train model\n",
        "\n",
        "    # Make predictions\n",
        "    y_train_pred = model.predict(X_train)\n",
        "    y_test_pred = model.predict(X_test)\n",
        "\n",
        "    # Training set performance\n",
        "    model_train_accuracy = accuracy_score(y_train, y_train_pred) # Calculate Accuracy\n",
        "    model_train_f1 = f1_score(y_train, y_train_pred, average='weighted') # Calculate F1-score\n",
        "    model_train_precision = precision_score(y_train, y_train_pred) # Calculate Precision\n",
        "    model_train_recall = recall_score(y_train, y_train_pred) # Calculate Recall\n",
        "    model_train_rocauc_score = roc_auc_score(y_train, y_train_pred)\n",
        "\n",
        "\n",
        "    # Test set performance\n",
        "    model_test_accuracy = accuracy_score(y_test, y_test_pred) # Calculate Accuracy\n",
        "    model_test_f1 = f1_score(y_test, y_test_pred, average='weighted') # Calculate F1-score\n",
        "    model_test_precision = precision_score(y_test, y_test_pred) # Calculate Precision\n",
        "    model_test_recall = recall_score(y_test, y_test_pred) # Calculate Recall\n",
        "    model_test_rocauc_score = roc_auc_score(y_test, y_test_pred) #Calculate Roc\n",
        "\n",
        "\n",
        "    print(list(models.keys())[i])\n",
        "    \n",
        "    print('Model performance for Training set')\n",
        "    print(\"- Accuracy: {:.4f}\".format(model_train_accuracy))\n",
        "    print('- F1 score: {:.4f}'.format(model_train_f1))\n",
        "    \n",
        "    print('- Precision: {:.4f}'.format(model_train_precision))\n",
        "    print('- Recall: {:.4f}'.format(model_train_recall))\n",
        "    print('- Roc Auc Score: {:.4f}'.format(model_train_rocauc_score))\n",
        "\n",
        "    \n",
        "    \n",
        "    print('----------------------------------')\n",
        "    \n",
        "    print('Model performance for Test set')\n",
        "    print('- Accuracy: {:.4f}'.format(model_test_accuracy))\n",
        "    print('- F1 score: {:.4f}'.format(model_test_f1))\n",
        "    print('- Precision: {:.4f}'.format(model_test_precision))\n",
        "    print('- Recall: {:.4f}'.format(model_test_recall))\n",
        "    print('- Roc Auc Score: {:.4f}'.format(model_test_rocauc_score))\n",
        "\n",
        "    \n",
        "    print('='*35)\n",
        "    print('\\n')"
      ]
    },
    {
      "cell_type": "code",
      "execution_count": 116,
      "metadata": {},
      "outputs": [],
      "source": [
        "rf_params = {\"max_depth\": [5, 8, 15, None, 10],\n",
        "             \"max_features\": [5, 7, \"auto\", 8],\n",
        "             \"min_samples_split\": [2, 8, 15, 20],\n",
        "             \"n_estimators\": [100, 200, 500, 1000]}"
      ]
    },
    {
      "cell_type": "code",
      "execution_count": 117,
      "metadata": {},
      "outputs": [],
      "source": [
        "randomcv_models = [\n",
        "                   (\"RF\", RandomForestClassifier(), rf_params)\n",
        "                   \n",
        "                   ]"
      ]
    },
    {
      "cell_type": "code",
      "execution_count": 118,
      "metadata": {},
      "outputs": [
        {
          "name": "stdout",
          "output_type": "stream",
          "text": [
            "Fitting 3 folds for each of 100 candidates, totalling 300 fits\n"
          ]
        },
        {
          "name": "stderr",
          "output_type": "stream",
          "text": [
            "C:\\Users\\sumit\\AppData\\Roaming\\Python\\Python312\\site-packages\\sklearn\\model_selection\\_validation.py:528: FitFailedWarning: \n",
            "72 fits failed out of a total of 300.\n",
            "The score on these train-test partitions for these parameters will be set to nan.\n",
            "If these failures are not expected, you can try to debug them by setting error_score='raise'.\n",
            "\n",
            "Below are more details about the failures:\n",
            "--------------------------------------------------------------------------------\n",
            "57 fits failed with the following error:\n",
            "Traceback (most recent call last):\n",
            "  File \"C:\\Users\\sumit\\AppData\\Roaming\\Python\\Python312\\site-packages\\sklearn\\model_selection\\_validation.py\", line 866, in _fit_and_score\n",
            "    estimator.fit(X_train, y_train, **fit_params)\n",
            "  File \"C:\\Users\\sumit\\AppData\\Roaming\\Python\\Python312\\site-packages\\sklearn\\base.py\", line 1382, in wrapper\n",
            "    estimator._validate_params()\n",
            "  File \"C:\\Users\\sumit\\AppData\\Roaming\\Python\\Python312\\site-packages\\sklearn\\base.py\", line 436, in _validate_params\n",
            "    validate_parameter_constraints(\n",
            "  File \"C:\\Users\\sumit\\AppData\\Roaming\\Python\\Python312\\site-packages\\sklearn\\utils\\_param_validation.py\", line 98, in validate_parameter_constraints\n",
            "    raise InvalidParameterError(\n",
            "sklearn.utils._param_validation.InvalidParameterError: The 'max_features' parameter of RandomForestClassifier must be an int in the range [1, inf), a float in the range (0.0, 1.0], a str among {'sqrt', 'log2'} or None. Got 'auto' instead.\n",
            "\n",
            "--------------------------------------------------------------------------------\n",
            "15 fits failed with the following error:\n",
            "Traceback (most recent call last):\n",
            "  File \"C:\\Users\\sumit\\AppData\\Roaming\\Python\\Python312\\site-packages\\sklearn\\model_selection\\_validation.py\", line 866, in _fit_and_score\n",
            "    estimator.fit(X_train, y_train, **fit_params)\n",
            "  File \"C:\\Users\\sumit\\AppData\\Roaming\\Python\\Python312\\site-packages\\sklearn\\base.py\", line 1382, in wrapper\n",
            "    estimator._validate_params()\n",
            "  File \"C:\\Users\\sumit\\AppData\\Roaming\\Python\\Python312\\site-packages\\sklearn\\base.py\", line 436, in _validate_params\n",
            "    validate_parameter_constraints(\n",
            "  File \"C:\\Users\\sumit\\AppData\\Roaming\\Python\\Python312\\site-packages\\sklearn\\utils\\_param_validation.py\", line 98, in validate_parameter_constraints\n",
            "    raise InvalidParameterError(\n",
            "sklearn.utils._param_validation.InvalidParameterError: The 'max_features' parameter of RandomForestClassifier must be an int in the range [1, inf), a float in the range (0.0, 1.0], a str among {'log2', 'sqrt'} or None. Got 'auto' instead.\n",
            "\n",
            "  warnings.warn(some_fits_failed_message, FitFailedWarning)\n",
            "C:\\Users\\sumit\\AppData\\Roaming\\Python\\Python312\\site-packages\\sklearn\\model_selection\\_search.py:1108: UserWarning: One or more of the test scores are non-finite: [0.82575483 0.81634049 0.79821028        nan 0.82536196 0.82590033\n",
            " 0.82524555 0.82552201        nan        nan        nan 0.82294653\n",
            " 0.82569662 0.82393598 0.81044745 0.82530375 0.82341215 0.82552201\n",
            " 0.82454711 0.82588578 0.81552566 0.82549291 0.79714807 0.81695162\n",
            "        nan 0.81884321 0.82317934 0.82499819        nan 0.82547836\n",
            " 0.82578393 0.82297563        nan 0.8252019  0.82278647        nan\n",
            " 0.81932339        nan 0.81919244 0.81901783 0.82479447 0.82574027\n",
            " 0.8243725         nan 0.821506   0.82383413 0.82518735 0.82549291\n",
            " 0.82450345 0.81970171 0.82133139 0.8254347  0.82539106 0.82335395\n",
            " 0.82537651 0.82422699 0.82563842        nan 0.82571117 0.80864315\n",
            " 0.82568207 0.82536196 0.82572572        nan 0.82486722 0.82492543\n",
            " 0.82514369 0.82341215        nan 0.82565297        nan        nan\n",
            " 0.82290288 0.81974536        nan 0.82364497 0.82587123 0.82565297\n",
            " 0.81599128 0.81698073 0.82547836 0.82090942        nan        nan\n",
            " 0.82128774        nan 0.81021464 0.82530375        nan 0.82422699\n",
            " 0.8252892         nan 0.82377591 0.82399419        nan 0.82472172\n",
            "        nan 0.82582758 0.82565297        nan]\n",
            "  warnings.warn(\n"
          ]
        },
        {
          "name": "stdout",
          "output_type": "stream",
          "text": [
            "---------------- Best Params for RF -------------------\n",
            "{'n_estimators': 200, 'min_samples_split': 8, 'max_features': 5, 'max_depth': 5}\n"
          ]
        }
      ],
      "source": [
        "from sklearn.model_selection import RandomizedSearchCV\n",
        "\n",
        "model_param = {}\n",
        "for name, model, params in randomcv_models:\n",
        "    random = RandomizedSearchCV(estimator=model,\n",
        "                                   param_distributions=params,\n",
        "                                   n_iter=100,\n",
        "                                   cv=3,\n",
        "                                   verbose=2,\n",
        "                                   n_jobs=-1)\n",
        "    random.fit(X_train, y_train)\n",
        "    model_param[name] = random.best_params_\n",
        "\n",
        "for model_name in model_param:\n",
        "    print(f\"---------------- Best Params for {model_name} -------------------\")\n",
        "    print(model_param[model_name])\n"
      ]
    },
    {
      "cell_type": "code",
      "execution_count": 119,
      "metadata": {},
      "outputs": [
        {
          "name": "stdout",
          "output_type": "stream",
          "text": [
            "Random Forest\n",
            "Model performance for Training set\n",
            "- Accuracy: 0.8912\n",
            "- F1 score: 0.8728\n",
            "- Precision: 0.9375\n",
            "- Recall: 0.4071\n",
            "- Roc Auc Score: 0.7006\n",
            "----------------------------------\n",
            "Model performance for Test set\n",
            "- Accuracy: 0.8008\n",
            "- F1 score: 0.7614\n",
            "- Precision: 0.3172\n",
            "- Recall: 0.1178\n",
            "- Roc Auc Score: 0.5319\n",
            "===================================\n",
            "\n",
            "\n"
          ]
        }
      ],
      "source": [
        "models={\n",
        "    \n",
        "    \"Random Forest\":RandomForestClassifier(n_estimators=1000,min_samples_split=2,\n",
        "                                          max_features=7,max_depth=None)\n",
        "}\n",
        "for i in range(len(list(models))):\n",
        "    model = list(models.values())[i]\n",
        "    model.fit(X_train, y_train) # Train model\n",
        "\n",
        "    # Make predictions\n",
        "    y_train_pred = model.predict(X_train)\n",
        "    y_test_pred = model.predict(X_test)\n",
        "\n",
        "    # Training set performance\n",
        "    model_train_accuracy = accuracy_score(y_train, y_train_pred) # Calculate Accuracy\n",
        "    model_train_f1 = f1_score(y_train, y_train_pred, average='weighted') # Calculate F1-score\n",
        "    model_train_precision = precision_score(y_train, y_train_pred) # Calculate Precision\n",
        "    model_train_recall = recall_score(y_train, y_train_pred) # Calculate Recall\n",
        "    model_train_rocauc_score = roc_auc_score(y_train, y_train_pred)\n",
        "\n",
        "\n",
        "    # Test set performance\n",
        "    model_test_accuracy = accuracy_score(y_test, y_test_pred) # Calculate Accuracy\n",
        "    model_test_f1 = f1_score(y_test, y_test_pred, average='weighted') # Calculate F1-score\n",
        "    model_test_precision = precision_score(y_test, y_test_pred) # Calculate Precision\n",
        "    model_test_recall = recall_score(y_test, y_test_pred) # Calculate Recall\n",
        "    model_test_rocauc_score = roc_auc_score(y_test, y_test_pred) #Calculate Roc\n",
        "\n",
        "\n",
        "    print(list(models.keys())[i])\n",
        "    \n",
        "    print('Model performance for Training set')\n",
        "    print(\"- Accuracy: {:.4f}\".format(model_train_accuracy))\n",
        "    print('- F1 score: {:.4f}'.format(model_train_f1))\n",
        "    \n",
        "    print('- Precision: {:.4f}'.format(model_train_precision))\n",
        "    print('- Recall: {:.4f}'.format(model_train_recall))\n",
        "    print('- Roc Auc Score: {:.4f}'.format(model_train_rocauc_score))\n",
        "\n",
        "    \n",
        "    \n",
        "    print('----------------------------------')\n",
        "    \n",
        "    print('Model performance for Test set')\n",
        "    print('- Accuracy: {:.4f}'.format(model_test_accuracy))\n",
        "    print('- F1 score: {:.4f}'.format(model_test_f1))\n",
        "    print('- Precision: {:.4f}'.format(model_test_precision))\n",
        "    print('- Recall: {:.4f}'.format(model_test_recall))\n",
        "    print('- Roc Auc Score: {:.4f}'.format(model_test_rocauc_score))\n",
        "\n",
        "    \n",
        "    print('='*35)\n",
        "    print('\\n')\n"
      ]
    },
    {
      "cell_type": "code",
      "execution_count": 120,
      "metadata": {},
      "outputs": [
        {
          "data": {
            "image/png": "[encoded data removed]",
            "text/plain": [
              "<Figure size 640x480 with 1 Axes>"
            ]
          },
          "metadata": {},
          "output_type": "display_data"
        }
      ],
      "source": [
        "from sklearn.metrics import roc_auc_score,roc_curve\n",
        "import os\n",
        "os.makedirs(\"assets\", exist_ok=True)\n",
        "plt.figure()\n",
        "\n",
        "# Add the models to the list that you want to view on the ROC plot\n",
        "auc_models = [\n",
        "{\n",
        "    'label': 'Random Forest Classifier',\n",
        "    'model': RandomForestClassifier(n_estimators=1000,min_samples_split=2,\n",
        "                                          max_features=7,max_depth=None),\n",
        "    'auc':  0.8325\n",
        "},\n",
        "    \n",
        "]\n",
        "# create loop through all model\n",
        "for algo in auc_models:\n",
        "    model = algo['model'] # select the model\n",
        "    model.fit(X_train, y_train) # train the model\n",
        "# Compute False postive rate, and True positive rate\n",
        "    fpr, tpr, thresholds = roc_curve(y_test, model.predict_proba(X_test)[:,1])\n",
        "# Calculate Area under the curve to display on the plot\n",
        "    plt.plot(fpr, tpr, label='%s ROC (area = %0.2f)' % (algo['label'], algo['auc']))\n",
        "# Custom settings for the plot \n",
        "plt.plot([0, 1], [0, 1],'r--')\n",
        "plt.xlim([0.0, 1.0])\n",
        "plt.ylim([0.0, 1.05])\n",
        "plt.xlabel('1-Specificity(False Positive Rate)')\n",
        "plt.ylabel('Sensitivity(True Positive Rate)')\n",
        "plt.title('Receiver Operating Characteristic')\n",
        "plt.legend(loc=\"lower right\")\n",
        "plt.savefig(\"assets/auc.png\")\n",
        "plt.show() "
      ]
    },
    {
      "cell_type": "markdown",
      "metadata": {
        "id": "PiV4Ypx8fxKe"
      },
      "source": [
        "##### Which hyperparameter optimization technique have you used and why?"
      ]
    },
    {
      "cell_type": "markdown",
      "metadata": {
        "id": "negyGRa7fxKf"
      },
      "source": [
        "Answer Here.",
        "Answer Here.\n",
        "### Model 1: Random Forest\n",
        "### Optimization Technique Used: RandomizedSearchCV\n",
        "### Why:\n",
        "- Random Forest has a moderate number of hyperparameters that can significantly affect performance, such as n_estimators, max_depth, min_samples_split, min_samples_leaf, and class_weight.\n",
        "\n",
        "- Instead of exhaustively trying every combination (which GridSearchCV does), we used RandomizedSearchCV to sample a wide range of parameter combinations efficiently.\n",
        "\n",
        "- It offers a good trade-off between performance and computational cost, especially with larger datasets or broader parameter spaces.\n",
        "\n",
        "- Cross-validation ensures that the selected parameters generalize well and are not overfitting to a single train-test split."
      ]
    },
    {
      "cell_type": "markdown",
      "metadata": {
        "id": "TfvqoZmBfxKf"
      },
      "source": [
        "##### Have you seen any improvement? Note down the improvement with updates Evaluation metric Score Chart."
      ]
    },
    {
      "cell_type": "markdown",
      "metadata": {
        "id": "OaLui8CcfxKf"
      },
      "source": [
        "Answer Here."
      ]
    },
    {
      "cell_type": "markdown",
      "metadata": {
        "id": "dJ2tPlVmpsJ0"
      },
      "source": [
        "### ML Model - 2"
      ]
    },
    {
      "cell_type": "markdown",
      "metadata": {
        "id": "JWYfwnehpsJ1"
      },
      "source": [
        "#### 1. Explain the ML Model used and it's performance using Evaluation metric Score Chart."
      ]
    },
    {
      "cell_type": "code",
      "execution_count": 63,
      "metadata": {
        "id": "yEl-hgQWpsJ1"
      },
      "outputs": [],
      "source": [
        "# Visualizing evaluation Metric Score chart"
      ]
    },
    {
      "cell_type": "markdown",
      "metadata": {
        "id": "-jK_YjpMpsJ2"
      },
      "source": [
        "#### 2. Cross- Validation & Hyperparameter Tuning"
      ]
    },
    {
      "cell_type": "code",
      "execution_count": 64,
      "metadata": {
        "id": "Dn0EOfS6psJ2"
      },
      "outputs": [],
      "source": [
        "# ML Model - 1 Implementation with hyperparameter optimization techniques (i.e., GridSearch CV, RandomSearch CV, Bayesian Optimization etc.)\n",
        "\n",
        "# Fit the Algorithm\n",
        "\n",
        "# Predict on the model"
      ]
    },
    {
      "cell_type": "markdown",
      "metadata": {
        "id": "HAih1iBOpsJ2"
      },
      "source": [
        "##### Which hyperparameter optimization technique have you used and why?"
      ]
    },
    {
      "cell_type": "markdown",
      "metadata": {
        "id": "9kBgjYcdpsJ2"
      },
      "source": [
        "Answer Here."
      ]
    },
    {
      "cell_type": "markdown",
      "metadata": {
        "id": "zVGeBEFhpsJ2"
      },
      "source": [
        "##### Have you seen any improvement? Note down the improvement with updates Evaluation metric Score Chart."
      ]
    },
    {
      "cell_type": "markdown",
      "metadata": {
        "id": "74yRdG6UpsJ3"
      },
      "source": [
        "Answer Here."
      ]
    },
    {
      "cell_type": "markdown",
      "metadata": {
        "id": "bmKjuQ-FpsJ3"
      },
      "source": [
        "#### 3. Explain each evaluation metric's indication towards business and the business impact pf the ML model used."
      ]
    },
    {
      "cell_type": "markdown",
      "metadata": {
        "id": "BDKtOrBQpsJ3"
      },
      "source": [
        "Answer Here."
      ]
    },
    {
      "cell_type": "markdown",
      "metadata": {
        "id": "Fze-IPXLpx6K"
      },
      "source": [
        "### ML Model - 3"
      ]
    },
    {
      "cell_type": "code",
      "execution_count": 65,
      "metadata": {
        "id": "FFrSXAtrpx6M"
      },
      "outputs": [],
      "source": [
        "# ML Model - 3 Implementation\n",
        "\n",
        "# Fit the Algorithm\n",
        "\n",
        "# Predict on the model"
      ]
    },
    {
      "cell_type": "markdown",
      "metadata": {
        "id": "7AN1z2sKpx6M"
      },
      "source": [
        "#### 1. Explain the ML Model used and it's performance using Evaluation metric Score Chart."
      ]
    },
    {
      "cell_type": "code",
      "execution_count": 66,
      "metadata": {
        "id": "xIY4lxxGpx6M"
      },
      "outputs": [],
      "source": [
        "# Visualizing evaluation Metric Score chart"
      ]
    },
    {
      "cell_type": "markdown",
      "metadata": {
        "id": "9PIHJqyupx6M"
      },
      "source": [
        "#### 2. Cross- Validation & Hyperparameter Tuning"
      ]
    },
    {
      "cell_type": "code",
      "execution_count": 67,
      "metadata": {
        "id": "eSVXuaSKpx6M"
      },
      "outputs": [],
      "source": [
        "# ML Model - 3 Implementation with hyperparameter optimization techniques (i.e., GridSearch CV, RandomSearch CV, Bayesian Optimization etc.)\n",
        "\n",
        "# Fit the Algorithm\n",
        "\n",
        "# Predict on the model"
      ]
    },
    {
      "cell_type": "markdown",
      "metadata": {
        "id": "_-qAgymDpx6N"
      },
      "source": [
        "##### Which hyperparameter optimization technique have you used and why?"
      ]
    },
    {
      "cell_type": "markdown",
      "metadata": {
        "id": "lQMffxkwpx6N"
      },
      "source": [
        "Answer Here."
      ]
    },
    {
      "cell_type": "markdown",
      "metadata": {
        "id": "Z-hykwinpx6N"
      },
      "source": [
        "##### Have you seen any improvement? Note down the improvement with updates Evaluation metric Score Chart."
      ]
    },
    {
      "cell_type": "markdown",
      "metadata": {
        "id": "MzVzZC6opx6N"
      },
      "source": [
        "Answer Here.",
        "Answer Here.\n",
        "### The accuracy has not improved whereas there are changes in the precision,recall and f1-score."
      ]
    },
    {
      "cell_type": "markdown",
      "metadata": {
        "id": "h_CCil-SKHpo"
      },
      "source": [
        "### 1. Which Evaluation metrics did you consider for a positive business impact and why?"
      ]
    },
    {
      "cell_type": "markdown",
      "metadata": {
        "id": "jHVz9hHDKFms"
      },
      "source": [
        "Answer Here.",
        "Answer Here.\n",
        "- Misleading in imbalanced data — can look high even if model misses escalations.\n",
        "- High precision means fewer false alarms sent to escalation team. Saves resources.\n",
        "- Crucial — high recall ensures critical cases aren't missed. Reduces customer churn.\n",
        "- Best single metric for imbalanced classification. Business needs both accuracy and coverage."
      ]
    },
    {
      "cell_type": "markdown",
      "metadata": {
        "id": "cBFFvTBNJzUa"
      },
      "source": [
        "### 2. Which ML model did you choose from the above created models as your final prediction model and why?"
      ]
    },
    {
      "cell_type": "markdown",
      "metadata": {
        "id": "6ksF5Q1LKTVm"
      },
      "source": [
        "Answer Here.",
        "Answer Here.\n",
        "## I have choosen RandomForest,because it has highest accuracy."
      ]
    },
    {
      "cell_type": "markdown",
      "metadata": {
        "id": "HvGl1hHyA_VK"
      },
      "source": [
        "### 3. Explain the model which you have used and the feature importance using any model explainability tool?"
      ]
    },
    {
      "cell_type": "markdown",
      "metadata": {
        "id": "YnvVTiIxBL-C"
      },
      "source": [
        "Answer Here.",
        "Answer Here.\n",
        "### Element-----------------------------------------------------Description\n",
        "- Model------------------------------------------------------->Random Forest Classifier\n",
        "- Why Chosen-------------------------------------------------->Accurate, interpretable, handles imbalance\n",
        "- Feature Importance--------------------------------------->Built-in (feature_importances_), visualized using bar chart\n",
        "- Explainability --------------------------------------------->Tool\tSHAP for global and local interpretability"
      ]
    },
    {
      "cell_type": "markdown",
      "metadata": {
        "id": "EyNgTHvd2WFk"
      },
      "source": [
        "## ***8.*** ***Future Work (Optional)***"
      ]
    },
    {
      "cell_type": "markdown",
      "metadata": {
        "id": "KH5McJBi2d8v"
      },
      "source": [
        "### 1. Save the best performing ml model in a pickle file or joblib file format for deployment process.\n"
      ]
    },
    {
      "cell_type": "code",
      "execution_count": 68,
      "metadata": {
        "id": "bQIANRl32f4J"
      },
      "outputs": [],
      "source": [
        "# Save the File"
      ],
      "execution_count": 127,
      "metadata": {
        "id": "bQIANRl32f4J"
      },
      "outputs": [
        {
          "name": "stdout",
          "output_type": "stream",
          "text": [
            "✅ Model saved to: models/random_forest_model.pkl\n"
          ]
        }
      ],
      "source": [
        "import pickle\n",
        "import os\n",
        "\n",
        "# Create folder to save models\n",
        "os.makedirs(\"models\", exist_ok=True)\n",
        "\n",
        "# Save the model using pickle\n",
        "model_name = list(models.keys())[i].replace(\" \", \"_\").lower()\n",
        "model_filename = f\"models/{model_name}_model.pkl\"\n",
        "\n",
        "with open(model_filename, 'wb') as file:\n",
        "    pickle.dump(model, file)\n",
        "\n",
        "print(f\"✅ Model saved to: {model_filename}\")"
      ]
    },
    {
      "cell_type": "markdown",
      "metadata": {
        "id": "iW_Lq9qf2h6X"
      },
      "source": [
        "### 2. Again Load the saved model file and try to predict unseen data for a sanity check.\n"
      ]
    },
    {
      "cell_type": "code",
      "execution_count": 69,
      "execution_count": 122,
      "metadata": {
        "id": "oEXk9ydD2nVC"
      },
      "outputs": [],
      "source": [
        "# Load the File and predict unseen data.",
        "# Load the File and predict unseen data.\n",
        "with open(\"models/random_forest_model.pkl\", \"rb\") as file:\n",
        "    loaded_model = pickle.load(file)"
      ]
    },
    {
      "cell_type": "code",
      "execution_count": 123,
      "metadata": {},
      "outputs": [],
      "source": [
        "selected_features = [\n",
        "    'response_time_minutes', 'Item_price', \n",
        "    'channel_name_Inbound', 'Tenure Bucket_>90', \n",
        "    'Agent Shift_Evening', 'channel_name_Outcall', \n",
        "    'Agent Shift_Morning', 'Tenure Bucket_31-60', \n",
        "    'Tenure Bucket_On Job Training', 'Tenure Bucket_61-90'\n",
        "]\n",
        "\n",
        "# Create a DataFrame for one sample (unseen data)\n",
        "sample_input = pd.DataFrame([[\n",
        "    42.5,        # response_time_minutes\n",
        "    1599.0,      # Item_price\n",
        "    1,           # channel_name_Inbound\n",
        "    0,           # Tenure Bucket_>90\n",
        "    1,           # Agent Shift_Evening\n",
        "    0,           # channel_name_Outcall\n",
        "    0,           # Agent Shift_Morning\n",
        "    1,           # Tenure Bucket_31-60\n",
        "    0,           # Tenure Bucket_On Job Training\n",
        "    0            # Tenure Bucket_61-90\n",
        "]], columns=selected_features)"
      ]
    },
    {
      "cell_type": "code",
      "execution_count": 126,
      "metadata": {},
      "outputs": [
        {
          "name": "stdout",
          "output_type": "stream",
          "text": [
            "Overall Accuracy on Test Set: 80.12 %\n",
            "Predicted Class: 1\n",
            "Prediction Probability (Not Escalated, Escalated): [0.349 0.651]\n"
          ]
        }
      ],
      "source": [
        "# Predict class (0 or 1)\n",
        "prediction = loaded_model.predict(sample_input)\n",
        "\n",
        "# Predict probability (optional)\n",
        "probability = loaded_model.predict_proba(sample_input)\n",
        "\n",
        "# Predict on multiple samples (e.g., X_test)\n",
        "y_pred = loaded_model.predict(X_test)\n",
        "\n",
        "# Calculate accuracy on entire test set\n",
        "from sklearn.metrics import accuracy_score\n",
        "accuracy = accuracy_score(y_test, y_pred)\n",
        "\n",
        "print(\"Overall Accuracy on Test Set:\", round(accuracy * 100, 2), \"%\")\n",
        "print(\"Predicted Class:\", prediction[0])\n",
        "print(\"Prediction Probability (Not Escalated, Escalated):\", probability[0])"
      ]
    },
    {
      "cell_type": "markdown",
      "metadata": {
        "id": "-Kee-DAl2viO"
      },
      "source": [
        "### ***Congrats! Your model is successfully created and ready for deployment on a live server for a real user interaction !!!***"
      ]
    },
    {
      "cell_type": "markdown",
      "metadata": {
        "id": "gCX9965dhzqZ"
      },
      "source": [
        "# **Conclusion**"
      ]
    },
    {
      "cell_type": "markdown",
      "metadata": {
        "id": "Fjb1IsQkh3yE"
      },
      "source": [
        "Write the conclusion here."
      ]
    },
    {
      "cell_type": "markdown",
      "metadata": {
        "id": "gIfDvo9L0UH2"
      },
      "source": [
        "### ***Hurrah! You have successfully completed your Machine Learning Capstone Project !!!***"
      ]
    }
  ],
  "metadata": {
    "colab": {
      "collapsed_sections": [
        "vncDsAP0Gaoa",
        "FJNUwmbgGyua",
        "w6K7xa23Elo4",
        "yQaldy8SH6Dl",
        "mDgbUHAGgjLW",
        "O_i_v8NEhb9l",
        "HhfV-JJviCcP",
        "Y3lxredqlCYt",
        "3RnN4peoiCZX",
        "x71ZqKXriCWQ",
        "7hBIi_osiCS2",
        "JlHwYmJAmNHm",
        "35m5QtbWiB9F",
        "PoPl-ycgm1ru",
        "H0kj-8xxnORC",
        "nA9Y7ga8ng1Z",
        "PBTbrJXOngz2",
        "u3PMJOP6ngxN",
        "dauF4eBmngu3",
        "bKJF3rekwFvQ",
        "MSa1f5Uengrz",
        "GF8Ens_Soomf",
        "0wOQAZs5pc--",
        "K5QZ13OEpz2H",
        "lQ7QKXXCp7Bj",
        "448CDAPjqfQr",
        "KSlN3yHqYklG",
        "t6dVpIINYklI",
        "ijmpgYnKYklI",
        "-JiQyfWJYklI",
        "EM7whBJCYoAo",
        "fge-S5ZAYoAp",
        "85gYPyotYoAp",
        "RoGjAbkUYoAp",
        "4Of9eVA-YrdM",
        "iky9q4vBYrdO",
        "F6T5p64dYrdO",
        "y-Ehk30pYrdP",
        "bamQiAODYuh1",
        "QHF8YVU7Yuh3",
        "GwzvFGzlYuh3",
        "qYpmQ266Yuh3",
        "OH-pJp9IphqM",
        "bbFf2-_FphqN",
        "_ouA3fa0phqN",
        "Seke61FWphqN",
        "PIIx-8_IphqN",
        "t27r6nlMphqO",
        "r2jJGEOYphqO",
        "b0JNsNcRphqO",
        "BZR9WyysphqO",
        "jj7wYXLtphqO",
        "eZrbJ2SmphqO",
        "rFu4xreNphqO",
        "YJ55k-q6phqO",
        "gCFgpxoyphqP",
        "OVtJsKN_phqQ",
        "lssrdh5qphqQ",
        "U2RJ9gkRphqQ",
        "1M8mcRywphqQ",
        "tgIPom80phqQ",
        "JMzcOPDDphqR",
        "x-EpHcCOp1ci",
        "X_VqEhTip1ck",
        "8zGJKyg5p1ck",
        "PVzmfK_Ep1ck",
        "n3dbpmDWp1ck",
        "ylSl6qgtp1ck",
        "ZWILFDl5p1ck",
        "M7G43BXep1ck",
        "Ag9LCva-p1cl",
        "E6MkPsBcp1cl",
        "2cELzS2fp1cl",
        "3MPXvC8up1cl",
        "NC_X3p0fY2L0",
        "UV0SzAkaZNRQ",
        "YPEH6qLeZNRQ",
        "q29F0dvdveiT",
        "EXh0U9oCveiU",
        "22aHeOlLveiV",
        "g-ATYxFrGrvw",
        "Yfr_Vlr8HBkt",
        "8yEUt7NnHlrM",
        "tEA2Xm5dHt1r",
        "I79__PHVH19G",
        "Ou-I18pAyIpj",
        "fF3858GYyt-u",
        "4_0_7-oCpUZd",
        "hwyV_J3ipUZe",
        "3yB-zSqbpUZe",
        "dEUvejAfpUZe",
        "Fd15vwWVpUZf",
        "bn_IUdTipZyH",
        "49K5P_iCpZyH",
        "Nff-vKELpZyI",
        "kLW572S8pZyI",
        "dWbDXHzopZyI",
        "yLjJCtPM0KBk",
        "xiyOF9F70UgQ",
        "7wuGOrhz0itI",
        "id1riN9m0vUs",
        "578E2V7j08f6",
        "89xtkJwZ18nB",
        "67NQN5KX2AMe",
        "Iwf50b-R2tYG",
        "GMQiZwjn3iu7",
        "WVIkgGqN3qsr",
        "XkPnILGE3zoT",
        "Hlsf0x5436Go",
        "mT9DMSJo4nBL",
        "c49ITxTc407N",
        "OeJFEK0N496M",
        "9ExmJH0g5HBk",
        "cJNqERVU536h",
        "k5UmGsbsOxih",
        "T0VqWOYE6DLQ",
        "qBMux9mC6MCf",
        "-oLEiFgy-5Pf",
        "C74aWNz2AliB",
        "2DejudWSA-a0",
        "pEMng2IbBLp7",
        "rAdphbQ9Bhjc",
        "TNVZ9zx19K6k",
        "nqoHp30x9hH9",
        "rMDnDkt2B6du",
        "yiiVWRdJDDil",
        "1UUpS68QDMuG",
        "kexQrXU-DjzY",
        "T5CmagL3EC8N",
        "BhH2vgX9EjGr",
        "qjKvONjwE8ra",
        "P1XJ9OREExlT",
        "VFOzZv6IFROw",
        "TIqpNgepFxVj",
        "VfCC591jGiD4",
        "OB4l2ZhMeS1U",
        "ArJBuiUVfxKd",
        "4qY1EAkEfxKe",
        "PiV4Ypx8fxKe",
        "TfvqoZmBfxKf",
        "dJ2tPlVmpsJ0",
        "JWYfwnehpsJ1",
        "-jK_YjpMpsJ2",
        "HAih1iBOpsJ2",
        "zVGeBEFhpsJ2",
        "bmKjuQ-FpsJ3",
        "Fze-IPXLpx6K",
        "7AN1z2sKpx6M",
        "9PIHJqyupx6M",
        "_-qAgymDpx6N",
        "Z-hykwinpx6N",
        "h_CCil-SKHpo",
        "cBFFvTBNJzUa",
        "HvGl1hHyA_VK",
        "EyNgTHvd2WFk",
        "KH5McJBi2d8v",
        "iW_Lq9qf2h6X",
        "-Kee-DAl2viO",
        "gCX9965dhzqZ",
        "gIfDvo9L0UH2"
      ],
      "private_outputs": true,
      "provenance": []
    },
    "kernelspec": {
      "display_name": "flipkart-env",
      "language": "python",
      "name": "python3"
    },
    "language_info": {
      "codemirror_mode": {
        "name": "ipython",
        "version": 3
      },
      "file_extension": ".py",
      "mimetype": "text/x-python",
      "name": "python",
      "nbconvert_exporter": "python",
      "pygments_lexer": "ipython3",
      "version": "3.12.8"
    }
  },
  "nbformat": 4,
  "nbformat_minor": 0
}
